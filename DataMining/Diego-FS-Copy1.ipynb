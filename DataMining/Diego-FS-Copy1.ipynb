{
 "cells": [
  {
   "cell_type": "code",
   "execution_count": 7,
   "metadata": {},
   "outputs": [],
   "source": [
    "import os\n",
    "import pandas as pd\n",
    "import matplotlib.pyplot as plt\n",
    "from sklearn.metrics import mean_squared_error\n",
    "from sklearn import linear_model\n",
    "import numpy as np\n",
    "import CleaningCars as hf\n",
    "from sklearn.model_selection import train_test_split\n",
    "\n",
    "import statsmodels.api as sm"
   ]
  },
  {
   "cell_type": "code",
   "execution_count": 2,
   "metadata": {},
   "outputs": [],
   "source": [
    "def load_data():    \n",
    "    csv_path = os.path.join('data', 'vehicles.csv')\n",
    "    return pd.read_csv(csv_path)\n",
    "\n",
    "df = load_data()"
   ]
  },
  {
   "cell_type": "code",
   "execution_count": 5,
   "metadata": {},
   "outputs": [],
   "source": [
    "df = hf.ultimateClean(df)"
   ]
  },
  {
   "cell_type": "code",
   "execution_count": 6,
   "metadata": {},
   "outputs": [
    {
     "data": {
      "text/plain": [
       "133"
      ]
     },
     "execution_count": 6,
     "metadata": {},
     "output_type": "execute_result"
    }
   ],
   "source": [
    "import gc\n",
    "gc.collect()"
   ]
  },
  {
   "cell_type": "code",
   "execution_count": 5,
   "metadata": {},
   "outputs": [
    {
     "data": {
      "text/plain": [
       "(160443, 75)"
      ]
     },
     "execution_count": 5,
     "metadata": {},
     "output_type": "execute_result"
    }
   ],
   "source": [
    "df.shape"
   ]
  },
  {
   "cell_type": "code",
   "execution_count": 6,
   "metadata": {},
   "outputs": [
    {
     "data": {
      "text/plain": [
       "Index(['price', 'year', 'manufacturer', 'condition', 'cylinders', 'fuel',\n",
       "       'odometer', 'title_status', 'type', 'description', 'lat', 'long',\n",
       "       'posting_date', 'color_black', 'color_other', 'color_silver',\n",
       "       'color_white', 'drive_4wd', 'drive_fwd', 'drive_other', 'drive_rwd',\n",
       "       'transmission_automatic', 'transmission_manual', 'transmission_other',\n",
       "       'state_ak', 'state_al', 'state_ar', 'state_az', 'state_ca', 'state_co',\n",
       "       'state_ct', 'state_dc', 'state_de', 'state_fl', 'state_ga', 'state_hi',\n",
       "       'state_ia', 'state_id', 'state_il', 'state_in', 'state_ks', 'state_ky',\n",
       "       'state_la', 'state_ma', 'state_md', 'state_me', 'state_mi', 'state_mn',\n",
       "       'state_mo', 'state_ms', 'state_mt', 'state_nc', 'state_nd', 'state_ne',\n",
       "       'state_nh', 'state_nj', 'state_nm', 'state_nv', 'state_ny', 'state_oh',\n",
       "       'state_ok', 'state_or', 'state_pa', 'state_ri', 'state_sc', 'state_sd',\n",
       "       'state_tn', 'state_tx', 'state_ut', 'state_va', 'state_vt', 'state_wa',\n",
       "       'state_wi', 'state_wv', 'state_wy'],\n",
       "      dtype='object')"
      ]
     },
     "execution_count": 6,
     "metadata": {},
     "output_type": "execute_result"
    }
   ],
   "source": [
    "df.columns"
   ]
  },
  {
   "cell_type": "code",
   "execution_count": 7,
   "metadata": {},
   "outputs": [
    {
     "name": "stdout",
     "output_type": "stream",
     "text": [
      "(160443, 100)\n"
     ]
    }
   ],
   "source": [
    "df = hf.TF_IDF(df, number = 100)"
   ]
  },
  {
   "cell_type": "code",
   "execution_count": 10,
   "metadata": {},
   "outputs": [
    {
     "data": {
      "text/plain": [
       "(160443, 175)"
      ]
     },
     "execution_count": 10,
     "metadata": {},
     "output_type": "execute_result"
    }
   ],
   "source": [
    "df.shape"
   ]
  },
  {
   "cell_type": "code",
   "execution_count": 11,
   "metadata": {},
   "outputs": [
    {
     "data": {
      "text/html": [
       "<div>\n",
       "<style scoped>\n",
       "    .dataframe tbody tr th:only-of-type {\n",
       "        vertical-align: middle;\n",
       "    }\n",
       "\n",
       "    .dataframe tbody tr th {\n",
       "        vertical-align: top;\n",
       "    }\n",
       "\n",
       "    .dataframe thead th {\n",
       "        text-align: right;\n",
       "    }\n",
       "</style>\n",
       "<table border=\"1\" class=\"dataframe\">\n",
       "  <thead>\n",
       "    <tr style=\"text-align: right;\">\n",
       "      <th></th>\n",
       "      <th>price</th>\n",
       "      <th>year</th>\n",
       "      <th>manufacturer</th>\n",
       "      <th>condition</th>\n",
       "      <th>cylinders</th>\n",
       "      <th>fuel</th>\n",
       "      <th>odometer</th>\n",
       "      <th>title_status</th>\n",
       "      <th>type</th>\n",
       "      <th>description</th>\n",
       "      <th>...</th>\n",
       "      <th>90</th>\n",
       "      <th>91</th>\n",
       "      <th>92</th>\n",
       "      <th>93</th>\n",
       "      <th>94</th>\n",
       "      <th>95</th>\n",
       "      <th>96</th>\n",
       "      <th>97</th>\n",
       "      <th>98</th>\n",
       "      <th>99</th>\n",
       "    </tr>\n",
       "  </thead>\n",
       "  <tbody>\n",
       "    <tr>\n",
       "      <th>0</th>\n",
       "      <td>35990</td>\n",
       "      <td>2010.0</td>\n",
       "      <td>chevrolet</td>\n",
       "      <td>good</td>\n",
       "      <td>8 cylinders</td>\n",
       "      <td>gas</td>\n",
       "      <td>32742.0</td>\n",
       "      <td>clean</td>\n",
       "      <td>other</td>\n",
       "      <td>Carvana is the safer way to buy a car During t...</td>\n",
       "      <td>...</td>\n",
       "      <td>0.0</td>\n",
       "      <td>0.14268</td>\n",
       "      <td>0.000000</td>\n",
       "      <td>0.000000</td>\n",
       "      <td>0.0</td>\n",
       "      <td>0.080105</td>\n",
       "      <td>0.083687</td>\n",
       "      <td>0.000000</td>\n",
       "      <td>0.035139</td>\n",
       "      <td>0.068192</td>\n",
       "    </tr>\n",
       "    <tr>\n",
       "      <th>1</th>\n",
       "      <td>7500</td>\n",
       "      <td>2014.0</td>\n",
       "      <td>hyundai</td>\n",
       "      <td>excellent</td>\n",
       "      <td>4 cylinders</td>\n",
       "      <td>gas</td>\n",
       "      <td>93600.0</td>\n",
       "      <td>clean</td>\n",
       "      <td>sedan</td>\n",
       "      <td>I'll move to another city and try to sell my c...</td>\n",
       "      <td>...</td>\n",
       "      <td>0.0</td>\n",
       "      <td>0.00000</td>\n",
       "      <td>0.000000</td>\n",
       "      <td>0.000000</td>\n",
       "      <td>0.0</td>\n",
       "      <td>0.000000</td>\n",
       "      <td>0.000000</td>\n",
       "      <td>0.000000</td>\n",
       "      <td>0.000000</td>\n",
       "      <td>0.000000</td>\n",
       "    </tr>\n",
       "    <tr>\n",
       "      <th>2</th>\n",
       "      <td>4900</td>\n",
       "      <td>2006.0</td>\n",
       "      <td>bmw</td>\n",
       "      <td>good</td>\n",
       "      <td>6 cylinders</td>\n",
       "      <td>gas</td>\n",
       "      <td>87046.0</td>\n",
       "      <td>clean</td>\n",
       "      <td>SUV</td>\n",
       "      <td>Clean 2006 BMW X3 3.0I.  Beautiful and rare Bl...</td>\n",
       "      <td>...</td>\n",
       "      <td>0.0</td>\n",
       "      <td>0.00000</td>\n",
       "      <td>0.213436</td>\n",
       "      <td>0.000000</td>\n",
       "      <td>0.0</td>\n",
       "      <td>0.159036</td>\n",
       "      <td>0.000000</td>\n",
       "      <td>0.000000</td>\n",
       "      <td>0.000000</td>\n",
       "      <td>0.000000</td>\n",
       "    </tr>\n",
       "    <tr>\n",
       "      <th>3</th>\n",
       "      <td>2000</td>\n",
       "      <td>1974.0</td>\n",
       "      <td>chevrolet</td>\n",
       "      <td>good</td>\n",
       "      <td>4 cylinders</td>\n",
       "      <td>gas</td>\n",
       "      <td>190000.0</td>\n",
       "      <td>clean</td>\n",
       "      <td>pickup</td>\n",
       "      <td>1974 chev. truck (LONG BED) NEW starter front ...</td>\n",
       "      <td>...</td>\n",
       "      <td>0.0</td>\n",
       "      <td>0.00000</td>\n",
       "      <td>0.000000</td>\n",
       "      <td>0.857383</td>\n",
       "      <td>0.0</td>\n",
       "      <td>0.000000</td>\n",
       "      <td>0.000000</td>\n",
       "      <td>0.000000</td>\n",
       "      <td>0.000000</td>\n",
       "      <td>0.000000</td>\n",
       "    </tr>\n",
       "    <tr>\n",
       "      <th>4</th>\n",
       "      <td>19500</td>\n",
       "      <td>2005.0</td>\n",
       "      <td>ford</td>\n",
       "      <td>excellent</td>\n",
       "      <td>8 cylinders</td>\n",
       "      <td>diesel</td>\n",
       "      <td>116000.0</td>\n",
       "      <td>lien</td>\n",
       "      <td>pickup</td>\n",
       "      <td>2005 Ford F350 Lariat (Bullet Proofed). This t...</td>\n",
       "      <td>...</td>\n",
       "      <td>0.0</td>\n",
       "      <td>0.00000</td>\n",
       "      <td>0.000000</td>\n",
       "      <td>0.936639</td>\n",
       "      <td>0.0</td>\n",
       "      <td>0.000000</td>\n",
       "      <td>0.000000</td>\n",
       "      <td>0.095059</td>\n",
       "      <td>0.000000</td>\n",
       "      <td>0.000000</td>\n",
       "    </tr>\n",
       "  </tbody>\n",
       "</table>\n",
       "<p>5 rows × 175 columns</p>\n",
       "</div>"
      ],
      "text/plain": [
       "   price    year manufacturer  condition    cylinders    fuel  odometer  \\\n",
       "0  35990  2010.0    chevrolet       good  8 cylinders     gas   32742.0   \n",
       "1   7500  2014.0      hyundai  excellent  4 cylinders     gas   93600.0   \n",
       "2   4900  2006.0          bmw       good  6 cylinders     gas   87046.0   \n",
       "3   2000  1974.0    chevrolet       good  4 cylinders     gas  190000.0   \n",
       "4  19500  2005.0         ford  excellent  8 cylinders  diesel  116000.0   \n",
       "\n",
       "  title_status    type                                        description  \\\n",
       "0        clean   other  Carvana is the safer way to buy a car During t...   \n",
       "1        clean   sedan  I'll move to another city and try to sell my c...   \n",
       "2        clean     SUV  Clean 2006 BMW X3 3.0I.  Beautiful and rare Bl...   \n",
       "3        clean  pickup  1974 chev. truck (LONG BED) NEW starter front ...   \n",
       "4         lien  pickup  2005 Ford F350 Lariat (Bullet Proofed). This t...   \n",
       "\n",
       "   ...   90       91        92        93   94        95        96        97  \\\n",
       "0  ...  0.0  0.14268  0.000000  0.000000  0.0  0.080105  0.083687  0.000000   \n",
       "1  ...  0.0  0.00000  0.000000  0.000000  0.0  0.000000  0.000000  0.000000   \n",
       "2  ...  0.0  0.00000  0.213436  0.000000  0.0  0.159036  0.000000  0.000000   \n",
       "3  ...  0.0  0.00000  0.000000  0.857383  0.0  0.000000  0.000000  0.000000   \n",
       "4  ...  0.0  0.00000  0.000000  0.936639  0.0  0.000000  0.000000  0.095059   \n",
       "\n",
       "         98        99  \n",
       "0  0.035139  0.068192  \n",
       "1  0.000000  0.000000  \n",
       "2  0.000000  0.000000  \n",
       "3  0.000000  0.000000  \n",
       "4  0.000000  0.000000  \n",
       "\n",
       "[5 rows x 175 columns]"
      ]
     },
     "execution_count": 11,
     "metadata": {},
     "output_type": "execute_result"
    }
   ],
   "source": [
    "df.head()"
   ]
  },
  {
   "cell_type": "code",
   "execution_count": 12,
   "metadata": {},
   "outputs": [],
   "source": [
    "df = df.drop([\"manufacturer\", \"condition\", \"cylinders\", \"fuel\", \"title_status\", \"type\", \"description\", \"posting_date\"], axis = 1)"
   ]
  },
  {
   "cell_type": "code",
   "execution_count": 13,
   "metadata": {},
   "outputs": [
    {
     "data": {
      "text/html": [
       "<div>\n",
       "<style scoped>\n",
       "    .dataframe tbody tr th:only-of-type {\n",
       "        vertical-align: middle;\n",
       "    }\n",
       "\n",
       "    .dataframe tbody tr th {\n",
       "        vertical-align: top;\n",
       "    }\n",
       "\n",
       "    .dataframe thead th {\n",
       "        text-align: right;\n",
       "    }\n",
       "</style>\n",
       "<table border=\"1\" class=\"dataframe\">\n",
       "  <thead>\n",
       "    <tr style=\"text-align: right;\">\n",
       "      <th></th>\n",
       "      <th>price</th>\n",
       "      <th>year</th>\n",
       "      <th>odometer</th>\n",
       "      <th>lat</th>\n",
       "      <th>long</th>\n",
       "      <th>color_black</th>\n",
       "      <th>color_other</th>\n",
       "      <th>color_silver</th>\n",
       "      <th>color_white</th>\n",
       "      <th>drive_4wd</th>\n",
       "      <th>...</th>\n",
       "      <th>90</th>\n",
       "      <th>91</th>\n",
       "      <th>92</th>\n",
       "      <th>93</th>\n",
       "      <th>94</th>\n",
       "      <th>95</th>\n",
       "      <th>96</th>\n",
       "      <th>97</th>\n",
       "      <th>98</th>\n",
       "      <th>99</th>\n",
       "    </tr>\n",
       "  </thead>\n",
       "  <tbody>\n",
       "    <tr>\n",
       "      <th>0</th>\n",
       "      <td>35990</td>\n",
       "      <td>2010.0</td>\n",
       "      <td>32742.0</td>\n",
       "      <td>32.590000</td>\n",
       "      <td>-85.480000</td>\n",
       "      <td>0</td>\n",
       "      <td>1</td>\n",
       "      <td>0</td>\n",
       "      <td>0</td>\n",
       "      <td>0</td>\n",
       "      <td>...</td>\n",
       "      <td>0.0</td>\n",
       "      <td>0.14268</td>\n",
       "      <td>0.000000</td>\n",
       "      <td>0.000000</td>\n",
       "      <td>0.0</td>\n",
       "      <td>0.080105</td>\n",
       "      <td>0.083687</td>\n",
       "      <td>0.000000</td>\n",
       "      <td>0.035139</td>\n",
       "      <td>0.068192</td>\n",
       "    </tr>\n",
       "    <tr>\n",
       "      <th>1</th>\n",
       "      <td>7500</td>\n",
       "      <td>2014.0</td>\n",
       "      <td>93600.0</td>\n",
       "      <td>32.547500</td>\n",
       "      <td>-85.468200</td>\n",
       "      <td>0</td>\n",
       "      <td>1</td>\n",
       "      <td>0</td>\n",
       "      <td>0</td>\n",
       "      <td>0</td>\n",
       "      <td>...</td>\n",
       "      <td>0.0</td>\n",
       "      <td>0.00000</td>\n",
       "      <td>0.000000</td>\n",
       "      <td>0.000000</td>\n",
       "      <td>0.0</td>\n",
       "      <td>0.000000</td>\n",
       "      <td>0.000000</td>\n",
       "      <td>0.000000</td>\n",
       "      <td>0.000000</td>\n",
       "      <td>0.000000</td>\n",
       "    </tr>\n",
       "    <tr>\n",
       "      <th>2</th>\n",
       "      <td>4900</td>\n",
       "      <td>2006.0</td>\n",
       "      <td>87046.0</td>\n",
       "      <td>32.616807</td>\n",
       "      <td>-85.464149</td>\n",
       "      <td>0</td>\n",
       "      <td>1</td>\n",
       "      <td>0</td>\n",
       "      <td>0</td>\n",
       "      <td>1</td>\n",
       "      <td>...</td>\n",
       "      <td>0.0</td>\n",
       "      <td>0.00000</td>\n",
       "      <td>0.213436</td>\n",
       "      <td>0.000000</td>\n",
       "      <td>0.0</td>\n",
       "      <td>0.159036</td>\n",
       "      <td>0.000000</td>\n",
       "      <td>0.000000</td>\n",
       "      <td>0.000000</td>\n",
       "      <td>0.000000</td>\n",
       "    </tr>\n",
       "    <tr>\n",
       "      <th>3</th>\n",
       "      <td>2000</td>\n",
       "      <td>1974.0</td>\n",
       "      <td>190000.0</td>\n",
       "      <td>32.861600</td>\n",
       "      <td>-85.216100</td>\n",
       "      <td>0</td>\n",
       "      <td>1</td>\n",
       "      <td>0</td>\n",
       "      <td>0</td>\n",
       "      <td>0</td>\n",
       "      <td>...</td>\n",
       "      <td>0.0</td>\n",
       "      <td>0.00000</td>\n",
       "      <td>0.000000</td>\n",
       "      <td>0.857383</td>\n",
       "      <td>0.0</td>\n",
       "      <td>0.000000</td>\n",
       "      <td>0.000000</td>\n",
       "      <td>0.000000</td>\n",
       "      <td>0.000000</td>\n",
       "      <td>0.000000</td>\n",
       "    </tr>\n",
       "    <tr>\n",
       "      <th>4</th>\n",
       "      <td>19500</td>\n",
       "      <td>2005.0</td>\n",
       "      <td>116000.0</td>\n",
       "      <td>32.547500</td>\n",
       "      <td>-85.468200</td>\n",
       "      <td>0</td>\n",
       "      <td>1</td>\n",
       "      <td>0</td>\n",
       "      <td>0</td>\n",
       "      <td>1</td>\n",
       "      <td>...</td>\n",
       "      <td>0.0</td>\n",
       "      <td>0.00000</td>\n",
       "      <td>0.000000</td>\n",
       "      <td>0.936639</td>\n",
       "      <td>0.0</td>\n",
       "      <td>0.000000</td>\n",
       "      <td>0.000000</td>\n",
       "      <td>0.095059</td>\n",
       "      <td>0.000000</td>\n",
       "      <td>0.000000</td>\n",
       "    </tr>\n",
       "  </tbody>\n",
       "</table>\n",
       "<p>5 rows × 167 columns</p>\n",
       "</div>"
      ],
      "text/plain": [
       "   price    year  odometer        lat       long  color_black  color_other  \\\n",
       "0  35990  2010.0   32742.0  32.590000 -85.480000            0            1   \n",
       "1   7500  2014.0   93600.0  32.547500 -85.468200            0            1   \n",
       "2   4900  2006.0   87046.0  32.616807 -85.464149            0            1   \n",
       "3   2000  1974.0  190000.0  32.861600 -85.216100            0            1   \n",
       "4  19500  2005.0  116000.0  32.547500 -85.468200            0            1   \n",
       "\n",
       "   color_silver  color_white  drive_4wd  ...   90       91        92  \\\n",
       "0             0            0          0  ...  0.0  0.14268  0.000000   \n",
       "1             0            0          0  ...  0.0  0.00000  0.000000   \n",
       "2             0            0          1  ...  0.0  0.00000  0.213436   \n",
       "3             0            0          0  ...  0.0  0.00000  0.000000   \n",
       "4             0            0          1  ...  0.0  0.00000  0.000000   \n",
       "\n",
       "         93   94        95        96        97        98        99  \n",
       "0  0.000000  0.0  0.080105  0.083687  0.000000  0.035139  0.068192  \n",
       "1  0.000000  0.0  0.000000  0.000000  0.000000  0.000000  0.000000  \n",
       "2  0.000000  0.0  0.159036  0.000000  0.000000  0.000000  0.000000  \n",
       "3  0.857383  0.0  0.000000  0.000000  0.000000  0.000000  0.000000  \n",
       "4  0.936639  0.0  0.000000  0.000000  0.095059  0.000000  0.000000  \n",
       "\n",
       "[5 rows x 167 columns]"
      ]
     },
     "execution_count": 13,
     "metadata": {},
     "output_type": "execute_result"
    }
   ],
   "source": [
    "df.head()"
   ]
  },
  {
   "cell_type": "markdown",
   "metadata": {},
   "source": [
    "# SAVING TO PICKLE"
   ]
  },
  {
   "cell_type": "code",
   "execution_count": 14,
   "metadata": {},
   "outputs": [
    {
     "name": "stdin",
     "output_type": "stream",
     "text": [
      "You sure?  yes\n"
     ]
    },
    {
     "name": "stdout",
     "output_type": "stream",
     "text": [
      "SAVED!\n"
     ]
    }
   ],
   "source": [
    "if input(\"You sure? \") == \"yes\":\n",
    "    df.to_pickle(\"data/processedDF.pkl\")  # where to save it, usually as a .pkl\n",
    "    print(\"SAVED!\")"
   ]
  },
  {
   "cell_type": "markdown",
   "metadata": {},
   "source": [
    "# LOADING"
   ]
  },
  {
   "cell_type": "code",
   "execution_count": 69,
   "metadata": {},
   "outputs": [
    {
     "name": "stdin",
     "output_type": "stream",
     "text": [
      "Load?  yes\n"
     ]
    },
    {
     "name": "stdout",
     "output_type": "stream",
     "text": [
      "Loaded!\n"
     ]
    }
   ],
   "source": [
    "if input(\"Load? \") == \"yes\":\n",
    "    df = pd.read_pickle(\"data/processedDF.pkl\")\n",
    "    print(\"Loaded!\")\n"
   ]
  },
  {
   "cell_type": "code",
   "execution_count": 70,
   "metadata": {},
   "outputs": [
    {
     "data": {
      "text/html": [
       "<div>\n",
       "<style scoped>\n",
       "    .dataframe tbody tr th:only-of-type {\n",
       "        vertical-align: middle;\n",
       "    }\n",
       "\n",
       "    .dataframe tbody tr th {\n",
       "        vertical-align: top;\n",
       "    }\n",
       "\n",
       "    .dataframe thead th {\n",
       "        text-align: right;\n",
       "    }\n",
       "</style>\n",
       "<table border=\"1\" class=\"dataframe\">\n",
       "  <thead>\n",
       "    <tr style=\"text-align: right;\">\n",
       "      <th></th>\n",
       "      <th>price</th>\n",
       "      <th>year</th>\n",
       "      <th>odometer</th>\n",
       "      <th>lat</th>\n",
       "      <th>long</th>\n",
       "      <th>color_black</th>\n",
       "      <th>color_other</th>\n",
       "      <th>color_silver</th>\n",
       "      <th>color_white</th>\n",
       "      <th>drive_4wd</th>\n",
       "      <th>...</th>\n",
       "      <th>90</th>\n",
       "      <th>91</th>\n",
       "      <th>92</th>\n",
       "      <th>93</th>\n",
       "      <th>94</th>\n",
       "      <th>95</th>\n",
       "      <th>96</th>\n",
       "      <th>97</th>\n",
       "      <th>98</th>\n",
       "      <th>99</th>\n",
       "    </tr>\n",
       "  </thead>\n",
       "  <tbody>\n",
       "    <tr>\n",
       "      <th>0</th>\n",
       "      <td>35990</td>\n",
       "      <td>2010.0</td>\n",
       "      <td>32742.0</td>\n",
       "      <td>32.590000</td>\n",
       "      <td>-85.480000</td>\n",
       "      <td>0</td>\n",
       "      <td>1</td>\n",
       "      <td>0</td>\n",
       "      <td>0</td>\n",
       "      <td>0</td>\n",
       "      <td>...</td>\n",
       "      <td>0.0</td>\n",
       "      <td>0.14268</td>\n",
       "      <td>0.000000</td>\n",
       "      <td>0.000000</td>\n",
       "      <td>0.000000</td>\n",
       "      <td>0.080105</td>\n",
       "      <td>0.083687</td>\n",
       "      <td>0.000000</td>\n",
       "      <td>0.035139</td>\n",
       "      <td>0.068192</td>\n",
       "    </tr>\n",
       "    <tr>\n",
       "      <th>1</th>\n",
       "      <td>7500</td>\n",
       "      <td>2014.0</td>\n",
       "      <td>93600.0</td>\n",
       "      <td>32.547500</td>\n",
       "      <td>-85.468200</td>\n",
       "      <td>0</td>\n",
       "      <td>1</td>\n",
       "      <td>0</td>\n",
       "      <td>0</td>\n",
       "      <td>0</td>\n",
       "      <td>...</td>\n",
       "      <td>0.0</td>\n",
       "      <td>0.00000</td>\n",
       "      <td>0.000000</td>\n",
       "      <td>0.000000</td>\n",
       "      <td>0.000000</td>\n",
       "      <td>0.000000</td>\n",
       "      <td>0.000000</td>\n",
       "      <td>0.000000</td>\n",
       "      <td>0.000000</td>\n",
       "      <td>0.000000</td>\n",
       "    </tr>\n",
       "    <tr>\n",
       "      <th>2</th>\n",
       "      <td>4900</td>\n",
       "      <td>2006.0</td>\n",
       "      <td>87046.0</td>\n",
       "      <td>32.616807</td>\n",
       "      <td>-85.464149</td>\n",
       "      <td>0</td>\n",
       "      <td>1</td>\n",
       "      <td>0</td>\n",
       "      <td>0</td>\n",
       "      <td>1</td>\n",
       "      <td>...</td>\n",
       "      <td>0.0</td>\n",
       "      <td>0.00000</td>\n",
       "      <td>0.213436</td>\n",
       "      <td>0.000000</td>\n",
       "      <td>0.000000</td>\n",
       "      <td>0.159036</td>\n",
       "      <td>0.000000</td>\n",
       "      <td>0.000000</td>\n",
       "      <td>0.000000</td>\n",
       "      <td>0.000000</td>\n",
       "    </tr>\n",
       "    <tr>\n",
       "      <th>3</th>\n",
       "      <td>2000</td>\n",
       "      <td>1974.0</td>\n",
       "      <td>190000.0</td>\n",
       "      <td>32.861600</td>\n",
       "      <td>-85.216100</td>\n",
       "      <td>0</td>\n",
       "      <td>1</td>\n",
       "      <td>0</td>\n",
       "      <td>0</td>\n",
       "      <td>0</td>\n",
       "      <td>...</td>\n",
       "      <td>0.0</td>\n",
       "      <td>0.00000</td>\n",
       "      <td>0.000000</td>\n",
       "      <td>0.857383</td>\n",
       "      <td>0.000000</td>\n",
       "      <td>0.000000</td>\n",
       "      <td>0.000000</td>\n",
       "      <td>0.000000</td>\n",
       "      <td>0.000000</td>\n",
       "      <td>0.000000</td>\n",
       "    </tr>\n",
       "    <tr>\n",
       "      <th>4</th>\n",
       "      <td>19500</td>\n",
       "      <td>2005.0</td>\n",
       "      <td>116000.0</td>\n",
       "      <td>32.547500</td>\n",
       "      <td>-85.468200</td>\n",
       "      <td>0</td>\n",
       "      <td>1</td>\n",
       "      <td>0</td>\n",
       "      <td>0</td>\n",
       "      <td>1</td>\n",
       "      <td>...</td>\n",
       "      <td>0.0</td>\n",
       "      <td>0.00000</td>\n",
       "      <td>0.000000</td>\n",
       "      <td>0.936639</td>\n",
       "      <td>0.000000</td>\n",
       "      <td>0.000000</td>\n",
       "      <td>0.000000</td>\n",
       "      <td>0.095059</td>\n",
       "      <td>0.000000</td>\n",
       "      <td>0.000000</td>\n",
       "    </tr>\n",
       "    <tr>\n",
       "      <th>...</th>\n",
       "      <td>...</td>\n",
       "      <td>...</td>\n",
       "      <td>...</td>\n",
       "      <td>...</td>\n",
       "      <td>...</td>\n",
       "      <td>...</td>\n",
       "      <td>...</td>\n",
       "      <td>...</td>\n",
       "      <td>...</td>\n",
       "      <td>...</td>\n",
       "      <td>...</td>\n",
       "      <td>...</td>\n",
       "      <td>...</td>\n",
       "      <td>...</td>\n",
       "      <td>...</td>\n",
       "      <td>...</td>\n",
       "      <td>...</td>\n",
       "      <td>...</td>\n",
       "      <td>...</td>\n",
       "      <td>...</td>\n",
       "      <td>...</td>\n",
       "    </tr>\n",
       "    <tr>\n",
       "      <th>160438</th>\n",
       "      <td>5300</td>\n",
       "      <td>2013.0</td>\n",
       "      <td>140000.0</td>\n",
       "      <td>44.823200</td>\n",
       "      <td>-89.166500</td>\n",
       "      <td>0</td>\n",
       "      <td>1</td>\n",
       "      <td>0</td>\n",
       "      <td>0</td>\n",
       "      <td>0</td>\n",
       "      <td>...</td>\n",
       "      <td>0.0</td>\n",
       "      <td>0.00000</td>\n",
       "      <td>0.000000</td>\n",
       "      <td>0.000000</td>\n",
       "      <td>0.000000</td>\n",
       "      <td>0.000000</td>\n",
       "      <td>0.000000</td>\n",
       "      <td>0.000000</td>\n",
       "      <td>0.000000</td>\n",
       "      <td>0.000000</td>\n",
       "    </tr>\n",
       "    <tr>\n",
       "      <th>160439</th>\n",
       "      <td>14995</td>\n",
       "      <td>2014.0</td>\n",
       "      <td>83790.0</td>\n",
       "      <td>44.408867</td>\n",
       "      <td>-89.881210</td>\n",
       "      <td>0</td>\n",
       "      <td>0</td>\n",
       "      <td>1</td>\n",
       "      <td>0</td>\n",
       "      <td>1</td>\n",
       "      <td>...</td>\n",
       "      <td>0.0</td>\n",
       "      <td>0.00000</td>\n",
       "      <td>0.000000</td>\n",
       "      <td>0.000000</td>\n",
       "      <td>0.313002</td>\n",
       "      <td>0.000000</td>\n",
       "      <td>0.000000</td>\n",
       "      <td>0.489216</td>\n",
       "      <td>0.000000</td>\n",
       "      <td>0.000000</td>\n",
       "    </tr>\n",
       "    <tr>\n",
       "      <th>160440</th>\n",
       "      <td>17895</td>\n",
       "      <td>2018.0</td>\n",
       "      <td>31888.0</td>\n",
       "      <td>44.408867</td>\n",
       "      <td>-89.882240</td>\n",
       "      <td>0</td>\n",
       "      <td>0</td>\n",
       "      <td>0</td>\n",
       "      <td>1</td>\n",
       "      <td>1</td>\n",
       "      <td>...</td>\n",
       "      <td>0.0</td>\n",
       "      <td>0.00000</td>\n",
       "      <td>0.000000</td>\n",
       "      <td>0.000000</td>\n",
       "      <td>0.000000</td>\n",
       "      <td>0.000000</td>\n",
       "      <td>0.000000</td>\n",
       "      <td>0.000000</td>\n",
       "      <td>0.000000</td>\n",
       "      <td>0.000000</td>\n",
       "    </tr>\n",
       "    <tr>\n",
       "      <th>160441</th>\n",
       "      <td>17900</td>\n",
       "      <td>2014.0</td>\n",
       "      <td>53000.0</td>\n",
       "      <td>44.784900</td>\n",
       "      <td>-106.964800</td>\n",
       "      <td>1</td>\n",
       "      <td>0</td>\n",
       "      <td>0</td>\n",
       "      <td>0</td>\n",
       "      <td>1</td>\n",
       "      <td>...</td>\n",
       "      <td>0.0</td>\n",
       "      <td>0.00000</td>\n",
       "      <td>0.000000</td>\n",
       "      <td>0.000000</td>\n",
       "      <td>0.524153</td>\n",
       "      <td>0.000000</td>\n",
       "      <td>0.000000</td>\n",
       "      <td>0.000000</td>\n",
       "      <td>0.000000</td>\n",
       "      <td>0.000000</td>\n",
       "    </tr>\n",
       "    <tr>\n",
       "      <th>160442</th>\n",
       "      <td>1300</td>\n",
       "      <td>2008.0</td>\n",
       "      <td>164000.0</td>\n",
       "      <td>44.773500</td>\n",
       "      <td>-106.939600</td>\n",
       "      <td>0</td>\n",
       "      <td>0</td>\n",
       "      <td>0</td>\n",
       "      <td>1</td>\n",
       "      <td>1</td>\n",
       "      <td>...</td>\n",
       "      <td>0.0</td>\n",
       "      <td>0.00000</td>\n",
       "      <td>0.116977</td>\n",
       "      <td>0.073791</td>\n",
       "      <td>0.000000</td>\n",
       "      <td>0.000000</td>\n",
       "      <td>0.000000</td>\n",
       "      <td>0.000000</td>\n",
       "      <td>0.229406</td>\n",
       "      <td>0.000000</td>\n",
       "    </tr>\n",
       "  </tbody>\n",
       "</table>\n",
       "<p>160443 rows × 167 columns</p>\n",
       "</div>"
      ],
      "text/plain": [
       "        price    year  odometer        lat        long  color_black  \\\n",
       "0       35990  2010.0   32742.0  32.590000  -85.480000            0   \n",
       "1        7500  2014.0   93600.0  32.547500  -85.468200            0   \n",
       "2        4900  2006.0   87046.0  32.616807  -85.464149            0   \n",
       "3        2000  1974.0  190000.0  32.861600  -85.216100            0   \n",
       "4       19500  2005.0  116000.0  32.547500  -85.468200            0   \n",
       "...       ...     ...       ...        ...         ...          ...   \n",
       "160438   5300  2013.0  140000.0  44.823200  -89.166500            0   \n",
       "160439  14995  2014.0   83790.0  44.408867  -89.881210            0   \n",
       "160440  17895  2018.0   31888.0  44.408867  -89.882240            0   \n",
       "160441  17900  2014.0   53000.0  44.784900 -106.964800            1   \n",
       "160442   1300  2008.0  164000.0  44.773500 -106.939600            0   \n",
       "\n",
       "        color_other  color_silver  color_white  drive_4wd  ...   90       91  \\\n",
       "0                 1             0            0          0  ...  0.0  0.14268   \n",
       "1                 1             0            0          0  ...  0.0  0.00000   \n",
       "2                 1             0            0          1  ...  0.0  0.00000   \n",
       "3                 1             0            0          0  ...  0.0  0.00000   \n",
       "4                 1             0            0          1  ...  0.0  0.00000   \n",
       "...             ...           ...          ...        ...  ...  ...      ...   \n",
       "160438            1             0            0          0  ...  0.0  0.00000   \n",
       "160439            0             1            0          1  ...  0.0  0.00000   \n",
       "160440            0             0            1          1  ...  0.0  0.00000   \n",
       "160441            0             0            0          1  ...  0.0  0.00000   \n",
       "160442            0             0            1          1  ...  0.0  0.00000   \n",
       "\n",
       "              92        93        94        95        96        97        98  \\\n",
       "0       0.000000  0.000000  0.000000  0.080105  0.083687  0.000000  0.035139   \n",
       "1       0.000000  0.000000  0.000000  0.000000  0.000000  0.000000  0.000000   \n",
       "2       0.213436  0.000000  0.000000  0.159036  0.000000  0.000000  0.000000   \n",
       "3       0.000000  0.857383  0.000000  0.000000  0.000000  0.000000  0.000000   \n",
       "4       0.000000  0.936639  0.000000  0.000000  0.000000  0.095059  0.000000   \n",
       "...          ...       ...       ...       ...       ...       ...       ...   \n",
       "160438  0.000000  0.000000  0.000000  0.000000  0.000000  0.000000  0.000000   \n",
       "160439  0.000000  0.000000  0.313002  0.000000  0.000000  0.489216  0.000000   \n",
       "160440  0.000000  0.000000  0.000000  0.000000  0.000000  0.000000  0.000000   \n",
       "160441  0.000000  0.000000  0.524153  0.000000  0.000000  0.000000  0.000000   \n",
       "160442  0.116977  0.073791  0.000000  0.000000  0.000000  0.000000  0.229406   \n",
       "\n",
       "              99  \n",
       "0       0.068192  \n",
       "1       0.000000  \n",
       "2       0.000000  \n",
       "3       0.000000  \n",
       "4       0.000000  \n",
       "...          ...  \n",
       "160438  0.000000  \n",
       "160439  0.000000  \n",
       "160440  0.000000  \n",
       "160441  0.000000  \n",
       "160442  0.000000  \n",
       "\n",
       "[160443 rows x 167 columns]"
      ]
     },
     "execution_count": 70,
     "metadata": {},
     "output_type": "execute_result"
    }
   ],
   "source": [
    "df"
   ]
  },
  {
   "cell_type": "markdown",
   "metadata": {},
   "source": [
    "## Normalising and choosing features"
   ]
  },
  {
   "cell_type": "code",
   "execution_count": 71,
   "metadata": {},
   "outputs": [],
   "source": [
    "df= hf.normalise(df)"
   ]
  },
  {
   "cell_type": "code",
   "execution_count": 72,
   "metadata": {},
   "outputs": [],
   "source": [
    "price = df.pop(\"price\")"
   ]
  },
  {
   "cell_type": "code",
   "execution_count": 73,
   "metadata": {},
   "outputs": [],
   "source": [
    "price = price.values"
   ]
  },
  {
   "cell_type": "code",
   "execution_count": 74,
   "metadata": {},
   "outputs": [],
   "source": []
  },
  {
   "cell_type": "code",
   "execution_count": 75,
   "metadata": {},
   "outputs": [],
   "source": []
  },
  {
   "cell_type": "code",
   "execution_count": null,
   "metadata": {},
   "outputs": [],
   "source": []
  },
  {
   "cell_type": "code",
   "execution_count": 76,
   "metadata": {},
   "outputs": [],
   "source": [
    "from sklearn.linear_model import lasso_path"
   ]
  },
  {
   "cell_type": "code",
   "execution_count": 77,
   "metadata": {},
   "outputs": [],
   "source": [
    "alphas_lasso, coefs_lasso, _ = lasso_path(df, price, fit_intercept=False)"
   ]
  },
  {
   "cell_type": "code",
   "execution_count": 79,
   "metadata": {},
   "outputs": [
    {
     "data": {
      "image/png": "[encoded data removed]",
      "text/plain": [
       "<Figure size 576x288 with 1 Axes>"
      ]
     },
     "metadata": {
      "needs_background": "light"
     },
     "output_type": "display_data"
    }
   ],
   "source": [
    "fig, ax = plt.subplots(figsize = (8,4))\n",
    "for i in range(100):\n",
    "    ax.plot(alphas_lasso, coefs_lasso[i,:])\n",
    "    ax.grid(True)\n",
    "    ax.set_xlabel(\"Regularization\")\n",
    "    ax.set_ylabel(\"Regression Coefficients\")\n",
    "    ax.set_xlim(0, 1000)"
   ]
  },
  {
   "cell_type": "code",
   "execution_count": 88,
   "metadata": {},
   "outputs": [],
   "source": [
    "clf = linear_model.Lasso(alpha=10)"
   ]
  },
  {
   "cell_type": "code",
   "execution_count": 89,
   "metadata": {},
   "outputs": [
    {
     "data": {
      "text/plain": [
       "Lasso(alpha=10)"
      ]
     },
     "execution_count": 89,
     "metadata": {},
     "output_type": "execute_result"
    }
   ],
   "source": [
    "clf.fit(df, price)"
   ]
  },
  {
   "cell_type": "code",
   "execution_count": 90,
   "metadata": {},
   "outputs": [
    {
     "data": {
      "text/plain": [
       "62483821.27073211"
      ]
     },
     "execution_count": 90,
     "metadata": {},
     "output_type": "execute_result"
    }
   ],
   "source": [
    "mean_squared_error(price, clf.predict(df))"
   ]
  },
  {
   "cell_type": "code",
   "execution_count": 91,
   "metadata": {},
   "outputs": [
    {
     "data": {
      "text/plain": [
       "83"
      ]
     },
     "execution_count": 91,
     "metadata": {},
     "output_type": "execute_result"
    }
   ],
   "source": [
    "sum(clf.coef_ != 0)"
   ]
  },
  {
   "cell_type": "code",
   "execution_count": 92,
   "metadata": {},
   "outputs": [
    {
     "data": {
      "text/plain": [
       "array([  0,   2,   3,   4,   5,   6,   7,   8,   9,  10,  11,  12,  13,\n",
       "        15,  16,  19,  20,  28,  30,  42,  46,  49,  50,  57,  60,  62,\n",
       "        65,  67,  69,  70,  71,  72,  73,  74,  75,  78,  79,  80,  81,\n",
       "        82,  83,  84,  85,  86,  87,  88,  90,  91,  93,  95,  96,  98,\n",
       "        99, 102, 103, 106, 107, 109, 110, 113, 115, 116, 117, 119, 120,\n",
       "       122, 123, 126, 132, 135, 138, 140, 141, 145, 146, 147, 148, 150,\n",
       "       154, 156, 159, 160, 164], dtype=int64)"
      ]
     },
     "execution_count": 92,
     "metadata": {},
     "output_type": "execute_result"
    }
   ],
   "source": [
    "np.where(clf.coef_ != 0)[0]"
   ]
  },
  {
   "cell_type": "code",
   "execution_count": 93,
   "metadata": {},
   "outputs": [
    {
     "data": {
      "text/plain": [
       "Index([                  'year',                    'lat',\n",
       "                         'long',            'color_black',\n",
       "                  'color_other',           'color_silver',\n",
       "                  'color_white',              'drive_4wd',\n",
       "                    'drive_fwd',            'drive_other',\n",
       "                    'drive_rwd', 'transmission_automatic',\n",
       "          'transmission_manual',               'state_ak',\n",
       "                     'state_al',               'state_ca',\n",
       "                     'state_co',               'state_id',\n",
       "                     'state_in',               'state_nc',\n",
       "                     'state_nj',               'state_ny',\n",
       "                     'state_oh',               'state_tn',\n",
       "                     'state_va',               'state_wa',\n",
       "                     'state_wy',                        1,\n",
       "                              3,                        4,\n",
       "                              5,                        6,\n",
       "                              7,                        8,\n",
       "                              9,                       12,\n",
       "                             13,                       14,\n",
       "                             15,                       16,\n",
       "                             17,                       18,\n",
       "                             19,                       20,\n",
       "                             21,                       22,\n",
       "                             24,                       25,\n",
       "                             27,                       29,\n",
       "                             30,                       32,\n",
       "                             33,                       36,\n",
       "                             37,                       40,\n",
       "                             41,                       43,\n",
       "                             44,                       47,\n",
       "                             49,                       50,\n",
       "                             51,                       53,\n",
       "                             54,                       56,\n",
       "                             57,                       60,\n",
       "                             66,                       69,\n",
       "                             72,                       74,\n",
       "                             75,                       79,\n",
       "                             80,                       81,\n",
       "                             82,                       84,\n",
       "                             88,                       90,\n",
       "                             93,                       94,\n",
       "                             98],\n",
       "      dtype='object')"
      ]
     },
     "execution_count": 93,
     "metadata": {},
     "output_type": "execute_result"
    }
   ],
   "source": [
    "df.columns[np.where(clf.coef_ != 0)[0]]"
   ]
  },
  {
   "cell_type": "code",
   "execution_count": null,
   "metadata": {},
   "outputs": [],
   "source": []
  },
  {
   "cell_type": "code",
   "execution_count": 94,
   "metadata": {},
   "outputs": [],
   "source": [
    "df = df[df.columns[np.where(clf.coef_ != 0)[0]]]"
   ]
  },
  {
   "cell_type": "code",
   "execution_count": 95,
   "metadata": {},
   "outputs": [
    {
     "name": "stdout",
     "output_type": "stream",
     "text": [
      "                            OLS Regression Results                            \n",
      "==============================================================================\n",
      "Dep. Variable:                      y   R-squared:                       0.563\n",
      "Model:                            OLS   Adj. R-squared:                  0.563\n",
      "Method:                 Least Squares   F-statistic:                     2549.\n",
      "Date:                Fri, 05 Mar 2021   Prob (F-statistic):               0.00\n",
      "Time:                        14:47:50   Log-Likelihood:            -1.6665e+06\n",
      "No. Observations:              160443   AIC:                         3.333e+06\n",
      "Df Residuals:                  160361   BIC:                         3.334e+06\n",
      "Df Model:                          81                                         \n",
      "Covariance Type:            nonrobust                                         \n",
      "==========================================================================================\n",
      "                             coef    std err          t      P>|t|      [0.025      0.975]\n",
      "------------------------------------------------------------------------------------------\n",
      "year                    4.488e+04    329.521    136.193      0.000    4.42e+04    4.55e+04\n",
      "lat                    -1349.4660    198.144     -6.811      0.000   -1737.824    -961.107\n",
      "long                   -2914.0566    173.467    -16.799      0.000   -3254.048   -2574.065\n",
      "color_black            -1.159e+04    178.285    -65.001      0.000   -1.19e+04   -1.12e+04\n",
      "color_other            -1.261e+04    172.052    -73.314      0.000    -1.3e+04   -1.23e+04\n",
      "color_silver           -1.334e+04    178.475    -74.748      0.000   -1.37e+04    -1.3e+04\n",
      "color_white            -1.184e+04    178.359    -66.397      0.000   -1.22e+04   -1.15e+04\n",
      "drive_4wd              -9973.1454    180.167    -55.355      0.000   -1.03e+04   -9620.022\n",
      "drive_fwd               -1.59e+04    179.790    -88.457      0.000   -1.63e+04   -1.56e+04\n",
      "drive_other            -1.332e+04    185.189    -71.944      0.000   -1.37e+04    -1.3e+04\n",
      "drive_rwd              -1.019e+04    168.546    -60.431      0.000   -1.05e+04   -9855.130\n",
      "transmission_automatic  -573.3639     89.038     -6.440      0.000    -747.876    -398.852\n",
      "transmission_manual     1047.6434    122.462      8.555      0.000     807.620    1287.667\n",
      "state_ak                2605.3218    281.249      9.263      0.000    2054.081    3156.563\n",
      "state_al                1042.2706    175.605      5.935      0.000     698.088    1386.453\n",
      "state_ca                 244.6934     78.175      3.130      0.002      91.472     397.915\n",
      "state_co                -633.9338    142.543     -4.447      0.000    -913.315    -354.553\n",
      "state_id               -1849.2131    172.605    -10.714      0.000   -2187.515   -1510.911\n",
      "state_in                 877.8908    132.190      6.641      0.000     618.801    1136.980\n",
      "state_nc                 598.6986    109.887      5.448      0.000     383.323     814.075\n",
      "state_nj                -537.6189    133.381     -4.031      0.000    -799.044    -276.194\n",
      "state_ny                -325.5328     91.313     -3.565      0.000    -504.504    -146.561\n",
      "state_oh                -773.8698    100.183     -7.725      0.000    -970.226    -577.514\n",
      "state_tn                 989.7460    127.212      7.780      0.000     740.413    1239.079\n",
      "state_va                -371.5705    123.659     -3.005      0.003    -613.940    -129.201\n",
      "state_wa               -1363.5052    173.799     -7.845      0.000   -1704.147   -1022.863\n",
      "state_wy                3584.2862    384.719      9.317      0.000    2830.245    4338.328\n",
      "1                       1.213e+04    567.740     21.368      0.000     1.1e+04    1.32e+04\n",
      "3                      -2183.4468    226.873     -9.624      0.000   -2628.113   -1738.780\n",
      "4                      -6981.2614    338.950    -20.597      0.000   -7645.596   -6316.927\n",
      "5                      -6933.9946    330.535    -20.978      0.000   -7581.836   -6286.153\n",
      "6                      -7079.0454    378.594    -18.698      0.000   -7821.082   -6337.009\n",
      "7                      -5681.0650    351.374    -16.168      0.000   -6369.750   -4992.380\n",
      "8                      -4704.3623    336.785    -13.968      0.000   -5364.453   -4044.272\n",
      "9                      -2931.9917    309.243     -9.481      0.000   -3538.102   -2325.882\n",
      "12                      5463.4454    323.574     16.885      0.000    4829.247    6097.644\n",
      "13                      6947.3929    323.564     21.471      0.000    6313.214    7581.571\n",
      "14                       1.02e+04    304.240     33.541      0.000    9608.115    1.08e+04\n",
      "15                     -3245.4020    216.534    -14.988      0.000   -3669.804   -2821.000\n",
      "16                      2322.8811    228.653     10.159      0.000    1874.726    2771.036\n",
      "17                     -2575.4963    205.307    -12.545      0.000   -2977.893   -2173.100\n",
      "18                     -4023.1787    215.409    -18.677      0.000   -4445.376   -3600.981\n",
      "19                     -2090.9653    256.526     -8.151      0.000   -2593.750   -1588.180\n",
      "20                      3023.6953    217.093     13.928      0.000    2598.197    3449.194\n",
      "21                      8532.3845    254.412     33.538      0.000    8033.742    9031.027\n",
      "22                      3191.2704    191.090     16.700      0.000    2816.739    3565.802\n",
      "24                      1634.1736    203.954      8.012      0.000    1234.429    2033.918\n",
      "25                      1162.6773    144.533      8.044      0.000     879.396    1445.958\n",
      "27                       1.52e+04    395.434     38.427      0.000    1.44e+04     1.6e+04\n",
      "29                     -4331.4731    297.679    -14.551      0.000   -4914.917   -3748.029\n",
      "30                      5631.9292    149.184     37.752      0.000    5339.533    5924.326\n",
      "32                     -1533.6874    188.987     -8.115      0.000   -1904.099   -1163.276\n",
      "33                      5837.0564    337.299     17.305      0.000    5175.957    6498.156\n",
      "36                     -2148.8678    207.892    -10.336      0.000   -2556.333   -1741.403\n",
      "37                      1.253e+04    268.043     46.733      0.000     1.2e+04    1.31e+04\n",
      "40                     -1578.1639    219.807     -7.180      0.000   -2008.980   -1147.347\n",
      "41                     -5442.8257    255.107    -21.335      0.000   -5942.831   -4942.821\n",
      "43                     -1333.4985    205.935     -6.475      0.000   -1737.126    -929.871\n",
      "44                      5722.8062    247.372     23.134      0.000    5237.963    6207.649\n",
      "47                      1454.3103    141.932     10.247      0.000    1176.126    1732.495\n",
      "49                     -6488.3190    162.618    -39.899      0.000   -6807.046   -6169.591\n",
      "50                     -4185.3903    139.311    -30.043      0.000   -4458.438   -3912.343\n",
      "51                      2.146e+04    669.241     32.068      0.000    2.01e+04    2.28e+04\n",
      "53                      6251.6014    488.619     12.794      0.000    5293.918    7209.285\n",
      "54                      5357.7448    370.764     14.451      0.000    4631.055    6084.435\n",
      "56                      2543.2188    158.219     16.074      0.000    2233.114    2853.324\n",
      "57                      4421.9885    266.607     16.586      0.000    3899.445    4944.532\n",
      "60                      3046.2628    256.095     11.895      0.000    2544.321    3548.204\n",
      "66                     -1210.9614    135.304     -8.950      0.000   -1476.154    -945.768\n",
      "69                      5638.5750    363.714     15.503      0.000    4925.703    6351.447\n",
      "72                     -3711.2248    246.169    -15.076      0.000   -4193.710   -3228.739\n",
      "74                      6201.2906    244.529     25.360      0.000    5722.019    6680.563\n",
      "75                      4759.4763    148.379     32.076      0.000    4468.656    5050.297\n",
      "79                      1774.5379    156.720     11.323      0.000    1467.370    2081.706\n",
      "80                     -4801.7730    217.417    -22.086      0.000   -5227.905   -4375.641\n",
      "81                      2132.8879    245.731      8.680      0.000    1651.261    2614.515\n",
      "82                      2690.0160    237.785     11.313      0.000    2223.963    3156.069\n",
      "84                     -4715.4004    228.517    -20.635      0.000   -5163.288   -4267.512\n",
      "88                     -5420.0981    247.188    -21.927      0.000   -5904.582   -4935.614\n",
      "90                      2866.4118    142.954     20.051      0.000    2586.224    3146.599\n",
      "93                      6799.6036    138.483     49.101      0.000    6528.179    7071.028\n",
      "94                     -2802.7185    245.471    -11.418      0.000   -3283.837   -2321.600\n",
      "98                     -2347.9053    253.482     -9.263      0.000   -2844.725   -1851.086\n",
      "==============================================================================\n",
      "Omnibus:                    47777.863   Durbin-Watson:                   1.714\n",
      "Prob(Omnibus):                  0.000   Jarque-Bera (JB):           211796.065\n",
      "Skew:                           1.401   Prob(JB):                         0.00\n",
      "Kurtosis:                       7.882   Cond. No.                     2.25e+15\n",
      "==============================================================================\n",
      "\n",
      "Notes:\n",
      "[1] Standard Errors assume that the covariance matrix of the errors is correctly specified.\n",
      "[2] The smallest eigenvalue is 9.38e-26. This might indicate that there are\n",
      "strong multicollinearity problems or that the design matrix is singular.\n"
     ]
    }
   ],
   "source": [
    "mod = sm.OLS(price, df)\n",
    "#mod = sm.OLS(y_train, X_train)\n",
    "res = mod.fit()\n",
    "print(res.summary())\n",
    "\n",
    "# p-values is the probability of rejection of the null hypotheses\n",
    "# the null hypothesis is the hypothesis that the two variables are not related\n",
    "# we look for the parameters with less than 0.05 p value, 95% confidence that these are related to the target"
   ]
  },
  {
   "cell_type": "code",
   "execution_count": 96,
   "metadata": {},
   "outputs": [],
   "source": [
    "a = res.summary()"
   ]
  },
  {
   "cell_type": "code",
   "execution_count": 97,
   "metadata": {},
   "outputs": [],
   "source": [
    "pval = pd.DataFrame(res.pvalues)"
   ]
  },
  {
   "cell_type": "code",
   "execution_count": 99,
   "metadata": {},
   "outputs": [
    {
     "data": {
      "text/html": [
       "<div>\n",
       "<style scoped>\n",
       "    .dataframe tbody tr th:only-of-type {\n",
       "        vertical-align: middle;\n",
       "    }\n",
       "\n",
       "    .dataframe tbody tr th {\n",
       "        vertical-align: top;\n",
       "    }\n",
       "\n",
       "    .dataframe thead th {\n",
       "        text-align: right;\n",
       "    }\n",
       "</style>\n",
       "<table border=\"1\" class=\"dataframe\">\n",
       "  <thead>\n",
       "    <tr style=\"text-align: right;\">\n",
       "      <th></th>\n",
       "      <th>0</th>\n",
       "    </tr>\n",
       "  </thead>\n",
       "  <tbody>\n",
       "    <tr>\n",
       "      <th>year</th>\n",
       "      <td>0.000000e+00</td>\n",
       "    </tr>\n",
       "    <tr>\n",
       "      <th>lat</th>\n",
       "      <td>9.758475e-12</td>\n",
       "    </tr>\n",
       "    <tr>\n",
       "      <th>long</th>\n",
       "      <td>2.817030e-63</td>\n",
       "    </tr>\n",
       "    <tr>\n",
       "      <th>color_black</th>\n",
       "      <td>0.000000e+00</td>\n",
       "    </tr>\n",
       "    <tr>\n",
       "      <th>color_other</th>\n",
       "      <td>0.000000e+00</td>\n",
       "    </tr>\n",
       "    <tr>\n",
       "      <th>...</th>\n",
       "      <td>...</td>\n",
       "    </tr>\n",
       "    <tr>\n",
       "      <th>88</th>\n",
       "      <td>2.059995e-106</td>\n",
       "    </tr>\n",
       "    <tr>\n",
       "      <th>90</th>\n",
       "      <td>2.535221e-89</td>\n",
       "    </tr>\n",
       "    <tr>\n",
       "      <th>93</th>\n",
       "      <td>0.000000e+00</td>\n",
       "    </tr>\n",
       "    <tr>\n",
       "      <th>94</th>\n",
       "      <td>3.503946e-30</td>\n",
       "    </tr>\n",
       "    <tr>\n",
       "      <th>98</th>\n",
       "      <td>2.018527e-20</td>\n",
       "    </tr>\n",
       "  </tbody>\n",
       "</table>\n",
       "<p>83 rows × 1 columns</p>\n",
       "</div>"
      ],
      "text/plain": [
       "                         0\n",
       "year          0.000000e+00\n",
       "lat           9.758475e-12\n",
       "long          2.817030e-63\n",
       "color_black   0.000000e+00\n",
       "color_other   0.000000e+00\n",
       "...                    ...\n",
       "88           2.059995e-106\n",
       "90            2.535221e-89\n",
       "93            0.000000e+00\n",
       "94            3.503946e-30\n",
       "98            2.018527e-20\n",
       "\n",
       "[83 rows x 1 columns]"
      ]
     },
     "execution_count": 99,
     "metadata": {},
     "output_type": "execute_result"
    }
   ],
   "source": [
    "pval.loc[pval[0] < 0.05]"
   ]
  },
  {
   "cell_type": "code",
   "execution_count": null,
   "metadata": {},
   "outputs": [],
   "source": []
  },
  {
   "cell_type": "code",
   "execution_count": null,
   "metadata": {},
   "outputs": [],
   "source": []
  },
  {
   "cell_type": "markdown",
   "metadata": {},
   "source": [
    "## Simple linear model"
   ]
  },
  {
   "cell_type": "code",
   "execution_count": 100,
   "metadata": {},
   "outputs": [],
   "source": [
    "data = df.values"
   ]
  },
  {
   "cell_type": "code",
   "execution_count": 101,
   "metadata": {},
   "outputs": [],
   "source": [
    "#Train/test split\n",
    "X_train, X_test, y_train, y_test = train_test_split(data, price, test_size=0.20, random_state=42)"
   ]
  },
  {
   "cell_type": "code",
   "execution_count": 102,
   "metadata": {},
   "outputs": [],
   "source": [
    "from sklearn.linear_model import LinearRegression"
   ]
  },
  {
   "cell_type": "code",
   "execution_count": 103,
   "metadata": {},
   "outputs": [
    {
     "data": {
      "text/plain": [
       "0.5625509424235958"
      ]
     },
     "execution_count": 103,
     "metadata": {},
     "output_type": "execute_result"
    }
   ],
   "source": [
    "reg = LinearRegression().fit(X_train, y_train)\n",
    "reg.score(X_train, y_train)"
   ]
  },
  {
   "cell_type": "code",
   "execution_count": 108,
   "metadata": {},
   "outputs": [
    {
     "data": {
      "text/plain": [
       "(0.0, 100.0)"
      ]
     },
     "execution_count": 108,
     "metadata": {},
     "output_type": "execute_result"
    },
    {
     "data": {
      "image/png": "[encoded data removed]",
      "text/plain": [
       "<Figure size 432x288 with 1 Axes>"
      ]
     },
     "metadata": {
      "needs_background": "light"
     },
     "output_type": "display_data"
    }
   ],
   "source": [
    "plt.plot(y_test)\n",
    "plt.plot(reg.predict(X_test))\n",
    "plt.xlim(0, 100)"
   ]
  },
  {
   "cell_type": "code",
   "execution_count": null,
   "metadata": {},
   "outputs": [],
   "source": []
  },
  {
   "cell_type": "code",
   "execution_count": null,
   "metadata": {},
   "outputs": [],
   "source": []
  }
 ],
 "metadata": {
  "kernelspec": {
   "display_name": "Python 3",
   "language": "python",
   "name": "python3"
  },
  "language_info": {
   "codemirror_mode": {
    "name": "ipython",
    "version": 3
   },
   "file_extension": ".py",
   "mimetype": "text/x-python",
   "name": "python",
   "nbconvert_exporter": "python",
   "pygments_lexer": "ipython3",
   "version": "3.7.9"
  }
 },
 "nbformat": 4,
 "nbformat_minor": 4
}
