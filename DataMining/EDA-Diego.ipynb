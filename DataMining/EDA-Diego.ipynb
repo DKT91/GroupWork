{
 "cells": [
  {
   "cell_type": "markdown",
   "metadata": {},
   "source": [
    "# Natural Language Processing"
   ]
  },
  {
   "cell_type": "markdown",
   "metadata": {},
   "source": [
    "The dataset contains over __450,000__ vehicles and only 26 atributes that have to be processed.\n",
    "\n",
    "This document will apply NLP for feature extraction of the description of each car model.\n",
    "\n",
    "Techniques include _1. TF-IDF_ and _2. Word Embedding_\n",
    "\n",
    "I followed the following method: https://medium.com/@eiki1212/feature-extraction-in-natural-language-processing-with-python-59c7cdcaf064"
   ]
  },
  {
   "cell_type": "markdown",
   "metadata": {},
   "source": [
    "## Prepare data"
   ]
  },
  {
   "cell_type": "code",
   "execution_count": 2,
   "metadata": {},
   "outputs": [],
   "source": [
    "import os\n",
    "import pandas as pd\n",
    "import matplotlib.pyplot as plt\n",
    "from sklearn.metrics import mean_squared_error\n",
    "from sklearn import linear_model\n",
    "import numpy as np\n",
    "import CleaningCars as hf"
   ]
  },
  {
   "cell_type": "code",
   "execution_count": 3,
   "metadata": {},
   "outputs": [],
   "source": [
    "def load_data():    \n",
    "    csv_path = os.path.join('data', 'vehicles.csv')\n",
    "    return pd.read_csv(csv_path)\n",
    "\n",
    "df = load_data()"
   ]
  },
  {
   "cell_type": "code",
   "execution_count": 4,
   "metadata": {},
   "outputs": [
    {
     "data": {
      "text/plain": [
       "(458213, 26)"
      ]
     },
     "execution_count": 4,
     "metadata": {},
     "output_type": "execute_result"
    }
   ],
   "source": [
    "df.shape"
   ]
  },
  {
   "cell_type": "markdown",
   "metadata": {},
   "source": [
    "# HELPER FUNCTIONS"
   ]
  },
  {
   "cell_type": "markdown",
   "metadata": {},
   "source": [
    "### Removing unecesarry columns"
   ]
  },
  {
   "cell_type": "code",
   "execution_count": 5,
   "metadata": {},
   "outputs": [],
   "source": [
    "df = hf.remove_columns(df)"
   ]
  },
  {
   "cell_type": "code",
   "execution_count": 6,
   "metadata": {},
   "outputs": [
    {
     "data": {
      "text/plain": [
       "Index(['url', 'region', 'price', 'year', 'manufacturer', 'condition',\n",
       "       'cylinders', 'fuel', 'odometer', 'title_status', 'transmission',\n",
       "       'drive', 'type', 'paint_color', 'description', 'state', 'lat', 'long',\n",
       "       'posting_date'],\n",
       "      dtype='object')"
      ]
     },
     "execution_count": 6,
     "metadata": {},
     "output_type": "execute_result"
    }
   ],
   "source": [
    "df.columns"
   ]
  },
  {
   "cell_type": "markdown",
   "metadata": {},
   "source": [
    "### Price Range"
   ]
  },
  {
   "cell_type": "code",
   "execution_count": 7,
   "metadata": {},
   "outputs": [],
   "source": [
    "df = hf.price_range(df, 1)"
   ]
  },
  {
   "cell_type": "code",
   "execution_count": 8,
   "metadata": {},
   "outputs": [
    {
     "data": {
      "text/plain": [
       "(420375, 19)"
      ]
     },
     "execution_count": 8,
     "metadata": {},
     "output_type": "execute_result"
    }
   ],
   "source": [
    "df.shape"
   ]
  },
  {
   "cell_type": "code",
   "execution_count": 9,
   "metadata": {},
   "outputs": [
    {
     "data": {
      "text/plain": [
       "0"
      ]
     },
     "execution_count": 9,
     "metadata": {},
     "output_type": "execute_result"
    }
   ],
   "source": [
    "sum(df[\"price\"] > 60000)"
   ]
  },
  {
   "cell_type": "markdown",
   "metadata": {},
   "source": [
    "### Check for empty values"
   ]
  },
  {
   "cell_type": "code",
   "execution_count": 10,
   "metadata": {},
   "outputs": [
    {
     "data": {
      "text/plain": [
       "65"
      ]
     },
     "execution_count": 10,
     "metadata": {},
     "output_type": "execute_result"
    }
   ],
   "source": [
    "df[\"description\"].isnull().sum()"
   ]
  },
  {
   "cell_type": "markdown",
   "metadata": {},
   "source": [
    "Only 4 empty values so lets get rid of them"
   ]
  },
  {
   "cell_type": "code",
   "execution_count": 11,
   "metadata": {},
   "outputs": [],
   "source": [
    "df = df.dropna(subset = [\"description\"])"
   ]
  },
  {
   "cell_type": "code",
   "execution_count": 12,
   "metadata": {},
   "outputs": [
    {
     "data": {
      "text/plain": [
       "(420310, 19)"
      ]
     },
     "execution_count": 12,
     "metadata": {},
     "output_type": "execute_result"
    }
   ],
   "source": [
    "df.shape"
   ]
  },
  {
   "cell_type": "markdown",
   "metadata": {},
   "source": [
    "Max and min car price"
   ]
  },
  {
   "cell_type": "code",
   "execution_count": 13,
   "metadata": {},
   "outputs": [
    {
     "data": {
      "text/plain": [
       "(array([3006., 1677., 2211., 1538., 2515.,  854.,  819., 1044.,  614.,\n",
       "        2112.,  272., 1030.,  687.,  461., 2625.,  553.,  629., 1218.,\n",
       "         867., 3336.,  324., 1111.,  992.,  813., 4280.,  663., 1004.,\n",
       "        1792., 1589., 5496.,  287., 1321., 1199.,  795., 5195.,  834.,\n",
       "        1014., 1924., 2253., 6850.,  249., 1319., 1210.,  828., 5286.,\n",
       "         710.,  810., 1596., 2116., 5995., 2474.,  261., 1261.,  589.,\n",
       "        2336., 3408.,  677.,  958., 1278., 8786., 1897.,  258., 1012.,\n",
       "         611., 2413., 3379.,  393.,  940., 1329., 9250., 1365.,  207.,\n",
       "         951.,  448., 2223., 2718.,  445.,  637., 1084., 8899., 1390.,\n",
       "         202.,  619.,  374., 1856., 2580.,  377.,  809.,  784., 8327.,\n",
       "        1107.,  115.,  525.,  389., 1363., 2303.,  385.,  635., 1097.,\n",
       "        8419.]),\n",
       " array([1.00000e+00, 1.00980e+02, 2.00960e+02, 3.00940e+02, 4.00920e+02,\n",
       "        5.00900e+02, 6.00880e+02, 7.00860e+02, 8.00840e+02, 9.00820e+02,\n",
       "        1.00080e+03, 1.10078e+03, 1.20076e+03, 1.30074e+03, 1.40072e+03,\n",
       "        1.50070e+03, 1.60068e+03, 1.70066e+03, 1.80064e+03, 1.90062e+03,\n",
       "        2.00060e+03, 2.10058e+03, 2.20056e+03, 2.30054e+03, 2.40052e+03,\n",
       "        2.50050e+03, 2.60048e+03, 2.70046e+03, 2.80044e+03, 2.90042e+03,\n",
       "        3.00040e+03, 3.10038e+03, 3.20036e+03, 3.30034e+03, 3.40032e+03,\n",
       "        3.50030e+03, 3.60028e+03, 3.70026e+03, 3.80024e+03, 3.90022e+03,\n",
       "        4.00020e+03, 4.10018e+03, 4.20016e+03, 4.30014e+03, 4.40012e+03,\n",
       "        4.50010e+03, 4.60008e+03, 4.70006e+03, 4.80004e+03, 4.90002e+03,\n",
       "        5.00000e+03, 5.09998e+03, 5.19996e+03, 5.29994e+03, 5.39992e+03,\n",
       "        5.49990e+03, 5.59988e+03, 5.69986e+03, 5.79984e+03, 5.89982e+03,\n",
       "        5.99980e+03, 6.09978e+03, 6.19976e+03, 6.29974e+03, 6.39972e+03,\n",
       "        6.49970e+03, 6.59968e+03, 6.69966e+03, 6.79964e+03, 6.89962e+03,\n",
       "        6.99960e+03, 7.09958e+03, 7.19956e+03, 7.29954e+03, 7.39952e+03,\n",
       "        7.49950e+03, 7.59948e+03, 7.69946e+03, 7.79944e+03, 7.89942e+03,\n",
       "        7.99940e+03, 8.09938e+03, 8.19936e+03, 8.29934e+03, 8.39932e+03,\n",
       "        8.49930e+03, 8.59928e+03, 8.69926e+03, 8.79924e+03, 8.89922e+03,\n",
       "        8.99920e+03, 9.09918e+03, 9.19916e+03, 9.29914e+03, 9.39912e+03,\n",
       "        9.49910e+03, 9.59908e+03, 9.69906e+03, 9.79904e+03, 9.89902e+03,\n",
       "        9.99900e+03]),\n",
       " <BarContainer object of 100 artists>)"
      ]
     },
     "execution_count": 13,
     "metadata": {},
     "output_type": "execute_result"
    },
    {
     "data": {
      "image/png": "[encoded data removed]",
      "text/plain": [
       "<Figure size 432x288 with 1 Axes>"
      ]
     },
     "metadata": {
      "needs_background": "light"
     },
     "output_type": "display_data"
    }
   ],
   "source": [
    "#plot_price = df[\"price\"].loc[df[\"price\"] < 100_000]\n",
    "\n",
    "plt.hist(df[\"price\"].loc[df[\"price\"] < 10000].values, bins = 100)"
   ]
  },
  {
   "cell_type": "code",
   "execution_count": 14,
   "metadata": {},
   "outputs": [
    {
     "data": {
      "text/plain": [
       "(array([11801.,  5891.,  6173.,  7443., 14824.,  9631., 13609., 10440.,\n",
       "        13133., 18880.,  7859., 13754.,  7562., 12189., 15619.,  4846.,\n",
       "        11933.,  4748.,  9396., 11823.,  4176.,  9537.,  4233.,  9112.,\n",
       "        12847.,  3043.,  8756.,  3689.,  7505.,  9976.,  2550.,  6779.,\n",
       "         2652.,  7026.,  5914.,  1327.,  5170.,  1920.,  4745.,  6068.,\n",
       "         1260.,  5575.,  1286.,  4369.,  5524.,  1646.,  5020.,  1855.,\n",
       "         4236.,  5930.,  1095.,  3183.,  1037.,  3790.,  3639.,   959.,\n",
       "         2975.,   758.,  3868.,  3190.,   668.,  2692.,   849.,  2072.,\n",
       "         2568.,   979.,  3431.,   445.,  1120.,  1619.,   559.,  1274.,\n",
       "          287.,  1146.,  1001.,   348.,   730.,   236.,   889.,   629.,\n",
       "          242.,   629.,   175.,  1159.,   198.,   133.,   444.,   162.,\n",
       "          508.,   454.,    86.,   617.,    88.,   404.,   323.,   139.,\n",
       "          289.,    83.,   247.,   614.]),\n",
       " array([1.000000e+00, 6.009800e+02, 1.200960e+03, 1.800940e+03,\n",
       "        2.400920e+03, 3.000900e+03, 3.600880e+03, 4.200860e+03,\n",
       "        4.800840e+03, 5.400820e+03, 6.000800e+03, 6.600780e+03,\n",
       "        7.200760e+03, 7.800740e+03, 8.400720e+03, 9.000700e+03,\n",
       "        9.600680e+03, 1.020066e+04, 1.080064e+04, 1.140062e+04,\n",
       "        1.200060e+04, 1.260058e+04, 1.320056e+04, 1.380054e+04,\n",
       "        1.440052e+04, 1.500050e+04, 1.560048e+04, 1.620046e+04,\n",
       "        1.680044e+04, 1.740042e+04, 1.800040e+04, 1.860038e+04,\n",
       "        1.920036e+04, 1.980034e+04, 2.040032e+04, 2.100030e+04,\n",
       "        2.160028e+04, 2.220026e+04, 2.280024e+04, 2.340022e+04,\n",
       "        2.400020e+04, 2.460018e+04, 2.520016e+04, 2.580014e+04,\n",
       "        2.640012e+04, 2.700010e+04, 2.760008e+04, 2.820006e+04,\n",
       "        2.880004e+04, 2.940002e+04, 3.000000e+04, 3.059998e+04,\n",
       "        3.119996e+04, 3.179994e+04, 3.239992e+04, 3.299990e+04,\n",
       "        3.359988e+04, 3.419986e+04, 3.479984e+04, 3.539982e+04,\n",
       "        3.599980e+04, 3.659978e+04, 3.719976e+04, 3.779974e+04,\n",
       "        3.839972e+04, 3.899970e+04, 3.959968e+04, 4.019966e+04,\n",
       "        4.079964e+04, 4.139962e+04, 4.199960e+04, 4.259958e+04,\n",
       "        4.319956e+04, 4.379954e+04, 4.439952e+04, 4.499950e+04,\n",
       "        4.559948e+04, 4.619946e+04, 4.679944e+04, 4.739942e+04,\n",
       "        4.799940e+04, 4.859938e+04, 4.919936e+04, 4.979934e+04,\n",
       "        5.039932e+04, 5.099930e+04, 5.159928e+04, 5.219926e+04,\n",
       "        5.279924e+04, 5.339922e+04, 5.399920e+04, 5.459918e+04,\n",
       "        5.519916e+04, 5.579914e+04, 5.639912e+04, 5.699910e+04,\n",
       "        5.759908e+04, 5.819906e+04, 5.879904e+04, 5.939902e+04,\n",
       "        5.999900e+04]),\n",
       " <BarContainer object of 100 artists>)"
      ]
     },
     "execution_count": 14,
     "metadata": {},
     "output_type": "execute_result"
    },
    {
     "data": {
      "image/png": "[encoded data removed]",
      "text/plain": [
       "<Figure size 432x288 with 1 Axes>"
      ]
     },
     "metadata": {
      "needs_background": "light"
     },
     "output_type": "display_data"
    }
   ],
   "source": [
    "#plot_price = df[\"price\"].loc[df[\"price\"] < 100_000]\n",
    "\n",
    "plt.hist(df[\"price\"].values, bins = 100)"
   ]
  },
  {
   "cell_type": "code",
   "execution_count": null,
   "metadata": {},
   "outputs": [],
   "source": []
  },
  {
   "cell_type": "markdown",
   "metadata": {},
   "source": [
    "## 1. TF-IDF"
   ]
  },
  {
   "cell_type": "markdown",
   "metadata": {},
   "source": [
    "Serves as a way to extract features based off of the importance of words"
   ]
  },
  {
   "cell_type": "code",
   "execution_count": 111,
   "metadata": {},
   "outputs": [],
   "source": [
    "from sklearn.feature_extraction.text import TfidfVectorizer"
   ]
  },
  {
   "cell_type": "code",
   "execution_count": 159,
   "metadata": {},
   "outputs": [],
   "source": [
    "vectorizer = TfidfVectorizer(stop_words='english',max_features = 100)"
   ]
  },
  {
   "cell_type": "code",
   "execution_count": 160,
   "metadata": {},
   "outputs": [],
   "source": [
    "sentences  = df[\"description\"].values"
   ]
  },
  {
   "cell_type": "code",
   "execution_count": 161,
   "metadata": {},
   "outputs": [
    {
     "data": {
      "text/plain": [
       "TfidfVectorizer(max_features=100, stop_words='english')"
      ]
     },
     "execution_count": 161,
     "metadata": {},
     "output_type": "execute_result"
    }
   ],
   "source": [
    "vectorizer.fit(sentences)"
   ]
  },
  {
   "cell_type": "code",
   "execution_count": 162,
   "metadata": {},
   "outputs": [
    {
     "data": {
      "text/plain": [
       "100"
      ]
     },
     "execution_count": 162,
     "metadata": {},
     "output_type": "execute_result"
    }
   ],
   "source": [
    "len(vectorizer.vocabulary_)"
   ]
  },
  {
   "cell_type": "code",
   "execution_count": 163,
   "metadata": {},
   "outputs": [
    {
     "data": {
      "text/plain": [
       "{'car': 21,\n",
       " '2016': 7,\n",
       " 'miles': 63,\n",
       " 'vehicle': 95,\n",
       " '2014': 5,\n",
       " 'time': 86,\n",
       " 'transmission': 91,\n",
       " 'used': 93,\n",
       " 'new': 65,\n",
       " 'check': 26,\n",
       " 'engine': 41,\n",
       " 'power': 69,\n",
       " 'rear': 72,\n",
       " 'like': 57,\n",
       " 'body': 18,\n",
       " 'passenger': 67,\n",
       " 'driver': 40,\n",
       " 'seat': 76,\n",
       " 'fuel': 47,\n",
       " 'leather': 56,\n",
       " 'great': 50,\n",
       " 'test': 84,\n",
       " 'drive': 39,\n",
       " 'text': 85,\n",
       " 'carvana': 24,\n",
       " 'buy': 19,\n",
       " 'safety': 73,\n",
       " 'trade': 90,\n",
       " 'cars': 23,\n",
       " 'make': 60,\n",
       " 'contact': 32,\n",
       " 'stock': 82,\n",
       " 'number': 66,\n",
       " 'http': 52,\n",
       " 'www': 99,\n",
       " 'carvanaauto': 25,\n",
       " 'com': 31,\n",
       " 'pre': 70,\n",
       " 'auto': 12,\n",
       " 'credit': 34,\n",
       " 'finance': 44,\n",
       " 'chevrolet': 27,\n",
       " 'low': 59,\n",
       " '150': 0,\n",
       " 'financing': 45,\n",
       " 'model': 64,\n",
       " 'fees': 43,\n",
       " 'dealership': 36,\n",
       " 'good': 49,\n",
       " 'clean': 29,\n",
       " 'color': 30,\n",
       " 'price': 71,\n",
       " 'title': 87,\n",
       " 'sales': 75,\n",
       " 'information': 54,\n",
       " '2017': 8,\n",
       " '2015': 6,\n",
       " '2013': 4,\n",
       " '2012': 3,\n",
       " '2011': 2,\n",
       " 'toyota': 89,\n",
       " '4dr': 9,\n",
       " 'suv': 83,\n",
       " 'today': 88,\n",
       " 'mileage': 62,\n",
       " 'automatic': 13,\n",
       " 'exterior': 42,\n",
       " 'interior': 55,\n",
       " 'black': 16,\n",
       " 'series': 79,\n",
       " '4wd': 10,\n",
       " 'heated': 51,\n",
       " 'seats': 77,\n",
       " 'control': 33,\n",
       " 'sport': 80,\n",
       " 'available': 14,\n",
       " 'bad': 15,\n",
       " 'wheel': 97,\n",
       " 'link': 58,\n",
       " 'dealer': 35,\n",
       " 'details': 37,\n",
       " 'gasoline': 48,\n",
       " 'carfax': 22,\n",
       " 'sale': 74,\n",
       " 'air': 11,\n",
       " 'windows': 98,\n",
       " 'steering': 81,\n",
       " 'door': 38,\n",
       " 'sedan': 78,\n",
       " 'truck': 92,\n",
       " 'vehicles': 96,\n",
       " 'bmw': 17,\n",
       " 'ford': 46,\n",
       " 'mercedes': 61,\n",
       " 'class': 28,\n",
       " 'cab': 20,\n",
       " 'pickup': 68,\n",
       " '1500': 1,\n",
       " 'v6': 94,\n",
       " 'il': 53}"
      ]
     },
     "execution_count": 163,
     "metadata": {},
     "output_type": "execute_result"
    }
   ],
   "source": [
    "vectorizer.vocabulary_"
   ]
  },
  {
   "cell_type": "code",
   "execution_count": 164,
   "metadata": {},
   "outputs": [],
   "source": [
    "# Transform to document-term matrix\n",
    "vector_spaces = vectorizer.transform(sentences)\n"
   ]
  },
  {
   "cell_type": "code",
   "execution_count": 165,
   "metadata": {},
   "outputs": [],
   "source": [
    "tfidf = vector_spaces.toarray()"
   ]
  },
  {
   "cell_type": "code",
   "execution_count": 166,
   "metadata": {},
   "outputs": [],
   "source": [
    "from sklearn.linear_model import lasso_path"
   ]
  },
  {
   "cell_type": "code",
   "execution_count": 167,
   "metadata": {},
   "outputs": [],
   "source": [
    "alphas_lasso, coefs_lasso, _ = lasso_path(tfidf, df[\"price\"], fit_intercept=False)"
   ]
  },
  {
   "cell_type": "code",
   "execution_count": 169,
   "metadata": {},
   "outputs": [
    {
     "data": {
      "image/png": "[encoded data removed]",
      "text/plain": [
       "<Figure size 576x288 with 1 Axes>"
      ]
     },
     "metadata": {
      "needs_background": "light"
     },
     "output_type": "display_data"
    }
   ],
   "source": [
    "fig, ax = plt.subplots(figsize = (8,4))\n",
    "for i in range(100):\n",
    "    ax.plot(alphas_lasso, coefs_lasso[i,:])\n",
    "    ax.grid(True)\n",
    "    ax.set_xlabel(\"Regularization\")\n",
    "    ax.set_ylabel(\"Regression Coefficients\")"
   ]
  },
  {
   "cell_type": "code",
   "execution_count": 170,
   "metadata": {},
   "outputs": [],
   "source": [
    "clf = linear_model.Lasso(alpha=50)"
   ]
  },
  {
   "cell_type": "code",
   "execution_count": 171,
   "metadata": {},
   "outputs": [
    {
     "data": {
      "text/plain": [
       "Lasso(alpha=50)"
      ]
     },
     "execution_count": 171,
     "metadata": {},
     "output_type": "execute_result"
    }
   ],
   "source": [
    "clf.fit(tfidf, df[\"price\"])"
   ]
  },
  {
   "cell_type": "code",
   "execution_count": 172,
   "metadata": {},
   "outputs": [
    {
     "data": {
      "text/plain": [
       "158939286.88777274"
      ]
     },
     "execution_count": 172,
     "metadata": {},
     "output_type": "execute_result"
    }
   ],
   "source": [
    "mean_squared_error(df[\"price\"], clf.predict(tfidf))"
   ]
  },
  {
   "cell_type": "code",
   "execution_count": 173,
   "metadata": {},
   "outputs": [
    {
     "data": {
      "text/plain": [
       "31"
      ]
     },
     "execution_count": 173,
     "metadata": {},
     "output_type": "execute_result"
    }
   ],
   "source": [
    "sum(clf.coef_ != 0)"
   ]
  },
  {
   "cell_type": "code",
   "execution_count": 180,
   "metadata": {},
   "outputs": [
    {
     "data": {
      "text/plain": [
       "array([ 2,  3,  4,  5,  9, 11, 12, 13, 14, 15, 18, 19, 21, 23, 25, 26, 31,\n",
       "       32, 33, 34, 35, 36, 37, 38, 39, 40, 41, 42, 43, 44, 45, 47, 48, 52,\n",
       "       53, 54, 55, 56, 57, 59, 60, 62, 64, 66, 67, 69, 71, 73, 74, 75, 76,\n",
       "       77, 79, 80, 81, 82, 83, 84, 85, 86, 88, 89, 90, 91, 93, 94, 96, 98,\n",
       "       99], dtype=int64)"
      ]
     },
     "execution_count": 180,
     "metadata": {},
     "output_type": "execute_result"
    }
   ],
   "source": [
    "np.where(clf.coef_ == 0)[0]"
   ]
  },
  {
   "cell_type": "code",
   "execution_count": 186,
   "metadata": {},
   "outputs": [],
   "source": [
    "#most important words by tfidf\n",
    "iwords = np.asarray(list(vectorizer.vocabulary_))"
   ]
  },
  {
   "cell_type": "code",
   "execution_count": 187,
   "metadata": {},
   "outputs": [
    {
     "data": {
      "text/plain": [
       "array(['miles', 'vehicle', '2014', 'time', 'check', 'power', 'rear',\n",
       "       'like', 'body', 'passenger', 'fuel', 'leather', 'test', 'text',\n",
       "       'buy', 'safety', 'stock', 'number', 'http', 'www', 'carvanaauto',\n",
       "       'com', 'pre', 'auto', 'credit', 'finance', 'chevrolet', 'low',\n",
       "       '150', 'financing', 'model', 'dealership', 'good', 'title',\n",
       "       'sales', 'information', '2017', '2015', '2013', '2011', 'toyota',\n",
       "       'suv', 'mileage', 'exterior', 'interior', 'series', 'heated',\n",
       "       'control', 'sport', 'available', 'bad', 'wheel', 'dealer',\n",
       "       'details', 'gasoline', 'carfax', 'sale', 'air', 'windows',\n",
       "       'steering', 'sedan', 'truck', 'vehicles', 'bmw', 'mercedes',\n",
       "       'class', 'pickup', 'v6', 'il'], dtype='<U12')"
      ]
     },
     "execution_count": 187,
     "metadata": {},
     "output_type": "execute_result"
    }
   ],
   "source": [
    "iwords[np.where(clf.coef_ == 0)[0]]"
   ]
  },
  {
   "cell_type": "code",
   "execution_count": null,
   "metadata": {},
   "outputs": [],
   "source": []
  }
 ],
 "metadata": {
  "kernelspec": {
   "display_name": "Python 3",
   "language": "python",
   "name": "python3"
  },
  "language_info": {
   "codemirror_mode": {
    "name": "ipython",
    "version": 3
   },
   "file_extension": ".py",
   "mimetype": "text/x-python",
   "name": "python",
   "nbconvert_exporter": "python",
   "pygments_lexer": "ipython3",
   "version": "3.7.9"
  }
 },
 "nbformat": 4,
 "nbformat_minor": 4
}
