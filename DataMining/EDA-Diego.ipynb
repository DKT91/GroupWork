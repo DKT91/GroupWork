{
 "cells": [
  {
   "cell_type": "markdown",
   "metadata": {},
   "source": [
    "# Natural Language Processing"
   ]
  },
  {
   "cell_type": "markdown",
   "metadata": {},
   "source": [
    "The dataset contains over __450,000__ vehicles and only 26 atributes that have to be processed.\n",
    "\n",
    "This document will apply NLP for feature extraction of the description of each car model.\n",
    "\n",
    "Techniques include _1. TF-IDF_ and _2. Word Embedding_\n",
    "\n",
    "I followed the following method: https://medium.com/@eiki1212/feature-extraction-in-natural-language-processing-with-python-59c7cdcaf064"
   ]
  },
  {
   "cell_type": "markdown",
   "metadata": {},
   "source": [
    "## Prepare data"
   ]
  },
  {
   "cell_type": "code",
   "execution_count": 3,
   "metadata": {},
   "outputs": [],
   "source": [
    "import os\n",
    "import pandas as pd\n",
    "import matplotlib.pyplot as plt\n",
    "from sklearn.metrics import mean_squared_error\n",
    "from sklearn import linear_model\n",
    "import numpy as np\n",
    "import CleaningCars as hf"
   ]
  },
  {
   "cell_type": "code",
   "execution_count": 5,
   "metadata": {},
   "outputs": [],
   "source": [
    "def load_data():    \n",
    "    csv_path = os.path.join('data', 'vehicles.csv')\n",
    "    return pd.read_csv(csv_path)\n",
    "\n",
    "df = load_data()"
   ]
  },
  {
   "cell_type": "code",
   "execution_count": 6,
   "metadata": {},
   "outputs": [
    {
     "data": {
      "text/plain": [
       "(458213, 26)"
      ]
     },
     "execution_count": 6,
     "metadata": {},
     "output_type": "execute_result"
    }
   ],
   "source": [
    "df.shape"
   ]
  },
  {
   "cell_type": "markdown",
   "metadata": {},
   "source": [
    "# HELPER FUNCTIONS"
   ]
  },
  {
   "cell_type": "markdown",
   "metadata": {},
   "source": [
    "### Removing unecesarry columns"
   ]
  },
  {
   "cell_type": "code",
   "execution_count": 10,
   "metadata": {},
   "outputs": [
    {
     "ename": "KeyError",
     "evalue": "\"['Unnamed: 0' 'id' 'image_url' 'VIN' 'region_url' 'id' 'model' 'size'\\n 'url'] not found in axis\"",
     "output_type": "error",
     "traceback": [
      "\u001b[1;31m---------------------------------------------------------------------------\u001b[0m",
      "\u001b[1;31mKeyError\u001b[0m                                  Traceback (most recent call last)",
      "\u001b[1;32m<ipython-input-10-dbc6d9e475a0>\u001b[0m in \u001b[0;36m<module>\u001b[1;34m\u001b[0m\n\u001b[1;32m----> 1\u001b[1;33m \u001b[0mdf\u001b[0m \u001b[1;33m=\u001b[0m \u001b[0mhf\u001b[0m\u001b[1;33m.\u001b[0m\u001b[0mremove_columns\u001b[0m\u001b[1;33m(\u001b[0m\u001b[0mdf\u001b[0m\u001b[1;33m)\u001b[0m\u001b[1;33m\u001b[0m\u001b[1;33m\u001b[0m\u001b[0m\n\u001b[0m",
      "\u001b[1;32m~\\Google Drive\\Southampton\\Year 4\\Semester 2\\Git\\GroupWork\\DataMining\\CleaningCars.py\u001b[0m in \u001b[0;36mremove_columns\u001b[1;34m(df)\u001b[0m\n\u001b[0;32m     18\u001b[0m     \u001b[1;34m\"\"\"Removes columns we agreed were useless\"\"\"\u001b[0m\u001b[1;33m\u001b[0m\u001b[1;33m\u001b[0m\u001b[0m\n\u001b[0;32m     19\u001b[0m     \u001b[0mcolumns\u001b[0m \u001b[1;33m=\u001b[0m \u001b[1;33m[\u001b[0m\u001b[1;34m\"Unnamed: 0\"\u001b[0m\u001b[1;33m,\u001b[0m \u001b[1;34m\"id\"\u001b[0m\u001b[1;33m,\u001b[0m \u001b[1;34m\"image_url\"\u001b[0m\u001b[1;33m,\u001b[0m \u001b[1;34m\"VIN\"\u001b[0m\u001b[1;33m,\u001b[0m \u001b[1;34m\"region_url\"\u001b[0m\u001b[1;33m,\u001b[0m \u001b[1;34m\"id\"\u001b[0m\u001b[1;33m,\u001b[0m \u001b[1;34m\"model\"\u001b[0m\u001b[1;33m,\u001b[0m \u001b[1;34m\"size\"\u001b[0m\u001b[1;33m,\u001b[0m\u001b[1;34m\"url\"\u001b[0m\u001b[1;33m]\u001b[0m\u001b[1;33m\u001b[0m\u001b[1;33m\u001b[0m\u001b[0m\n\u001b[1;32m---> 20\u001b[1;33m     \u001b[0mdf\u001b[0m\u001b[1;33m.\u001b[0m\u001b[0mdrop\u001b[0m\u001b[1;33m(\u001b[0m\u001b[0mcolumns\u001b[0m\u001b[1;33m,\u001b[0m \u001b[0maxis\u001b[0m\u001b[1;33m=\u001b[0m\u001b[1;36m1\u001b[0m\u001b[1;33m,\u001b[0m \u001b[0minplace\u001b[0m\u001b[1;33m=\u001b[0m\u001b[1;32mTrue\u001b[0m\u001b[1;33m)\u001b[0m\u001b[1;33m\u001b[0m\u001b[1;33m\u001b[0m\u001b[0m\n\u001b[0m\u001b[0;32m     21\u001b[0m     \u001b[1;32mreturn\u001b[0m\u001b[1;33m(\u001b[0m\u001b[0mdf\u001b[0m\u001b[1;33m)\u001b[0m\u001b[1;33m\u001b[0m\u001b[1;33m\u001b[0m\u001b[0m\n\u001b[0;32m     22\u001b[0m \u001b[1;33m\u001b[0m\u001b[0m\n",
      "\u001b[1;32m~\\Anaconda3\\lib\\site-packages\\pandas\\core\\frame.py\u001b[0m in \u001b[0;36mdrop\u001b[1;34m(self, labels, axis, index, columns, level, inplace, errors)\u001b[0m\n\u001b[0;32m   4172\u001b[0m             \u001b[0mlevel\u001b[0m\u001b[1;33m=\u001b[0m\u001b[0mlevel\u001b[0m\u001b[1;33m,\u001b[0m\u001b[1;33m\u001b[0m\u001b[1;33m\u001b[0m\u001b[0m\n\u001b[0;32m   4173\u001b[0m             \u001b[0minplace\u001b[0m\u001b[1;33m=\u001b[0m\u001b[0minplace\u001b[0m\u001b[1;33m,\u001b[0m\u001b[1;33m\u001b[0m\u001b[1;33m\u001b[0m\u001b[0m\n\u001b[1;32m-> 4174\u001b[1;33m             \u001b[0merrors\u001b[0m\u001b[1;33m=\u001b[0m\u001b[0merrors\u001b[0m\u001b[1;33m,\u001b[0m\u001b[1;33m\u001b[0m\u001b[1;33m\u001b[0m\u001b[0m\n\u001b[0m\u001b[0;32m   4175\u001b[0m         )\n\u001b[0;32m   4176\u001b[0m \u001b[1;33m\u001b[0m\u001b[0m\n",
      "\u001b[1;32m~\\Anaconda3\\lib\\site-packages\\pandas\\core\\generic.py\u001b[0m in \u001b[0;36mdrop\u001b[1;34m(self, labels, axis, index, columns, level, inplace, errors)\u001b[0m\n\u001b[0;32m   3887\u001b[0m         \u001b[1;32mfor\u001b[0m \u001b[0maxis\u001b[0m\u001b[1;33m,\u001b[0m \u001b[0mlabels\u001b[0m \u001b[1;32min\u001b[0m \u001b[0maxes\u001b[0m\u001b[1;33m.\u001b[0m\u001b[0mitems\u001b[0m\u001b[1;33m(\u001b[0m\u001b[1;33m)\u001b[0m\u001b[1;33m:\u001b[0m\u001b[1;33m\u001b[0m\u001b[1;33m\u001b[0m\u001b[0m\n\u001b[0;32m   3888\u001b[0m             \u001b[1;32mif\u001b[0m \u001b[0mlabels\u001b[0m \u001b[1;32mis\u001b[0m \u001b[1;32mnot\u001b[0m \u001b[1;32mNone\u001b[0m\u001b[1;33m:\u001b[0m\u001b[1;33m\u001b[0m\u001b[1;33m\u001b[0m\u001b[0m\n\u001b[1;32m-> 3889\u001b[1;33m                 \u001b[0mobj\u001b[0m \u001b[1;33m=\u001b[0m \u001b[0mobj\u001b[0m\u001b[1;33m.\u001b[0m\u001b[0m_drop_axis\u001b[0m\u001b[1;33m(\u001b[0m\u001b[0mlabels\u001b[0m\u001b[1;33m,\u001b[0m \u001b[0maxis\u001b[0m\u001b[1;33m,\u001b[0m \u001b[0mlevel\u001b[0m\u001b[1;33m=\u001b[0m\u001b[0mlevel\u001b[0m\u001b[1;33m,\u001b[0m \u001b[0merrors\u001b[0m\u001b[1;33m=\u001b[0m\u001b[0merrors\u001b[0m\u001b[1;33m)\u001b[0m\u001b[1;33m\u001b[0m\u001b[1;33m\u001b[0m\u001b[0m\n\u001b[0m\u001b[0;32m   3890\u001b[0m \u001b[1;33m\u001b[0m\u001b[0m\n\u001b[0;32m   3891\u001b[0m         \u001b[1;32mif\u001b[0m \u001b[0minplace\u001b[0m\u001b[1;33m:\u001b[0m\u001b[1;33m\u001b[0m\u001b[1;33m\u001b[0m\u001b[0m\n",
      "\u001b[1;32m~\\Anaconda3\\lib\\site-packages\\pandas\\core\\generic.py\u001b[0m in \u001b[0;36m_drop_axis\u001b[1;34m(self, labels, axis, level, errors)\u001b[0m\n\u001b[0;32m   3921\u001b[0m                 \u001b[0mnew_axis\u001b[0m \u001b[1;33m=\u001b[0m \u001b[0maxis\u001b[0m\u001b[1;33m.\u001b[0m\u001b[0mdrop\u001b[0m\u001b[1;33m(\u001b[0m\u001b[0mlabels\u001b[0m\u001b[1;33m,\u001b[0m \u001b[0mlevel\u001b[0m\u001b[1;33m=\u001b[0m\u001b[0mlevel\u001b[0m\u001b[1;33m,\u001b[0m \u001b[0merrors\u001b[0m\u001b[1;33m=\u001b[0m\u001b[0merrors\u001b[0m\u001b[1;33m)\u001b[0m\u001b[1;33m\u001b[0m\u001b[1;33m\u001b[0m\u001b[0m\n\u001b[0;32m   3922\u001b[0m             \u001b[1;32melse\u001b[0m\u001b[1;33m:\u001b[0m\u001b[1;33m\u001b[0m\u001b[1;33m\u001b[0m\u001b[0m\n\u001b[1;32m-> 3923\u001b[1;33m                 \u001b[0mnew_axis\u001b[0m \u001b[1;33m=\u001b[0m \u001b[0maxis\u001b[0m\u001b[1;33m.\u001b[0m\u001b[0mdrop\u001b[0m\u001b[1;33m(\u001b[0m\u001b[0mlabels\u001b[0m\u001b[1;33m,\u001b[0m \u001b[0merrors\u001b[0m\u001b[1;33m=\u001b[0m\u001b[0merrors\u001b[0m\u001b[1;33m)\u001b[0m\u001b[1;33m\u001b[0m\u001b[1;33m\u001b[0m\u001b[0m\n\u001b[0m\u001b[0;32m   3924\u001b[0m             \u001b[0mresult\u001b[0m \u001b[1;33m=\u001b[0m \u001b[0mself\u001b[0m\u001b[1;33m.\u001b[0m\u001b[0mreindex\u001b[0m\u001b[1;33m(\u001b[0m\u001b[1;33m**\u001b[0m\u001b[1;33m{\u001b[0m\u001b[0maxis_name\u001b[0m\u001b[1;33m:\u001b[0m \u001b[0mnew_axis\u001b[0m\u001b[1;33m}\u001b[0m\u001b[1;33m)\u001b[0m\u001b[1;33m\u001b[0m\u001b[1;33m\u001b[0m\u001b[0m\n\u001b[0;32m   3925\u001b[0m \u001b[1;33m\u001b[0m\u001b[0m\n",
      "\u001b[1;32m~\\Anaconda3\\lib\\site-packages\\pandas\\core\\indexes\\base.py\u001b[0m in \u001b[0;36mdrop\u001b[1;34m(self, labels, errors)\u001b[0m\n\u001b[0;32m   5285\u001b[0m         \u001b[1;32mif\u001b[0m \u001b[0mmask\u001b[0m\u001b[1;33m.\u001b[0m\u001b[0many\u001b[0m\u001b[1;33m(\u001b[0m\u001b[1;33m)\u001b[0m\u001b[1;33m:\u001b[0m\u001b[1;33m\u001b[0m\u001b[1;33m\u001b[0m\u001b[0m\n\u001b[0;32m   5286\u001b[0m             \u001b[1;32mif\u001b[0m \u001b[0merrors\u001b[0m \u001b[1;33m!=\u001b[0m \u001b[1;34m\"ignore\"\u001b[0m\u001b[1;33m:\u001b[0m\u001b[1;33m\u001b[0m\u001b[1;33m\u001b[0m\u001b[0m\n\u001b[1;32m-> 5287\u001b[1;33m                 \u001b[1;32mraise\u001b[0m \u001b[0mKeyError\u001b[0m\u001b[1;33m(\u001b[0m\u001b[1;34mf\"{labels[mask]} not found in axis\"\u001b[0m\u001b[1;33m)\u001b[0m\u001b[1;33m\u001b[0m\u001b[1;33m\u001b[0m\u001b[0m\n\u001b[0m\u001b[0;32m   5288\u001b[0m             \u001b[0mindexer\u001b[0m \u001b[1;33m=\u001b[0m \u001b[0mindexer\u001b[0m\u001b[1;33m[\u001b[0m\u001b[1;33m~\u001b[0m\u001b[0mmask\u001b[0m\u001b[1;33m]\u001b[0m\u001b[1;33m\u001b[0m\u001b[1;33m\u001b[0m\u001b[0m\n\u001b[0;32m   5289\u001b[0m         \u001b[1;32mreturn\u001b[0m \u001b[0mself\u001b[0m\u001b[1;33m.\u001b[0m\u001b[0mdelete\u001b[0m\u001b[1;33m(\u001b[0m\u001b[0mindexer\u001b[0m\u001b[1;33m)\u001b[0m\u001b[1;33m\u001b[0m\u001b[1;33m\u001b[0m\u001b[0m\n",
      "\u001b[1;31mKeyError\u001b[0m: \"['Unnamed: 0' 'id' 'image_url' 'VIN' 'region_url' 'id' 'model' 'size'\\n 'url'] not found in axis\""
     ]
    }
   ],
   "source": [
    "df = hf.remove_columns(df)"
   ]
  },
  {
   "cell_type": "code",
   "execution_count": 11,
   "metadata": {},
   "outputs": [
    {
     "data": {
      "text/plain": [
       "Index(['region', 'price', 'year', 'manufacturer', 'condition', 'cylinders',\n",
       "       'fuel', 'odometer', 'title_status', 'transmission', 'drive', 'type',\n",
       "       'paint_color', 'description', 'state', 'lat', 'long', 'posting_date'],\n",
       "      dtype='object')"
      ]
     },
     "execution_count": 11,
     "metadata": {},
     "output_type": "execute_result"
    }
   ],
   "source": [
    "df.columns"
   ]
  },
  {
   "cell_type": "code",
   "execution_count": 12,
   "metadata": {},
   "outputs": [
    {
     "data": {
      "text/html": [
       "<div>\n",
       "<style scoped>\n",
       "    .dataframe tbody tr th:only-of-type {\n",
       "        vertical-align: middle;\n",
       "    }\n",
       "\n",
       "    .dataframe tbody tr th {\n",
       "        vertical-align: top;\n",
       "    }\n",
       "\n",
       "    .dataframe thead th {\n",
       "        text-align: right;\n",
       "    }\n",
       "</style>\n",
       "<table border=\"1\" class=\"dataframe\">\n",
       "  <thead>\n",
       "    <tr style=\"text-align: right;\">\n",
       "      <th></th>\n",
       "      <th>region</th>\n",
       "      <th>price</th>\n",
       "      <th>year</th>\n",
       "      <th>manufacturer</th>\n",
       "      <th>condition</th>\n",
       "      <th>cylinders</th>\n",
       "      <th>fuel</th>\n",
       "      <th>odometer</th>\n",
       "      <th>title_status</th>\n",
       "      <th>transmission</th>\n",
       "      <th>drive</th>\n",
       "      <th>type</th>\n",
       "      <th>paint_color</th>\n",
       "      <th>description</th>\n",
       "      <th>state</th>\n",
       "      <th>lat</th>\n",
       "      <th>long</th>\n",
       "      <th>posting_date</th>\n",
       "    </tr>\n",
       "  </thead>\n",
       "  <tbody>\n",
       "    <tr>\n",
       "      <th>0</th>\n",
       "      <td>auburn</td>\n",
       "      <td>35990</td>\n",
       "      <td>2010.0</td>\n",
       "      <td>chevrolet</td>\n",
       "      <td>good</td>\n",
       "      <td>8 cylinders</td>\n",
       "      <td>gas</td>\n",
       "      <td>32742.0</td>\n",
       "      <td>clean</td>\n",
       "      <td>other</td>\n",
       "      <td>rwd</td>\n",
       "      <td>other</td>\n",
       "      <td>NaN</td>\n",
       "      <td>Carvana is the safer way to buy a car During t...</td>\n",
       "      <td>al</td>\n",
       "      <td>32.590000</td>\n",
       "      <td>-85.480000</td>\n",
       "      <td>2020-12-02T08:11:30-0600</td>\n",
       "    </tr>\n",
       "    <tr>\n",
       "      <th>1</th>\n",
       "      <td>auburn</td>\n",
       "      <td>7500</td>\n",
       "      <td>2014.0</td>\n",
       "      <td>hyundai</td>\n",
       "      <td>excellent</td>\n",
       "      <td>4 cylinders</td>\n",
       "      <td>gas</td>\n",
       "      <td>93600.0</td>\n",
       "      <td>clean</td>\n",
       "      <td>automatic</td>\n",
       "      <td>fwd</td>\n",
       "      <td>sedan</td>\n",
       "      <td>NaN</td>\n",
       "      <td>I'll move to another city and try to sell my c...</td>\n",
       "      <td>al</td>\n",
       "      <td>32.547500</td>\n",
       "      <td>-85.468200</td>\n",
       "      <td>2020-12-02T02:11:50-0600</td>\n",
       "    </tr>\n",
       "    <tr>\n",
       "      <th>2</th>\n",
       "      <td>auburn</td>\n",
       "      <td>4900</td>\n",
       "      <td>2006.0</td>\n",
       "      <td>bmw</td>\n",
       "      <td>good</td>\n",
       "      <td>6 cylinders</td>\n",
       "      <td>gas</td>\n",
       "      <td>87046.0</td>\n",
       "      <td>clean</td>\n",
       "      <td>automatic</td>\n",
       "      <td>NaN</td>\n",
       "      <td>SUV</td>\n",
       "      <td>blue</td>\n",
       "      <td>Clean 2006 BMW X3 3.0I.  Beautiful and rare Bl...</td>\n",
       "      <td>al</td>\n",
       "      <td>32.616807</td>\n",
       "      <td>-85.464149</td>\n",
       "      <td>2020-12-01T19:50:41-0600</td>\n",
       "    </tr>\n",
       "    <tr>\n",
       "      <th>3</th>\n",
       "      <td>auburn</td>\n",
       "      <td>2000</td>\n",
       "      <td>1974.0</td>\n",
       "      <td>chevrolet</td>\n",
       "      <td>good</td>\n",
       "      <td>4 cylinders</td>\n",
       "      <td>gas</td>\n",
       "      <td>190000.0</td>\n",
       "      <td>clean</td>\n",
       "      <td>automatic</td>\n",
       "      <td>rwd</td>\n",
       "      <td>pickup</td>\n",
       "      <td>blue</td>\n",
       "      <td>1974 chev. truck (LONG BED) NEW starter front ...</td>\n",
       "      <td>al</td>\n",
       "      <td>32.861600</td>\n",
       "      <td>-85.216100</td>\n",
       "      <td>2020-12-01T15:54:45-0600</td>\n",
       "    </tr>\n",
       "    <tr>\n",
       "      <th>4</th>\n",
       "      <td>auburn</td>\n",
       "      <td>19500</td>\n",
       "      <td>2005.0</td>\n",
       "      <td>ford</td>\n",
       "      <td>excellent</td>\n",
       "      <td>8 cylinders</td>\n",
       "      <td>diesel</td>\n",
       "      <td>116000.0</td>\n",
       "      <td>lien</td>\n",
       "      <td>automatic</td>\n",
       "      <td>4wd</td>\n",
       "      <td>pickup</td>\n",
       "      <td>blue</td>\n",
       "      <td>2005 Ford F350 Lariat (Bullet Proofed). This t...</td>\n",
       "      <td>al</td>\n",
       "      <td>32.547500</td>\n",
       "      <td>-85.468200</td>\n",
       "      <td>2020-12-01T12:53:56-0600</td>\n",
       "    </tr>\n",
       "  </tbody>\n",
       "</table>\n",
       "</div>"
      ],
      "text/plain": [
       "   region  price    year manufacturer  condition    cylinders    fuel  \\\n",
       "0  auburn  35990  2010.0    chevrolet       good  8 cylinders     gas   \n",
       "1  auburn   7500  2014.0      hyundai  excellent  4 cylinders     gas   \n",
       "2  auburn   4900  2006.0          bmw       good  6 cylinders     gas   \n",
       "3  auburn   2000  1974.0    chevrolet       good  4 cylinders     gas   \n",
       "4  auburn  19500  2005.0         ford  excellent  8 cylinders  diesel   \n",
       "\n",
       "   odometer title_status transmission drive    type paint_color  \\\n",
       "0   32742.0        clean        other   rwd   other         NaN   \n",
       "1   93600.0        clean    automatic   fwd   sedan         NaN   \n",
       "2   87046.0        clean    automatic   NaN     SUV        blue   \n",
       "3  190000.0        clean    automatic   rwd  pickup        blue   \n",
       "4  116000.0         lien    automatic   4wd  pickup        blue   \n",
       "\n",
       "                                         description state        lat  \\\n",
       "0  Carvana is the safer way to buy a car During t...    al  32.590000   \n",
       "1  I'll move to another city and try to sell my c...    al  32.547500   \n",
       "2  Clean 2006 BMW X3 3.0I.  Beautiful and rare Bl...    al  32.616807   \n",
       "3  1974 chev. truck (LONG BED) NEW starter front ...    al  32.861600   \n",
       "4  2005 Ford F350 Lariat (Bullet Proofed). This t...    al  32.547500   \n",
       "\n",
       "        long              posting_date  \n",
       "0 -85.480000  2020-12-02T08:11:30-0600  \n",
       "1 -85.468200  2020-12-02T02:11:50-0600  \n",
       "2 -85.464149  2020-12-01T19:50:41-0600  \n",
       "3 -85.216100  2020-12-01T15:54:45-0600  \n",
       "4 -85.468200  2020-12-01T12:53:56-0600  "
      ]
     },
     "execution_count": 12,
     "metadata": {},
     "output_type": "execute_result"
    }
   ],
   "source": [
    "df.head()"
   ]
  },
  {
   "cell_type": "markdown",
   "metadata": {},
   "source": [
    "### Price Range"
   ]
  },
  {
   "cell_type": "code",
   "execution_count": 6,
   "metadata": {},
   "outputs": [],
   "source": [
    "df = hf.price_range(df, 1, sampling = True)"
   ]
  },
  {
   "cell_type": "code",
   "execution_count": 7,
   "metadata": {},
   "outputs": [
    {
     "data": {
      "text/plain": [
       "(36717, 19)"
      ]
     },
     "execution_count": 7,
     "metadata": {},
     "output_type": "execute_result"
    }
   ],
   "source": [
    "df.shape"
   ]
  },
  {
   "cell_type": "code",
   "execution_count": 8,
   "metadata": {},
   "outputs": [
    {
     "data": {
      "text/plain": [
       "0"
      ]
     },
     "execution_count": 8,
     "metadata": {},
     "output_type": "execute_result"
    }
   ],
   "source": [
    "sum(df[\"price\"] > 60000)"
   ]
  },
  {
   "cell_type": "markdown",
   "metadata": {},
   "source": [
    "### Check for empty values"
   ]
  },
  {
   "cell_type": "code",
   "execution_count": 9,
   "metadata": {},
   "outputs": [
    {
     "data": {
      "text/plain": [
       "12"
      ]
     },
     "execution_count": 9,
     "metadata": {},
     "output_type": "execute_result"
    }
   ],
   "source": [
    "df[\"description\"].isnull().sum()"
   ]
  },
  {
   "cell_type": "markdown",
   "metadata": {},
   "source": [
    "Only 4 empty values so lets get rid of them"
   ]
  },
  {
   "cell_type": "code",
   "execution_count": 10,
   "metadata": {},
   "outputs": [],
   "source": [
    "df = df.dropna(subset = [\"description\"])"
   ]
  },
  {
   "cell_type": "code",
   "execution_count": 11,
   "metadata": {},
   "outputs": [
    {
     "data": {
      "text/plain": [
       "(36705, 19)"
      ]
     },
     "execution_count": 11,
     "metadata": {},
     "output_type": "execute_result"
    }
   ],
   "source": [
    "df.shape"
   ]
  },
  {
   "cell_type": "markdown",
   "metadata": {},
   "source": [
    "Max and min car price"
   ]
  },
  {
   "cell_type": "code",
   "execution_count": 12,
   "metadata": {},
   "outputs": [
    {
     "data": {
      "text/plain": [
       "(array([270., 143., 220., 133., 223.,  71.,  76.,  95.,  53., 170.,  28.,\n",
       "         90.,  69.,  46., 210.,  42.,  65., 110.,  76., 302.,  37.,  94.,\n",
       "         83.,  73., 374.,  48.,  93., 165., 134., 512.,  21., 122., 106.,\n",
       "         60., 469.,  72.,  72., 159., 175., 599.,  19., 124.,  93.,  70.,\n",
       "        444.,  63.,  66., 116., 184., 541., 215.,  23., 113.,  42., 216.,\n",
       "        313.,  57.,  85., 112., 783., 140.,  30., 105.,  64., 215., 307.,\n",
       "         33.,  63., 107., 824., 128.,  23.,  83.,  34., 219., 271.,  33.,\n",
       "         51.,  88., 746., 114.,   8.,  57.,  34., 157., 234.,  30.,  75.,\n",
       "         78., 727.,  76.,  12.,  45.,  27., 122., 215.,  36.,  64.,  87.,\n",
       "        736.]),\n",
       " array([1.00000e+00, 1.00980e+02, 2.00960e+02, 3.00940e+02, 4.00920e+02,\n",
       "        5.00900e+02, 6.00880e+02, 7.00860e+02, 8.00840e+02, 9.00820e+02,\n",
       "        1.00080e+03, 1.10078e+03, 1.20076e+03, 1.30074e+03, 1.40072e+03,\n",
       "        1.50070e+03, 1.60068e+03, 1.70066e+03, 1.80064e+03, 1.90062e+03,\n",
       "        2.00060e+03, 2.10058e+03, 2.20056e+03, 2.30054e+03, 2.40052e+03,\n",
       "        2.50050e+03, 2.60048e+03, 2.70046e+03, 2.80044e+03, 2.90042e+03,\n",
       "        3.00040e+03, 3.10038e+03, 3.20036e+03, 3.30034e+03, 3.40032e+03,\n",
       "        3.50030e+03, 3.60028e+03, 3.70026e+03, 3.80024e+03, 3.90022e+03,\n",
       "        4.00020e+03, 4.10018e+03, 4.20016e+03, 4.30014e+03, 4.40012e+03,\n",
       "        4.50010e+03, 4.60008e+03, 4.70006e+03, 4.80004e+03, 4.90002e+03,\n",
       "        5.00000e+03, 5.09998e+03, 5.19996e+03, 5.29994e+03, 5.39992e+03,\n",
       "        5.49990e+03, 5.59988e+03, 5.69986e+03, 5.79984e+03, 5.89982e+03,\n",
       "        5.99980e+03, 6.09978e+03, 6.19976e+03, 6.29974e+03, 6.39972e+03,\n",
       "        6.49970e+03, 6.59968e+03, 6.69966e+03, 6.79964e+03, 6.89962e+03,\n",
       "        6.99960e+03, 7.09958e+03, 7.19956e+03, 7.29954e+03, 7.39952e+03,\n",
       "        7.49950e+03, 7.59948e+03, 7.69946e+03, 7.79944e+03, 7.89942e+03,\n",
       "        7.99940e+03, 8.09938e+03, 8.19936e+03, 8.29934e+03, 8.39932e+03,\n",
       "        8.49930e+03, 8.59928e+03, 8.69926e+03, 8.79924e+03, 8.89922e+03,\n",
       "        8.99920e+03, 9.09918e+03, 9.19916e+03, 9.29914e+03, 9.39912e+03,\n",
       "        9.49910e+03, 9.59908e+03, 9.69906e+03, 9.79904e+03, 9.89902e+03,\n",
       "        9.99900e+03]),\n",
       " <BarContainer object of 100 artists>)"
      ]
     },
     "execution_count": 12,
     "metadata": {},
     "output_type": "execute_result"
    },
    {
     "data": {
      "image/png": "[encoded data removed]",
      "text/plain": [
       "<Figure size 432x288 with 1 Axes>"
      ]
     },
     "metadata": {
      "needs_background": "light"
     },
     "output_type": "display_data"
    }
   ],
   "source": [
    "#plot_price = df[\"price\"].loc[df[\"price\"] < 100_000]\n",
    "\n",
    "plt.hist(df[\"price\"].loc[df[\"price\"] < 10000].values, bins = 100)"
   ]
  },
  {
   "cell_type": "code",
   "execution_count": 13,
   "metadata": {},
   "outputs": [
    {
     "data": {
      "text/plain": [
       "(array([1060.,  512.,  542.,  665., 1326.,  850., 1148.,  852., 1161.,\n",
       "        1659.,  738., 1211.,  683., 1031., 1355.,  431., 1033.,  403.,\n",
       "         839., 1051.,  371.,  805.,  406.,  744., 1135.,  273.,  745.,\n",
       "         313.,  622.,  850.,  239.,  562.,  199.,  642.,  528.,  119.,\n",
       "         452.,  165.,  421.,  565.,   94.,  479.,  115.,  387.,  464.,\n",
       "         140.,  463.,  152.,  382.,  503.,   97.,  251.,   99.,  354.,\n",
       "         324.,   88.,  289.,   56.,  345.,  251.,   51.,  258.,   72.,\n",
       "         163.,  218.,   91.,  321.,   47.,  104.,  143.,   57.,  121.,\n",
       "          23.,   97.,   81.,   32.,   56.,   19.,   79.,   48.,   19.,\n",
       "          63.,   17.,   95.,   18.,   15.,   35.,    9.,   46.,   39.,\n",
       "           7.,   50.,    8.,   29.,   25.,    8.,   22.,    9.,   18.,\n",
       "          53.]),\n",
       " array([1.000000e+00, 6.009800e+02, 1.200960e+03, 1.800940e+03,\n",
       "        2.400920e+03, 3.000900e+03, 3.600880e+03, 4.200860e+03,\n",
       "        4.800840e+03, 5.400820e+03, 6.000800e+03, 6.600780e+03,\n",
       "        7.200760e+03, 7.800740e+03, 8.400720e+03, 9.000700e+03,\n",
       "        9.600680e+03, 1.020066e+04, 1.080064e+04, 1.140062e+04,\n",
       "        1.200060e+04, 1.260058e+04, 1.320056e+04, 1.380054e+04,\n",
       "        1.440052e+04, 1.500050e+04, 1.560048e+04, 1.620046e+04,\n",
       "        1.680044e+04, 1.740042e+04, 1.800040e+04, 1.860038e+04,\n",
       "        1.920036e+04, 1.980034e+04, 2.040032e+04, 2.100030e+04,\n",
       "        2.160028e+04, 2.220026e+04, 2.280024e+04, 2.340022e+04,\n",
       "        2.400020e+04, 2.460018e+04, 2.520016e+04, 2.580014e+04,\n",
       "        2.640012e+04, 2.700010e+04, 2.760008e+04, 2.820006e+04,\n",
       "        2.880004e+04, 2.940002e+04, 3.000000e+04, 3.059998e+04,\n",
       "        3.119996e+04, 3.179994e+04, 3.239992e+04, 3.299990e+04,\n",
       "        3.359988e+04, 3.419986e+04, 3.479984e+04, 3.539982e+04,\n",
       "        3.599980e+04, 3.659978e+04, 3.719976e+04, 3.779974e+04,\n",
       "        3.839972e+04, 3.899970e+04, 3.959968e+04, 4.019966e+04,\n",
       "        4.079964e+04, 4.139962e+04, 4.199960e+04, 4.259958e+04,\n",
       "        4.319956e+04, 4.379954e+04, 4.439952e+04, 4.499950e+04,\n",
       "        4.559948e+04, 4.619946e+04, 4.679944e+04, 4.739942e+04,\n",
       "        4.799940e+04, 4.859938e+04, 4.919936e+04, 4.979934e+04,\n",
       "        5.039932e+04, 5.099930e+04, 5.159928e+04, 5.219926e+04,\n",
       "        5.279924e+04, 5.339922e+04, 5.399920e+04, 5.459918e+04,\n",
       "        5.519916e+04, 5.579914e+04, 5.639912e+04, 5.699910e+04,\n",
       "        5.759908e+04, 5.819906e+04, 5.879904e+04, 5.939902e+04,\n",
       "        5.999900e+04]),\n",
       " <BarContainer object of 100 artists>)"
      ]
     },
     "execution_count": 13,
     "metadata": {},
     "output_type": "execute_result"
    },
    {
     "data": {
      "image/png": "[encoded data removed]",
      "text/plain": [
       "<Figure size 432x288 with 1 Axes>"
      ]
     },
     "metadata": {
      "needs_background": "light"
     },
     "output_type": "display_data"
    }
   ],
   "source": [
    "#plot_price = df[\"price\"].loc[df[\"price\"] < 100_000]\n",
    "\n",
    "plt.hist(df[\"price\"].values, bins = 100)"
   ]
  },
  {
   "cell_type": "code",
   "execution_count": null,
   "metadata": {},
   "outputs": [],
   "source": []
  },
  {
   "cell_type": "markdown",
   "metadata": {},
   "source": [
    "## 1. TF-IDF"
   ]
  },
  {
   "cell_type": "markdown",
   "metadata": {},
   "source": [
    "Serves as a way to extract features based off of the importance of words"
   ]
  },
  {
   "cell_type": "code",
   "execution_count": 14,
   "metadata": {},
   "outputs": [],
   "source": [
    "from sklearn.feature_extraction.text import TfidfVectorizer"
   ]
  },
  {
   "cell_type": "code",
   "execution_count": 15,
   "metadata": {},
   "outputs": [],
   "source": [
    "vectorizer = TfidfVectorizer(stop_words='english',max_features = 100)"
   ]
  },
  {
   "cell_type": "code",
   "execution_count": 16,
   "metadata": {},
   "outputs": [],
   "source": [
    "sentences  = df[\"description\"].values"
   ]
  },
  {
   "cell_type": "code",
   "execution_count": 17,
   "metadata": {},
   "outputs": [
    {
     "data": {
      "text/plain": [
       "TfidfVectorizer(max_features=100, stop_words='english')"
      ]
     },
     "execution_count": 17,
     "metadata": {},
     "output_type": "execute_result"
    }
   ],
   "source": [
    "vectorizer.fit(sentences)"
   ]
  },
  {
   "cell_type": "code",
   "execution_count": 18,
   "metadata": {},
   "outputs": [
    {
     "data": {
      "text/plain": [
       "100"
      ]
     },
     "execution_count": 18,
     "metadata": {},
     "output_type": "execute_result"
    }
   ],
   "source": [
    "len(vectorizer.vocabulary_)"
   ]
  },
  {
   "cell_type": "code",
   "execution_count": 19,
   "metadata": {},
   "outputs": [
    {
     "data": {
      "text/plain": [
       "{'stock': 82,\n",
       " 'make': 61,\n",
       " 'model': 64,\n",
       " 'mileage': 62,\n",
       " 'fuel': 47,\n",
       " 'engine': 41,\n",
       " 'v6': 94,\n",
       " 'transmission': 91,\n",
       " 'drive': 38,\n",
       " '4wd': 10,\n",
       " 'body': 18,\n",
       " 'suv': 83,\n",
       " 'color': 29,\n",
       " 'interior': 55,\n",
       " 'www': 99,\n",
       " 'auto': 12,\n",
       " 'sales': 75,\n",
       " 'clean': 28,\n",
       " 'title': 87,\n",
       " 'vehicles': 96,\n",
       " 'car': 21,\n",
       " 'vehicle': 95,\n",
       " 'safety': 73,\n",
       " 'great': 50,\n",
       " 'financing': 45,\n",
       " 'credit': 33,\n",
       " '2012': 3,\n",
       " 'ford': 46,\n",
       " '150': 0,\n",
       " 'time': 86,\n",
       " 'check': 26,\n",
       " 'rear': 72,\n",
       " 'seats': 77,\n",
       " 'seat': 76,\n",
       " 'air': 11,\n",
       " 'control': 32,\n",
       " 'leather': 57,\n",
       " 'steering': 81,\n",
       " 'wheel': 97,\n",
       " 'power': 69,\n",
       " 'driver': 39,\n",
       " 'windows': 98,\n",
       " 'heated': 51,\n",
       " 'passenger': 67,\n",
       " 'automatic': 13,\n",
       " 'today': 88,\n",
       " 'new': 65,\n",
       " 'truck': 92,\n",
       " 'available': 14,\n",
       " 'used': 93,\n",
       " 'exterior': 42,\n",
       " 'black': 16,\n",
       " 'pre': 70,\n",
       " 'price': 71,\n",
       " 'finance': 44,\n",
       " 'trade': 90,\n",
       " 'bad': 15,\n",
       " 'fees': 43,\n",
       " 'miles': 63,\n",
       " 'sale': 74,\n",
       " '2016': 7,\n",
       " 'door': 37,\n",
       " 'sport': 80,\n",
       " 'test': 84,\n",
       " 'text': 85,\n",
       " 'link': 59,\n",
       " 'com': 30,\n",
       " 'low': 60,\n",
       " 'information': 54,\n",
       " 'pickup': 68,\n",
       " 'cars': 23,\n",
       " 'inventory': 56,\n",
       " 'http': 52,\n",
       " 'series': 79,\n",
       " 'dual': 40,\n",
       " '2017': 8,\n",
       " '2015': 6,\n",
       " '2014': 5,\n",
       " '2013': 4,\n",
       " 'sedan': 78,\n",
       " 'like': 58,\n",
       " 'gasoline': 48,\n",
       " 'carfax': 22,\n",
       " 'number': 66,\n",
       " 'good': 49,\n",
       " '2011': 2,\n",
       " 'carvana': 24,\n",
       " 'buy': 19,\n",
       " 'contact': 31,\n",
       " 'carvanaauto': 25,\n",
       " 'dealership': 35,\n",
       " 'cab': 20,\n",
       " 'toyota': 89,\n",
       " 'details': 36,\n",
       " 'chevrolet': 27,\n",
       " '1500': 1,\n",
       " '4dr': 9,\n",
       " 'dealer': 34,\n",
       " 'bmw': 17,\n",
       " 'il': 53}"
      ]
     },
     "execution_count": 19,
     "metadata": {},
     "output_type": "execute_result"
    }
   ],
   "source": [
    "vectorizer.vocabulary_"
   ]
  },
  {
   "cell_type": "code",
   "execution_count": 20,
   "metadata": {},
   "outputs": [],
   "source": [
    "# Transform to document-term matrix\n",
    "vector_spaces = vectorizer.transform(sentences)\n"
   ]
  },
  {
   "cell_type": "code",
   "execution_count": 21,
   "metadata": {},
   "outputs": [],
   "source": [
    "tfidf = vector_spaces.toarray()"
   ]
  },
  {
   "cell_type": "code",
   "execution_count": 33,
   "metadata": {},
   "outputs": [
    {
     "data": {
      "text/plain": [
       "(36705, 100)"
      ]
     },
     "execution_count": 33,
     "metadata": {},
     "output_type": "execute_result"
    }
   ],
   "source": [
    "tfidf.shape"
   ]
  },
  {
   "cell_type": "code",
   "execution_count": 35,
   "metadata": {},
   "outputs": [
    {
     "data": {
      "text/plain": [
       "(36705, 19)"
      ]
     },
     "execution_count": 35,
     "metadata": {},
     "output_type": "execute_result"
    }
   ],
   "source": [
    "df.shape"
   ]
  },
  {
   "cell_type": "code",
   "execution_count": 39,
   "metadata": {},
   "outputs": [],
   "source": [
    "df = pd.concat([df, pd.DataFrame(tfidf)], axis = 1)"
   ]
  },
  {
   "cell_type": "code",
   "execution_count": 40,
   "metadata": {},
   "outputs": [
    {
     "data": {
      "text/plain": [
       "(70513, 119)"
      ]
     },
     "execution_count": 40,
     "metadata": {},
     "output_type": "execute_result"
    }
   ],
   "source": [
    "df.shape"
   ]
  },
  {
   "cell_type": "code",
   "execution_count": 22,
   "metadata": {},
   "outputs": [],
   "source": [
    "from sklearn.linear_model import lasso_path"
   ]
  },
  {
   "cell_type": "code",
   "execution_count": 23,
   "metadata": {},
   "outputs": [],
   "source": [
    "alphas_lasso, coefs_lasso, _ = lasso_path(tfidf, df[\"price\"], fit_intercept=False)"
   ]
  },
  {
   "cell_type": "code",
   "execution_count": 24,
   "metadata": {},
   "outputs": [
    {
     "data": {
      "image/png": "[encoded data removed]",
      "text/plain": [
       "<Figure size 576x288 with 1 Axes>"
      ]
     },
     "metadata": {
      "needs_background": "light"
     },
     "output_type": "display_data"
    }
   ],
   "source": [
    "fig, ax = plt.subplots(figsize = (8,4))\n",
    "for i in range(100):\n",
    "    ax.plot(alphas_lasso, coefs_lasso[i,:])\n",
    "    ax.grid(True)\n",
    "    ax.set_xlabel(\"Regularization\")\n",
    "    ax.set_ylabel(\"Regression Coefficients\")"
   ]
  },
  {
   "cell_type": "code",
   "execution_count": 25,
   "metadata": {},
   "outputs": [],
   "source": [
    "clf = linear_model.Lasso(alpha=50)"
   ]
  },
  {
   "cell_type": "code",
   "execution_count": 26,
   "metadata": {},
   "outputs": [
    {
     "data": {
      "text/plain": [
       "Lasso(alpha=50)"
      ]
     },
     "execution_count": 26,
     "metadata": {},
     "output_type": "execute_result"
    }
   ],
   "source": [
    "clf.fit(tfidf, df[\"price\"])"
   ]
  },
  {
   "cell_type": "code",
   "execution_count": 27,
   "metadata": {},
   "outputs": [
    {
     "data": {
      "text/plain": [
       "98587454.9606684"
      ]
     },
     "execution_count": 27,
     "metadata": {},
     "output_type": "execute_result"
    }
   ],
   "source": [
    "mean_squared_error(df[\"price\"], clf.predict(tfidf))"
   ]
  },
  {
   "cell_type": "code",
   "execution_count": 28,
   "metadata": {},
   "outputs": [
    {
     "data": {
      "text/plain": [
       "31"
      ]
     },
     "execution_count": 28,
     "metadata": {},
     "output_type": "execute_result"
    }
   ],
   "source": [
    "sum(clf.coef_ != 0)"
   ]
  },
  {
   "cell_type": "code",
   "execution_count": 29,
   "metadata": {},
   "outputs": [
    {
     "data": {
      "text/plain": [
       "array([ 2,  3,  4,  5,  9, 11, 12, 13, 14, 15, 18, 19, 21, 22, 23, 25, 26,\n",
       "       28, 32, 33, 34, 35, 36, 37, 38, 39, 40, 41, 42, 43, 44, 45, 47, 48,\n",
       "       52, 53, 54, 55, 56, 57, 58, 60, 61, 62, 64, 66, 67, 69, 70, 71, 73,\n",
       "       74, 75, 76, 79, 81, 82, 83, 84, 85, 86, 88, 89, 90, 91, 94, 96, 98,\n",
       "       99], dtype=int64)"
      ]
     },
     "execution_count": 29,
     "metadata": {},
     "output_type": "execute_result"
    }
   ],
   "source": [
    "np.where(clf.coef_ == 0)[0]"
   ]
  },
  {
   "cell_type": "code",
   "execution_count": 30,
   "metadata": {},
   "outputs": [],
   "source": [
    "#most important words by tfidf\n",
    "iwords = np.asarray(list(vectorizer.vocabulary_))"
   ]
  },
  {
   "cell_type": "code",
   "execution_count": 31,
   "metadata": {},
   "outputs": [
    {
     "data": {
      "text/plain": [
       "array(['model', 'mileage', 'fuel', 'engine', '4wd', 'suv', 'color',\n",
       "       'interior', 'www', 'auto', 'title', 'vehicles', 'vehicle',\n",
       "       'safety', 'great', 'credit', '2012', '150', 'seats', 'seat', 'air',\n",
       "       'control', 'leather', 'steering', 'wheel', 'power', 'driver',\n",
       "       'windows', 'heated', 'passenger', 'automatic', 'today', 'truck',\n",
       "       'available', 'pre', 'price', 'finance', 'trade', 'bad', 'fees',\n",
       "       'miles', '2016', 'door', 'sport', 'text', 'com', 'low', 'pickup',\n",
       "       'cars', 'inventory', 'series', 'dual', '2017', '2015', 'sedan',\n",
       "       'gasoline', 'carfax', 'number', 'good', '2011', 'carvana',\n",
       "       'contact', 'carvanaauto', 'dealership', 'cab', 'chevrolet', '4dr',\n",
       "       'bmw', 'il'], dtype='<U12')"
      ]
     },
     "execution_count": 31,
     "metadata": {},
     "output_type": "execute_result"
    }
   ],
   "source": [
    "iwords[np.where(clf.coef_ == 0)[0]]"
   ]
  },
  {
   "cell_type": "code",
   "execution_count": null,
   "metadata": {},
   "outputs": [],
   "source": []
  },
  {
   "cell_type": "code",
   "execution_count": null,
   "metadata": {},
   "outputs": [],
   "source": []
  },
  {
   "cell_type": "code",
   "execution_count": null,
   "metadata": {},
   "outputs": [],
   "source": []
  },
  {
   "cell_type": "code",
   "execution_count": null,
   "metadata": {},
   "outputs": [],
   "source": []
  },
  {
   "cell_type": "code",
   "execution_count": null,
   "metadata": {},
   "outputs": [],
   "source": []
  },
  {
   "cell_type": "code",
   "execution_count": null,
   "metadata": {},
   "outputs": [],
   "source": []
  },
  {
   "cell_type": "code",
   "execution_count": null,
   "metadata": {},
   "outputs": [],
   "source": []
  }
 ],
 "metadata": {
  "kernelspec": {
   "display_name": "Python 3",
   "language": "python",
   "name": "python3"
  },
  "language_info": {
   "codemirror_mode": {
    "name": "ipython",
    "version": 3
   },
   "file_extension": ".py",
   "mimetype": "text/x-python",
   "name": "python",
   "nbconvert_exporter": "python",
   "pygments_lexer": "ipython3",
   "version": "3.7.9"
  }
 },
 "nbformat": 4,
 "nbformat_minor": 4
}
