{
 "cells": [
  {
   "cell_type": "markdown",
   "metadata": {},
   "source": [
    "# Data Mining: Used Cars on Craigslist"
   ]
  },
  {
   "cell_type": "code",
   "execution_count": 2,
   "metadata": {},
   "outputs": [],
   "source": [
    "import os\n",
    "import zipfile\n",
    "import numpy as np\n",
    "import pandas as pd\n",
    "import matplotlib.pyplot as plt"
   ]
  },
  {
   "cell_type": "markdown",
   "metadata": {},
   "source": [
    "## Load Data"
   ]
  },
  {
   "cell_type": "code",
   "execution_count": 3,
   "metadata": {},
   "outputs": [],
   "source": [
    "cars = pd.read_csv('data/vehicles.csv', index_col=0)"
   ]
  },
  {
   "cell_type": "markdown",
   "metadata": {},
   "source": [
    "## Data Inspection"
   ]
  },
  {
   "cell_type": "code",
   "execution_count": 6,
   "metadata": {},
   "outputs": [
    {
     "data": {
      "text/html": [
       "<div>\n",
       "<style scoped>\n",
       "    .dataframe tbody tr th:only-of-type {\n",
       "        vertical-align: middle;\n",
       "    }\n",
       "\n",
       "    .dataframe tbody tr th {\n",
       "        vertical-align: top;\n",
       "    }\n",
       "\n",
       "    .dataframe thead th {\n",
       "        text-align: right;\n",
       "    }\n",
       "</style>\n",
       "<table border=\"1\" class=\"dataframe\">\n",
       "  <thead>\n",
       "    <tr style=\"text-align: right;\">\n",
       "      <th></th>\n",
       "      <th>id</th>\n",
       "      <th>url</th>\n",
       "      <th>region</th>\n",
       "      <th>region_url</th>\n",
       "      <th>price</th>\n",
       "      <th>year</th>\n",
       "      <th>manufacturer</th>\n",
       "      <th>model</th>\n",
       "      <th>condition</th>\n",
       "      <th>cylinders</th>\n",
       "      <th>...</th>\n",
       "      <th>drive</th>\n",
       "      <th>size</th>\n",
       "      <th>type</th>\n",
       "      <th>paint_color</th>\n",
       "      <th>image_url</th>\n",
       "      <th>description</th>\n",
       "      <th>state</th>\n",
       "      <th>lat</th>\n",
       "      <th>long</th>\n",
       "      <th>posting_date</th>\n",
       "    </tr>\n",
       "  </thead>\n",
       "  <tbody>\n",
       "    <tr>\n",
       "      <td>0</td>\n",
       "      <td>7240372487</td>\n",
       "      <td>https://auburn.craigslist.org/ctd/d/auburn-uni...</td>\n",
       "      <td>auburn</td>\n",
       "      <td>https://auburn.craigslist.org</td>\n",
       "      <td>35990</td>\n",
       "      <td>2010.0</td>\n",
       "      <td>chevrolet</td>\n",
       "      <td>corvette grand sport</td>\n",
       "      <td>good</td>\n",
       "      <td>8 cylinders</td>\n",
       "      <td>...</td>\n",
       "      <td>rwd</td>\n",
       "      <td>NaN</td>\n",
       "      <td>other</td>\n",
       "      <td>NaN</td>\n",
       "      <td>https://images.craigslist.org/00N0N_ipkbHVZYf4...</td>\n",
       "      <td>Carvana is the safer way to buy a car During t...</td>\n",
       "      <td>al</td>\n",
       "      <td>32.590000</td>\n",
       "      <td>-85.480000</td>\n",
       "      <td>2020-12-02T08:11:30-0600</td>\n",
       "    </tr>\n",
       "    <tr>\n",
       "      <td>1</td>\n",
       "      <td>7240309422</td>\n",
       "      <td>https://auburn.craigslist.org/cto/d/auburn-201...</td>\n",
       "      <td>auburn</td>\n",
       "      <td>https://auburn.craigslist.org</td>\n",
       "      <td>7500</td>\n",
       "      <td>2014.0</td>\n",
       "      <td>hyundai</td>\n",
       "      <td>sonata</td>\n",
       "      <td>excellent</td>\n",
       "      <td>4 cylinders</td>\n",
       "      <td>...</td>\n",
       "      <td>fwd</td>\n",
       "      <td>NaN</td>\n",
       "      <td>sedan</td>\n",
       "      <td>NaN</td>\n",
       "      <td>https://images.craigslist.org/00s0s_gBHYmJ5o7y...</td>\n",
       "      <td>I'll move to another city and try to sell my c...</td>\n",
       "      <td>al</td>\n",
       "      <td>32.547500</td>\n",
       "      <td>-85.468200</td>\n",
       "      <td>2020-12-02T02:11:50-0600</td>\n",
       "    </tr>\n",
       "    <tr>\n",
       "      <td>2</td>\n",
       "      <td>7240224296</td>\n",
       "      <td>https://auburn.craigslist.org/cto/d/auburn-200...</td>\n",
       "      <td>auburn</td>\n",
       "      <td>https://auburn.craigslist.org</td>\n",
       "      <td>4900</td>\n",
       "      <td>2006.0</td>\n",
       "      <td>bmw</td>\n",
       "      <td>x3 3.0i</td>\n",
       "      <td>good</td>\n",
       "      <td>6 cylinders</td>\n",
       "      <td>...</td>\n",
       "      <td>NaN</td>\n",
       "      <td>NaN</td>\n",
       "      <td>SUV</td>\n",
       "      <td>blue</td>\n",
       "      <td>https://images.craigslist.org/00B0B_5zgEGWPOrt...</td>\n",
       "      <td>Clean 2006 BMW X3 3.0I.  Beautiful and rare Bl...</td>\n",
       "      <td>al</td>\n",
       "      <td>32.616807</td>\n",
       "      <td>-85.464149</td>\n",
       "      <td>2020-12-01T19:50:41-0600</td>\n",
       "    </tr>\n",
       "    <tr>\n",
       "      <td>3</td>\n",
       "      <td>7240103965</td>\n",
       "      <td>https://auburn.craigslist.org/cto/d/lanett-tru...</td>\n",
       "      <td>auburn</td>\n",
       "      <td>https://auburn.craigslist.org</td>\n",
       "      <td>2000</td>\n",
       "      <td>1974.0</td>\n",
       "      <td>chevrolet</td>\n",
       "      <td>c-10</td>\n",
       "      <td>good</td>\n",
       "      <td>4 cylinders</td>\n",
       "      <td>...</td>\n",
       "      <td>rwd</td>\n",
       "      <td>full-size</td>\n",
       "      <td>pickup</td>\n",
       "      <td>blue</td>\n",
       "      <td>https://images.craigslist.org/00M0M_6o7KcDpArw...</td>\n",
       "      <td>1974 chev. truck (LONG BED) NEW starter front ...</td>\n",
       "      <td>al</td>\n",
       "      <td>32.861600</td>\n",
       "      <td>-85.216100</td>\n",
       "      <td>2020-12-01T15:54:45-0600</td>\n",
       "    </tr>\n",
       "    <tr>\n",
       "      <td>4</td>\n",
       "      <td>7239983776</td>\n",
       "      <td>https://auburn.craigslist.org/cto/d/auburn-200...</td>\n",
       "      <td>auburn</td>\n",
       "      <td>https://auburn.craigslist.org</td>\n",
       "      <td>19500</td>\n",
       "      <td>2005.0</td>\n",
       "      <td>ford</td>\n",
       "      <td>f350 lariat</td>\n",
       "      <td>excellent</td>\n",
       "      <td>8 cylinders</td>\n",
       "      <td>...</td>\n",
       "      <td>4wd</td>\n",
       "      <td>full-size</td>\n",
       "      <td>pickup</td>\n",
       "      <td>blue</td>\n",
       "      <td>https://images.craigslist.org/00p0p_b95l1EgUfl...</td>\n",
       "      <td>2005 Ford F350 Lariat (Bullet Proofed). This t...</td>\n",
       "      <td>al</td>\n",
       "      <td>32.547500</td>\n",
       "      <td>-85.468200</td>\n",
       "      <td>2020-12-01T12:53:56-0600</td>\n",
       "    </tr>\n",
       "  </tbody>\n",
       "</table>\n",
       "<p>5 rows × 25 columns</p>\n",
       "</div>"
      ],
      "text/plain": [
       "           id                                                url  region  \\\n",
       "0  7240372487  https://auburn.craigslist.org/ctd/d/auburn-uni...  auburn   \n",
       "1  7240309422  https://auburn.craigslist.org/cto/d/auburn-201...  auburn   \n",
       "2  7240224296  https://auburn.craigslist.org/cto/d/auburn-200...  auburn   \n",
       "3  7240103965  https://auburn.craigslist.org/cto/d/lanett-tru...  auburn   \n",
       "4  7239983776  https://auburn.craigslist.org/cto/d/auburn-200...  auburn   \n",
       "\n",
       "                      region_url  price    year manufacturer  \\\n",
       "0  https://auburn.craigslist.org  35990  2010.0    chevrolet   \n",
       "1  https://auburn.craigslist.org   7500  2014.0      hyundai   \n",
       "2  https://auburn.craigslist.org   4900  2006.0          bmw   \n",
       "3  https://auburn.craigslist.org   2000  1974.0    chevrolet   \n",
       "4  https://auburn.craigslist.org  19500  2005.0         ford   \n",
       "\n",
       "                  model  condition    cylinders  ... drive       size    type  \\\n",
       "0  corvette grand sport       good  8 cylinders  ...   rwd        NaN   other   \n",
       "1                sonata  excellent  4 cylinders  ...   fwd        NaN   sedan   \n",
       "2               x3 3.0i       good  6 cylinders  ...   NaN        NaN     SUV   \n",
       "3                  c-10       good  4 cylinders  ...   rwd  full-size  pickup   \n",
       "4           f350 lariat  excellent  8 cylinders  ...   4wd  full-size  pickup   \n",
       "\n",
       "  paint_color                                          image_url  \\\n",
       "0         NaN  https://images.craigslist.org/00N0N_ipkbHVZYf4...   \n",
       "1         NaN  https://images.craigslist.org/00s0s_gBHYmJ5o7y...   \n",
       "2        blue  https://images.craigslist.org/00B0B_5zgEGWPOrt...   \n",
       "3        blue  https://images.craigslist.org/00M0M_6o7KcDpArw...   \n",
       "4        blue  https://images.craigslist.org/00p0p_b95l1EgUfl...   \n",
       "\n",
       "                                         description state        lat  \\\n",
       "0  Carvana is the safer way to buy a car During t...    al  32.590000   \n",
       "1  I'll move to another city and try to sell my c...    al  32.547500   \n",
       "2  Clean 2006 BMW X3 3.0I.  Beautiful and rare Bl...    al  32.616807   \n",
       "3  1974 chev. truck (LONG BED) NEW starter front ...    al  32.861600   \n",
       "4  2005 Ford F350 Lariat (Bullet Proofed). This t...    al  32.547500   \n",
       "\n",
       "        long              posting_date  \n",
       "0 -85.480000  2020-12-02T08:11:30-0600  \n",
       "1 -85.468200  2020-12-02T02:11:50-0600  \n",
       "2 -85.464149  2020-12-01T19:50:41-0600  \n",
       "3 -85.216100  2020-12-01T15:54:45-0600  \n",
       "4 -85.468200  2020-12-01T12:53:56-0600  \n",
       "\n",
       "[5 rows x 25 columns]"
      ]
     },
     "execution_count": 6,
     "metadata": {},
     "output_type": "execute_result"
    }
   ],
   "source": [
    "cars.head()"
   ]
  },
  {
   "cell_type": "code",
   "execution_count": 7,
   "metadata": {},
   "outputs": [
    {
     "data": {
      "text/plain": [
       "Index(['id', 'url', 'region', 'region_url', 'price', 'year', 'manufacturer',\n",
       "       'model', 'condition', 'cylinders', 'fuel', 'odometer', 'title_status',\n",
       "       'transmission', 'VIN', 'drive', 'size', 'type', 'paint_color',\n",
       "       'image_url', 'description', 'state', 'lat', 'long', 'posting_date'],\n",
       "      dtype='object')"
      ]
     },
     "execution_count": 7,
     "metadata": {},
     "output_type": "execute_result"
    }
   ],
   "source": [
    "cars.columns"
   ]
  },
  {
   "cell_type": "code",
   "execution_count": 8,
   "metadata": {},
   "outputs": [
    {
     "data": {
      "text/plain": [
       "(458213, 25)"
      ]
     },
     "execution_count": 8,
     "metadata": {},
     "output_type": "execute_result"
    }
   ],
   "source": [
    "cars.shape"
   ]
  },
  {
   "cell_type": "code",
   "execution_count": 28,
   "metadata": {},
   "outputs": [
    {
     "data": {
      "text/html": [
       "<div>\n",
       "<style scoped>\n",
       "    .dataframe tbody tr th:only-of-type {\n",
       "        vertical-align: middle;\n",
       "    }\n",
       "\n",
       "    .dataframe tbody tr th {\n",
       "        vertical-align: top;\n",
       "    }\n",
       "\n",
       "    .dataframe thead th {\n",
       "        text-align: right;\n",
       "    }\n",
       "</style>\n",
       "<table border=\"1\" class=\"dataframe\">\n",
       "  <thead>\n",
       "    <tr style=\"text-align: right;\">\n",
       "      <th></th>\n",
       "      <th>id</th>\n",
       "      <th>price</th>\n",
       "      <th>year</th>\n",
       "      <th>odometer</th>\n",
       "      <th>lat</th>\n",
       "      <th>long</th>\n",
       "    </tr>\n",
       "  </thead>\n",
       "  <tbody>\n",
       "    <tr>\n",
       "      <td>count</td>\n",
       "      <td>4.582130e+05</td>\n",
       "      <td>4.582130e+05</td>\n",
       "      <td>457163.000000</td>\n",
       "      <td>4.029100e+05</td>\n",
       "      <td>450765.000000</td>\n",
       "      <td>450765.000000</td>\n",
       "    </tr>\n",
       "    <tr>\n",
       "      <td>mean</td>\n",
       "      <td>7.235233e+09</td>\n",
       "      <td>4.042093e+04</td>\n",
       "      <td>2010.746067</td>\n",
       "      <td>1.016698e+05</td>\n",
       "      <td>38.531925</td>\n",
       "      <td>-94.375824</td>\n",
       "    </tr>\n",
       "    <tr>\n",
       "      <td>std</td>\n",
       "      <td>4.594362e+06</td>\n",
       "      <td>8.194599e+06</td>\n",
       "      <td>8.868136</td>\n",
       "      <td>3.228623e+06</td>\n",
       "      <td>5.857378</td>\n",
       "      <td>18.076225</td>\n",
       "    </tr>\n",
       "    <tr>\n",
       "      <td>min</td>\n",
       "      <td>7.208550e+09</td>\n",
       "      <td>0.000000e+00</td>\n",
       "      <td>1900.000000</td>\n",
       "      <td>0.000000e+00</td>\n",
       "      <td>-82.607549</td>\n",
       "      <td>-164.091797</td>\n",
       "    </tr>\n",
       "    <tr>\n",
       "      <td>25%</td>\n",
       "      <td>7.231953e+09</td>\n",
       "      <td>4.900000e+03</td>\n",
       "      <td>2008.000000</td>\n",
       "      <td>4.087700e+04</td>\n",
       "      <td>34.600000</td>\n",
       "      <td>-110.890427</td>\n",
       "    </tr>\n",
       "    <tr>\n",
       "      <td>50%</td>\n",
       "      <td>7.236409e+09</td>\n",
       "      <td>1.099500e+04</td>\n",
       "      <td>2013.000000</td>\n",
       "      <td>8.764100e+04</td>\n",
       "      <td>39.244500</td>\n",
       "      <td>-88.314889</td>\n",
       "    </tr>\n",
       "    <tr>\n",
       "      <td>75%</td>\n",
       "      <td>7.239321e+09</td>\n",
       "      <td>2.149500e+04</td>\n",
       "      <td>2016.000000</td>\n",
       "      <td>1.340000e+05</td>\n",
       "      <td>42.484503</td>\n",
       "      <td>-81.015022</td>\n",
       "    </tr>\n",
       "    <tr>\n",
       "      <td>max</td>\n",
       "      <td>7.241019e+09</td>\n",
       "      <td>3.615215e+09</td>\n",
       "      <td>2021.000000</td>\n",
       "      <td>2.043756e+09</td>\n",
       "      <td>82.049255</td>\n",
       "      <td>150.898969</td>\n",
       "    </tr>\n",
       "  </tbody>\n",
       "</table>\n",
       "</div>"
      ],
      "text/plain": [
       "                 id         price           year      odometer            lat  \\\n",
       "count  4.582130e+05  4.582130e+05  457163.000000  4.029100e+05  450765.000000   \n",
       "mean   7.235233e+09  4.042093e+04    2010.746067  1.016698e+05      38.531925   \n",
       "std    4.594362e+06  8.194599e+06       8.868136  3.228623e+06       5.857378   \n",
       "min    7.208550e+09  0.000000e+00    1900.000000  0.000000e+00     -82.607549   \n",
       "25%    7.231953e+09  4.900000e+03    2008.000000  4.087700e+04      34.600000   \n",
       "50%    7.236409e+09  1.099500e+04    2013.000000  8.764100e+04      39.244500   \n",
       "75%    7.239321e+09  2.149500e+04    2016.000000  1.340000e+05      42.484503   \n",
       "max    7.241019e+09  3.615215e+09    2021.000000  2.043756e+09      82.049255   \n",
       "\n",
       "                long  \n",
       "count  450765.000000  \n",
       "mean      -94.375824  \n",
       "std        18.076225  \n",
       "min      -164.091797  \n",
       "25%      -110.890427  \n",
       "50%       -88.314889  \n",
       "75%       -81.015022  \n",
       "max       150.898969  "
      ]
     },
     "execution_count": 28,
     "metadata": {},
     "output_type": "execute_result"
    }
   ],
   "source": [
    "cars.describe()"
   ]
  },
  {
   "cell_type": "code",
   "execution_count": 24,
   "metadata": {},
   "outputs": [
    {
     "data": {
      "text/plain": [
       "id                   0\n",
       "url                  0\n",
       "region               0\n",
       "region_url           0\n",
       "price                0\n",
       "year              1050\n",
       "manufacturer     18220\n",
       "model             4846\n",
       "condition       192940\n",
       "cylinders       171140\n",
       "fuel              3237\n",
       "odometer         55303\n",
       "title_status      2577\n",
       "transmission      2442\n",
       "VIN             187549\n",
       "drive           134188\n",
       "size            321348\n",
       "type            112738\n",
       "paint_color     140843\n",
       "image_url           28\n",
       "description         70\n",
       "state                0\n",
       "lat               7448\n",
       "long              7448\n",
       "posting_date        28\n",
       "dtype: int64"
      ]
     },
     "execution_count": 24,
     "metadata": {},
     "output_type": "execute_result"
    }
   ],
   "source": [
    "#Total number of null values in each column\n",
    "cars.isnull().sum()"
   ]
  },
  {
   "cell_type": "code",
   "execution_count": 22,
   "metadata": {},
   "outputs": [
    {
     "name": "stdout",
     "output_type": "stream",
     "text": [
      "PERCENTAGE OF ROWS WITH NAN:\n",
      "id               0.000000\n",
      "url              0.000000\n",
      "region           0.000000\n",
      "region_url       0.000000\n",
      "price            0.000000\n",
      "year             0.229151\n",
      "manufacturer     3.976317\n",
      "model            1.057587\n",
      "condition       42.107055\n",
      "cylinders       37.349442\n",
      "fuel             0.706440\n",
      "odometer        12.069278\n",
      "title_status     0.562402\n",
      "transmission     0.532940\n",
      "VIN             40.930528\n",
      "drive           29.285070\n",
      "size            70.130703\n",
      "type            24.603841\n",
      "paint_color     30.737452\n",
      "image_url        0.006111\n",
      "description      0.015277\n",
      "state            0.000000\n",
      "lat              1.625445\n",
      "long             1.625445\n",
      "posting_date     0.006111\n",
      "dtype: float64\n"
     ]
    }
   ],
   "source": [
    "print(\"PERCENTAGE OF ROWS WITH NAN:\")\n",
    "print(cars.isnull().sum() / cars.shape[0] * 100)"
   ]
  },
  {
   "cell_type": "code",
   "execution_count": 11,
   "metadata": {},
   "outputs": [
    {
     "data": {
      "text/plain": [
       "458213"
      ]
     },
     "execution_count": 11,
     "metadata": {},
     "output_type": "execute_result"
    }
   ],
   "source": [
    "#Every row is a unique car\n",
    "len(np.unique(cars.id))"
   ]
  },
  {
   "cell_type": "code",
   "execution_count": 16,
   "metadata": {},
   "outputs": [
    {
     "name": "stdout",
     "output_type": "stream",
     "text": [
      "Number of unique regions: 405\n"
     ]
    }
   ],
   "source": [
    "#print(np.unique(cars.region))\n",
    "print(\"Number of unique regions:\", len(np.unique(cars.region)))"
   ]
  },
  {
   "cell_type": "code",
   "execution_count": 18,
   "metadata": {},
   "outputs": [
    {
     "name": "stdout",
     "output_type": "stream",
     "text": [
      "Number of unique region urls: 413\n"
     ]
    }
   ],
   "source": [
    "print(\"Number of unique region urls:\", len(np.unique(cars.region_url)))"
   ]
  },
  {
   "cell_type": "code",
   "execution_count": 27,
   "metadata": {},
   "outputs": [
    {
     "name": "stdout",
     "output_type": "stream",
     "text": [
      "2021.0\n",
      "1900.0\n",
      "2010.7460665014448\n"
     ]
    }
   ],
   "source": [
    "print(np.max(cars.year))\n",
    "print(np.min(cars.year))\n",
    "print(np.mean(cars.year))"
   ]
  },
  {
   "cell_type": "code",
   "execution_count": 36,
   "metadata": {},
   "outputs": [
    {
     "name": "stdout",
     "output_type": "stream",
     "text": [
      "40420.93069598637\n",
      "3615215112\n",
      "0\n"
     ]
    }
   ],
   "source": [
    "#Price\n",
    "#Clearly at least 1 huge outlier.\n",
    "print(np.mean(cars.price))\n",
    "print(np.max(cars.price))\n",
    "print(np.min(cars.price))"
   ]
  },
  {
   "cell_type": "code",
   "execution_count": 62,
   "metadata": {},
   "outputs": [],
   "source": [
    "def uniqueAndCounts(col):\n",
    "    print(np.unique(cars[col].astype(str)))\n",
    "    print(cars[col].astype(str).value_counts())"
   ]
  },
  {
   "cell_type": "code",
   "execution_count": 63,
   "metadata": {},
   "outputs": [
    {
     "name": "stdout",
     "output_type": "stream",
     "text": [
      "['acura' 'alfa-romeo' 'aston-martin' 'audi' 'bmw' 'buick' 'cadillac'\n",
      " 'chevrolet' 'chrysler' 'datsun' 'dodge' 'ferrari' 'fiat' 'ford' 'gmc'\n",
      " 'harley-davidson' 'hennessey' 'honda' 'hyundai' 'infiniti' 'jaguar'\n",
      " 'jeep' 'kia' 'land rover' 'lexus' 'lincoln' 'mazda' 'mercedes-benz'\n",
      " 'mercury' 'mini' 'mitsubishi' 'morgan' 'nan' 'nissan' 'pontiac' 'porsche'\n",
      " 'ram' 'rover' 'saturn' 'subaru' 'tesla' 'toyota' 'volkswagen' 'volvo']\n",
      "ford               79666\n",
      "chevrolet          64977\n",
      "toyota             38577\n",
      "honda              25868\n",
      "nissan             23654\n",
      "jeep               21165\n",
      "nan                18220\n",
      "ram                17697\n",
      "gmc                17267\n",
      "dodge              16730\n",
      "bmw                12352\n",
      "hyundai            10975\n",
      "mercedes-benz      10628\n",
      "subaru             10510\n",
      "volkswagen         10489\n",
      "kia                 8854\n",
      "chrysler            7499\n",
      "lexus               7119\n",
      "cadillac            6743\n",
      "buick               6009\n",
      "mazda               5931\n",
      "audi                5583\n",
      "acura               4008\n",
      "infiniti            3714\n",
      "lincoln             3338\n",
      "pontiac             3037\n",
      "volvo               2866\n",
      "mini                2330\n",
      "mitsubishi          2301\n",
      "porsche             1779\n",
      "rover               1662\n",
      "mercury             1645\n",
      "saturn              1393\n",
      "tesla               1067\n",
      "jaguar              1060\n",
      "fiat                 955\n",
      "alfa-romeo           187\n",
      "harley-davidson      139\n",
      "ferrari               96\n",
      "datsun                63\n",
      "aston-martin          35\n",
      "land rover            21\n",
      "morgan                 3\n",
      "hennessey              1\n",
      "Name: manufacturer, dtype: int64\n"
     ]
    }
   ],
   "source": [
    "#Manufacturer\n",
    "#Doesnt appear to be any spelling issues.\n",
    "uniqueAndCounts(col='manufacturer')"
   ]
  },
  {
   "cell_type": "code",
   "execution_count": 45,
   "metadata": {},
   "outputs": [
    {
     "name": "stdout",
     "output_type": "stream",
     "text": [
      "Number of unique car models: 31521\n"
     ]
    }
   ],
   "source": [
    "print(\"Number of unique car models:\", len(np.unique(cars.model.astype(str))))"
   ]
  },
  {
   "cell_type": "code",
   "execution_count": 64,
   "metadata": {},
   "outputs": [
    {
     "name": "stdout",
     "output_type": "stream",
     "text": [
      "['excellent' 'fair' 'good' 'like new' 'nan' 'new' 'salvage']\n",
      "nan          192940\n",
      "good         115685\n",
      "excellent    115206\n",
      "like new      24553\n",
      "fair           7740\n",
      "new            1428\n",
      "salvage         661\n",
      "Name: condition, dtype: int64\n"
     ]
    }
   ],
   "source": [
    "#Condition\n",
    "uniqueAndCounts(col='condition')"
   ]
  },
  {
   "cell_type": "code",
   "execution_count": 65,
   "metadata": {},
   "outputs": [
    {
     "name": "stdout",
     "output_type": "stream",
     "text": [
      "['10 cylinders' '12 cylinders' '3 cylinders' '4 cylinders' '5 cylinders'\n",
      " '6 cylinders' '8 cylinders' 'nan' 'other']\n",
      "nan             171140\n",
      "6 cylinders     105677\n",
      "4 cylinders      94767\n",
      "8 cylinders      81179\n",
      "5 cylinders       2058\n",
      "10 cylinders      1543\n",
      "other             1112\n",
      "3 cylinders        550\n",
      "12 cylinders       187\n",
      "Name: cylinders, dtype: int64\n"
     ]
    }
   ],
   "source": [
    "#Cylinders\n",
    "uniqueAndCounts(col='cylinders')"
   ]
  },
  {
   "cell_type": "code",
   "execution_count": 66,
   "metadata": {},
   "outputs": [
    {
     "name": "stdout",
     "output_type": "stream",
     "text": [
      "['diesel' 'electric' 'gas' 'hybrid' 'nan' 'other']\n",
      "gas         399399\n",
      "diesel       31077\n",
      "other        16359\n",
      "hybrid        5790\n",
      "nan           3237\n",
      "electric      2351\n",
      "Name: fuel, dtype: int64\n"
     ]
    }
   ],
   "source": [
    "#Fuel\n",
    "uniqueAndCounts(col='fuel')"
   ]
  },
  {
   "cell_type": "code",
   "execution_count": 67,
   "metadata": {},
   "outputs": [
    {
     "name": "stdout",
     "output_type": "stream",
     "text": [
      "['clean' 'lien' 'missing' 'nan' 'parts only' 'rebuilt' 'salvage']\n",
      "clean         439626\n",
      "rebuilt         8698\n",
      "salvage         4233\n",
      "nan             2577\n",
      "lien            2091\n",
      "missing          794\n",
      "parts only       194\n",
      "Name: title_status, dtype: int64\n"
     ]
    }
   ],
   "source": [
    "#Title_status\n",
    "uniqueAndCounts(col='title_status')"
   ]
  },
  {
   "cell_type": "code",
   "execution_count": 68,
   "metadata": {},
   "outputs": [
    {
     "name": "stdout",
     "output_type": "stream",
     "text": [
      "['automatic' 'manual' 'nan' 'other']\n",
      "automatic    396322\n",
      "other         32186\n",
      "manual        27263\n",
      "nan            2442\n",
      "Name: transmission, dtype: int64\n"
     ]
    }
   ],
   "source": [
    "#Transmission\n",
    "uniqueAndCounts(col='transmission')"
   ]
  },
  {
   "cell_type": "code",
   "execution_count": 69,
   "metadata": {},
   "outputs": [
    {
     "name": "stdout",
     "output_type": "stream",
     "text": [
      "['4wd' 'fwd' 'nan' 'rwd']\n",
      "4wd    139693\n",
      "nan    134188\n",
      "fwd    122602\n",
      "rwd     61730\n",
      "Name: drive, dtype: int64\n"
     ]
    }
   ],
   "source": [
    "#Drive\n",
    "uniqueAndCounts(col='drive')"
   ]
  },
  {
   "cell_type": "code",
   "execution_count": 70,
   "metadata": {},
   "outputs": [
    {
     "name": "stdout",
     "output_type": "stream",
     "text": [
      "['compact' 'full-size' 'mid-size' 'nan' 'sub-compact']\n",
      "nan            321348\n",
      "full-size       69736\n",
      "mid-size        41782\n",
      "compact         21825\n",
      "sub-compact      3522\n",
      "Name: size, dtype: int64\n"
     ]
    }
   ],
   "source": [
    "#Size\n",
    "uniqueAndCounts(col='size')"
   ]
  },
  {
   "cell_type": "code",
   "execution_count": 71,
   "metadata": {},
   "outputs": [
    {
     "name": "stdout",
     "output_type": "stream",
     "text": [
      "['SUV' 'bus' 'convertible' 'coupe' 'hatchback' 'mini-van' 'nan' 'offroad'\n",
      " 'other' 'pickup' 'sedan' 'truck' 'van' 'wagon']\n",
      "nan            112738\n",
      "sedan           92364\n",
      "SUV             79882\n",
      "pickup          43343\n",
      "truck           35694\n",
      "other           24160\n",
      "coupe           19106\n",
      "hatchback       16388\n",
      "wagon           10473\n",
      "van              9574\n",
      "convertible      6864\n",
      "mini-van         6263\n",
      "bus               717\n",
      "offroad           647\n",
      "Name: type, dtype: int64\n"
     ]
    }
   ],
   "source": [
    "#Type\n",
    "uniqueAndCounts(col='type')"
   ]
  },
  {
   "cell_type": "code",
   "execution_count": 72,
   "metadata": {},
   "outputs": [
    {
     "name": "stdout",
     "output_type": "stream",
     "text": [
      "['black' 'blue' 'brown' 'custom' 'green' 'grey' 'nan' 'orange' 'purple'\n",
      " 'red' 'silver' 'white' 'yellow']\n",
      "nan       140843\n",
      "white      82786\n",
      "black      64145\n",
      "silver     46722\n",
      "red        33274\n",
      "blue       32746\n",
      "grey       30455\n",
      "custom      8843\n",
      "green       7631\n",
      "brown       6028\n",
      "yellow      2002\n",
      "orange      1970\n",
      "purple       768\n",
      "Name: paint_color, dtype: int64\n"
     ]
    }
   ],
   "source": [
    "#Colour\n",
    "uniqueAndCounts(col='paint_color')"
   ]
  },
  {
   "cell_type": "code",
   "execution_count": 73,
   "metadata": {},
   "outputs": [
    {
     "data": {
      "text/plain": [
       "0         2020-12-02T08:11:30-0600\n",
       "1         2020-12-02T02:11:50-0600\n",
       "2         2020-12-01T19:50:41-0600\n",
       "3         2020-12-01T15:54:45-0600\n",
       "4         2020-12-01T12:53:56-0600\n",
       "                    ...           \n",
       "458208    2020-12-03T08:56:29-0600\n",
       "458209    2020-12-03T08:48:08-0600\n",
       "458210    2020-12-02T14:09:45-0700\n",
       "458211    2020-12-02T13:01:04-0700\n",
       "458212    2020-12-02T12:03:45-0700\n",
       "Name: posting_date, Length: 458213, dtype: object"
      ]
     },
     "execution_count": 73,
     "metadata": {},
     "output_type": "execute_result"
    }
   ],
   "source": [
    "cars.posting_date"
   ]
  },
  {
   "cell_type": "markdown",
   "metadata": {},
   "source": [
    "## Data Cleaning"
   ]
  },
  {
   "cell_type": "code",
   "execution_count": 10,
   "metadata": {},
   "outputs": [],
   "source": [
    "#Remove VIN and image_url features\n",
    "cars.drop(['VIN','image_url'], axis=1, inplace=True)"
   ]
  },
  {
   "cell_type": "code",
   "execution_count": 16,
   "metadata": {},
   "outputs": [],
   "source": [
    "#Convert posting_date to date type\n",
    "cars['posting_date'] = cars['posting_date'].str[:10].astype('datetime64[ns]')"
   ]
  },
  {
   "cell_type": "code",
   "execution_count": 34,
   "metadata": {},
   "outputs": [],
   "source": [
    "#Convert categorical features to string type\n",
    "columns_to_str = ['url','region','region_url','manufacturer','model','condition','cylinders',\n",
    "                 'fuel','title_status','transmission','drive','size','type','paint_color','description',\n",
    "                 'state']\n",
    "\n",
    "for col in columns_to_str:\n",
    "    cars[col] = cars[col].astype(str)"
   ]
  },
  {
   "cell_type": "code",
   "execution_count": null,
   "metadata": {},
   "outputs": [],
   "source": []
  }
 ],
 "metadata": {
  "kernelspec": {
   "display_name": "Python 3",
   "language": "python",
   "name": "python3"
  },
  "language_info": {
   "codemirror_mode": {
    "name": "ipython",
    "version": 3
   },
   "file_extension": ".py",
   "mimetype": "text/x-python",
   "name": "python",
   "nbconvert_exporter": "python",
   "pygments_lexer": "ipython3",
   "version": "3.7.4"
  }
 },
 "nbformat": 4,
 "nbformat_minor": 4
}
