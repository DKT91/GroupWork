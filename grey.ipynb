{
 "cells": [
  {
   "cell_type": "markdown",
   "metadata": {},
   "source": [
    "# Import Library"
   ]
  },
  {
   "cell_type": "code",
   "execution_count": 3,
   "metadata": {},
   "outputs": [],
   "source": [
    "import os\n",
    "import cv2\n",
    "import numpy as np\n",
    "import pandas as pd\n",
    "import matplotlib.pyplot as plt\n",
    "import matplotlib.image as mpimg\n",
    "from skimage import transform\n",
    "from skimage import io\n",
    "import tensorflow as tf\n",
    "from tensorflow.keras import datasets, layers, models"
   ]
  },
  {
   "cell_type": "markdown",
   "metadata": {},
   "source": [
    "# Load Image File"
   ]
  },
  {
   "cell_type": "code",
   "execution_count": 4,
   "metadata": {},
   "outputs": [],
   "source": [
    "def loadTrainImages(path='data/Train'):\n",
    "    classes = [ g for g in os.listdir(path) if os.path.isdir(path + '/' + g)]\n",
    "\n",
    "    images = []\n",
    "    labels = []\n",
    "\n",
    "    for classid in classes:\n",
    "        image_class_path = os.path.join(path, classid)\n",
    "\n",
    "        image_files = sorted([os.path.join(image_class_path, file)\n",
    "                 for file in os.listdir(image_class_path) if file.endswith('.png')])\n",
    "        \n",
    "        images.extend(image_files)\n",
    "        labels.extend([ int(classid) ] * len(image_files))\n",
    "\n",
    "    return np.array(images), np.array(labels)"
   ]
  },
  {
   "cell_type": "code",
   "execution_count": 5,
   "metadata": {},
   "outputs": [
    {
     "name": "stdout",
     "output_type": "stream",
     "text": [
      "train_image shape (39209,)\n",
      "y_train shape (39209,)\n"
     ]
    }
   ],
   "source": [
    "train_image, y_train = loadTrainImages()\n",
    "\n",
    "print('train_image shape', train_image.shape)\n",
    "\n",
    "print('y_train shape', y_train.shape)"
   ]
  },
  {
   "cell_type": "code",
   "execution_count": 6,
   "metadata": {},
   "outputs": [],
   "source": [
    "def loadTestImages(path='data/Test'):\n",
    "    image_files = sorted([os.path.join(path, file)\n",
    "             for file in os.listdir(path) if file.endswith('.png')])\n",
    "\n",
    "    return np.array(image_files)"
   ]
  },
  {
   "cell_type": "code",
   "execution_count": 7,
   "metadata": {},
   "outputs": [],
   "source": [
    "test_image = loadTestImages()"
   ]
  },
  {
   "cell_type": "code",
   "execution_count": 8,
   "metadata": {},
   "outputs": [
    {
     "name": "stdout",
     "output_type": "stream",
     "text": [
      "test_image shape (12630,)\n"
     ]
    }
   ],
   "source": [
    "print('test_image shape', test_image.shape)"
   ]
  },
  {
   "cell_type": "markdown",
   "metadata": {},
   "source": [
    "# Resize Image & Write the data into npy file"
   ]
  },
  {
   "cell_type": "code",
   "execution_count": 9,
   "metadata": {},
   "outputs": [],
   "source": [
    "def resize_image(images, width=32, height=32):\n",
    "    im_ar = []\n",
    "\n",
    "    for j in images:\n",
    "        image = io.imread(j)\n",
    "\n",
    "        im = transform.resize(image, (width, height))\n",
    "\n",
    "        im_ar.append(im) \n",
    "\n",
    "    return np.asarray(im_ar)"
   ]
  },
  {
   "cell_type": "code",
   "execution_count": 10,
   "metadata": {},
   "outputs": [],
   "source": [
    "# np.save('data.npy', resize_image(train_image))"
   ]
  },
  {
   "cell_type": "code",
   "execution_count": 11,
   "metadata": {},
   "outputs": [],
   "source": [
    "# np.save('testing.npy', resize_image(test_image))"
   ]
  },
  {
   "cell_type": "markdown",
   "metadata": {},
   "source": [
    "# Load data from numpy array"
   ]
  },
  {
   "cell_type": "code",
   "execution_count": 12,
   "metadata": {},
   "outputs": [],
   "source": [
    "X_train = np.load('data.npy') # load\n",
    "X_test = np.load('testing.npy') # load"
   ]
  },
  {
   "cell_type": "code",
   "execution_count": 13,
   "metadata": {},
   "outputs": [],
   "source": [
    "y_test = pd.read_csv(\"Data/Test.csv\").ClassId.values"
   ]
  },
  {
   "cell_type": "code",
   "execution_count": 14,
   "metadata": {},
   "outputs": [
    {
     "name": "stdout",
     "output_type": "stream",
     "text": [
      "(39209, 32, 32, 3) (12630, 32, 32, 3)\n",
      "(39209,) (12630,)\n"
     ]
    }
   ],
   "source": [
    "print(X_train.shape, X_test.shape)\n",
    "print(y_train.shape, y_test.shape)"
   ]
  },
  {
   "cell_type": "markdown",
   "metadata": {},
   "source": [
    "# Display Image"
   ]
  },
  {
   "cell_type": "code",
   "execution_count": 15,
   "metadata": {},
   "outputs": [],
   "source": [
    "# Display one image\n",
    "def display_one(a, title1 = \"Original\"):\n",
    "    plt.imshow(a), plt.title(title1)\n",
    "\n",
    "    plt.xticks([]), plt.yticks([])\n",
    "    plt.show()\n",
    "\n",
    "\n",
    "# Display two images\n",
    "def display(a, b, title1 = \"Original\", title2 = \"Grayed\"):\n",
    "    plt.subplot(121), plt.imshow(a), plt.title(title1)\n",
    "    plt.xticks([]), plt.yticks([])\n",
    "\n",
    "    plt.subplot(122), plt.imshow(b, cmap='gray'), plt.title(title2)\n",
    "    plt.xticks([]), plt.yticks([])\n",
    "    plt.show()"
   ]
  },
  {
   "cell_type": "markdown",
   "metadata": {},
   "source": [
    "# P1: Convert to Gray"
   ]
  },
  {
   "cell_type": "code",
   "execution_count": 26,
   "metadata": {},
   "outputs": [
    {
     "data": {
      "image/png": "[encoded data removed]",
      "text/plain": [
       "<Figure size 432x288 with 2 Axes>"
      ]
     },
     "metadata": {},
     "output_type": "display_data"
    },
    {
     "name": "stdout",
     "output_type": "stream",
     "text": [
      "(45, 41, 3) (45, 41)\n"
     ]
    }
   ],
   "source": [
    "image = cv2.imread(train_image[2300])\n",
    "gray = cv2.cvtColor(image, cv2.COLOR_BGR2GRAY)\n",
    "\n",
    "display(image, gray)\n",
    "print(image.shape, gray.shape)"
   ]
  },
  {
   "cell_type": "code",
   "execution_count": 27,
   "metadata": {},
   "outputs": [
    {
     "data": {
      "text/plain": [
       "array([[30, 30, 33, ..., 44, 43, 42],\n",
       "       [28, 31, 33, ..., 46, 43, 41],\n",
       "       [31, 34, 34, ..., 42, 43, 40],\n",
       "       ...,\n",
       "       [42, 43, 46, ..., 40, 38, 38],\n",
       "       [42, 45, 49, ..., 45, 44, 42],\n",
       "       [42, 45, 47, ..., 40, 41, 41]], dtype=uint8)"
      ]
     },
     "execution_count": 27,
     "metadata": {},
     "output_type": "execute_result"
    }
   ],
   "source": [
    "gray"
   ]
  },
  {
   "cell_type": "code",
   "execution_count": 31,
   "metadata": {},
   "outputs": [
    {
     "data": {
      "text/plain": [
       "array([[28.96606445, 30.84375   , 33.26342773, ..., 43.34594727,\n",
       "        42.50756836, 41.140625  ],\n",
       "       [29.5       , 31.80541992, 32.45556641, ..., 41.16113281,\n",
       "        41.72021484, 40.53125   ],\n",
       "       [31.28125   , 33.421875  , 32.61572266, ..., 38.99536133,\n",
       "        38.9753418 , 38.12280273],\n",
       "       ...,\n",
       "       [37.15625   , 38.4375    , 40.36694336, ..., 39.41259766,\n",
       "        36.85522461, 36.03125   ],\n",
       "       [41.58618164, 43.78979492, 46.73193359, ..., 40.44165039,\n",
       "        39.984375  , 38.703125  ],\n",
       "       [42.28125   , 44.92944336, 47.46655273, ..., 40.8840332 ,\n",
       "        40.49194336, 40.23168945]])"
      ]
     },
     "execution_count": 31,
     "metadata": {},
     "output_type": "execute_result"
    }
   ],
   "source": [
    "transform.resize(gray, (32, 32), preserve_range=True)"
   ]
  },
  {
   "cell_type": "code",
   "execution_count": 24,
   "metadata": {},
   "outputs": [],
   "source": [
    "def color2gray(images):\n",
    "    im_ar=[]\n",
    "    for im in images:\n",
    "        image = cv2.imread(im)\n",
    "        gray = cv2.cvtColor(image, cv2.COLOR_BGR2GRAY)\n",
    "\n",
    "        im = transform.resize(gray, (32, 32))\n",
    "        im_ar.append(im)\n",
    "    return np.asarray(im_ar)"
   ]
  },
  {
   "cell_type": "code",
   "execution_count": 18,
   "metadata": {},
   "outputs": [],
   "source": [
    "X_gray_train = color2gray(train_image)\n",
    "# np.save('data_gray.npy', X_gray_train)"
   ]
  },
  {
   "cell_type": "code",
   "execution_count": 19,
   "metadata": {},
   "outputs": [],
   "source": [
    "X_gray_test = color2gray(test_image)\n",
    "# np.save('data_gray.npy', X_gray_train)"
   ]
  },
  {
   "cell_type": "code",
   "execution_count": 20,
   "metadata": {},
   "outputs": [
    {
     "name": "stdout",
     "output_type": "stream",
     "text": [
      "(39209, 32, 32) (12630, 32, 32)\n",
      "(39209,) (12630,)\n"
     ]
    }
   ],
   "source": [
    "print(X_gray_train.shape, X_gray_test.shape)\n",
    "print(y_train.shape, y_test.shape)"
   ]
  },
  {
   "cell_type": "code",
   "execution_count": 1,
   "metadata": {},
   "outputs": [
    {
     "ename": "NameError",
     "evalue": "name 'X_gray_train' is not defined",
     "output_type": "error",
     "traceback": [
      "\u001b[0;31m--------------------------------\u001b[0m",
      "\u001b[0;31mNameError\u001b[0mTraceback (most recent call last)",
      "\u001b[0;32m<ipython-input-1-e0cc1f9e16aa>\u001b[0m in \u001b[0;36m<module>\u001b[0;34m\u001b[0m\n\u001b[0;32m----> 1\u001b[0;31m \u001b[0mX_gray_train\u001b[0m\u001b[0;34m[\u001b[0m\u001b[0;36m0\u001b[0m\u001b[0;34m]\u001b[0m\u001b[0;34m\u001b[0m\u001b[0;34m\u001b[0m\u001b[0m\n\u001b[0m",
      "\u001b[0;31mNameError\u001b[0m: name 'X_gray_train' is not defined"
     ]
    }
   ],
   "source": [
    "X_gray_train[0]"
   ]
  },
  {
   "cell_type": "code",
   "execution_count": 103,
   "metadata": {},
   "outputs": [],
   "source": []
  },
  {
   "cell_type": "markdown",
   "metadata": {},
   "source": [
    "# Remove noise"
   ]
  },
  {
   "cell_type": "code",
   "execution_count": 54,
   "metadata": {},
   "outputs": [],
   "source": [
    "def blur(image):\n",
    "    ims=[]\n",
    "\n",
    "    for im in image:\n",
    "        \n",
    "        blur = cv2.GaussianBlur(cv2.imread(im), (5, 5), 0)\n",
    "        \n",
    "        blur = transform.resize(blur, (32, 32), preserve_range=True)\n",
    "\n",
    "        ims.append(blur)\n",
    "    return ims\n",
    "# orgianl = cv2.GaussianBlur(origianl_image, (5, 5), 0)\n",
    "# display(image, blur, 'Original', 'Blured')"
   ]
  },
  {
   "cell_type": "code",
   "execution_count": 55,
   "metadata": {},
   "outputs": [],
   "source": [
    "blured_train = blur(train_image)"
   ]
  },
  {
   "cell_type": "code",
   "execution_count": 57,
   "metadata": {},
   "outputs": [],
   "source": [
    "blured_train=np.asarray(blured_train)"
   ]
  },
  {
   "cell_type": "code",
   "execution_count": 56,
   "metadata": {},
   "outputs": [],
   "source": [
    "blured_test=blur(test_image)"
   ]
  },
  {
   "cell_type": "code",
   "execution_count": 58,
   "metadata": {},
   "outputs": [],
   "source": [
    "blured_test = np.asarray(blured_test)"
   ]
  },
  {
   "cell_type": "code",
   "execution_count": 59,
   "metadata": {},
   "outputs": [
    {
     "data": {
      "text/plain": [
       "(39209, 32, 32, 3)"
      ]
     },
     "execution_count": 59,
     "metadata": {},
     "output_type": "execute_result"
    }
   ],
   "source": [
    "blured_train.shape"
   ]
  },
  {
   "cell_type": "code",
   "execution_count": 60,
   "metadata": {},
   "outputs": [
    {
     "data": {
      "text/plain": [
       "(12630, 32, 32, 3)"
      ]
     },
     "execution_count": 60,
     "metadata": {},
     "output_type": "execute_result"
    }
   ],
   "source": [
    "blured_test.shape"
   ]
  },
  {
   "cell_type": "markdown",
   "metadata": {},
   "source": [
    "# Color Segmentation"
   ]
  },
  {
   "cell_type": "code",
   "execution_count": null,
   "metadata": {},
   "outputs": [],
   "source": []
  },
  {
   "cell_type": "code",
   "execution_count": null,
   "metadata": {},
   "outputs": [],
   "source": []
  },
  {
   "cell_type": "markdown",
   "metadata": {},
   "source": [
    "# Tensorflow"
   ]
  },
  {
   "cell_type": "code",
   "execution_count": 112,
   "metadata": {},
   "outputs": [],
   "source": [
    "X_gray_train1 = X_gray_train[:, :, :, np.newaxis]\n",
    "X_gray_test1 = X_gray_test[:, :, :, np.newaxis]"
   ]
  },
  {
   "cell_type": "code",
   "execution_count": 61,
   "metadata": {},
   "outputs": [],
   "source": [
    "model = models.Sequential()\n",
    "# model.add(layers.Conv2D(8, (3, 3), activation='relu', input_shape=(32, 32, 1)))\n",
    "model.add(layers.Conv2D(8, (3, 3), activation='relu', input_shape=(32, 32, 3)))\n",
    "model.add(layers.MaxPooling2D((2, 2)))\n",
    "model.add(layers.Conv2D(16, (3, 3), activation='relu'))\n",
    "model.add(layers.MaxPooling2D((2, 2)))\n",
    "model.add(layers.Conv2D(16, (3, 3), activation='relu'))"
   ]
  },
  {
   "cell_type": "code",
   "execution_count": 62,
   "metadata": {},
   "outputs": [],
   "source": [
    "model.add(layers.Flatten())\n",
    "model.add(layers.Dense(64, activation='relu'))\n",
    "model.add(layers.Dense(43))"
   ]
  },
  {
   "cell_type": "code",
   "execution_count": 63,
   "metadata": {},
   "outputs": [
    {
     "name": "stdout",
     "output_type": "stream",
     "text": [
      "Model: \"sequential_2\"\n",
      "_________________________________________________________________\n",
      "Layer (type)                 Output Shape              Param #   \n",
      "=================================================================\n",
      "conv2d_6 (Conv2D)            (None, 30, 30, 8)         224       \n",
      "_________________________________________________________________\n",
      "max_pooling2d_4 (MaxPooling2 (None, 15, 15, 8)         0         \n",
      "_________________________________________________________________\n",
      "conv2d_7 (Conv2D)            (None, 13, 13, 16)        1168      \n",
      "_________________________________________________________________\n",
      "max_pooling2d_5 (MaxPooling2 (None, 6, 6, 16)          0         \n",
      "_________________________________________________________________\n",
      "conv2d_8 (Conv2D)            (None, 4, 4, 16)          2320      \n",
      "_________________________________________________________________\n",
      "flatten_2 (Flatten)          (None, 256)               0         \n",
      "_________________________________________________________________\n",
      "dense_4 (Dense)              (None, 64)                16448     \n",
      "_________________________________________________________________\n",
      "dense_5 (Dense)              (None, 43)                2795      \n",
      "=================================================================\n",
      "Total params: 22,955\n",
      "Trainable params: 22,955\n",
      "Non-trainable params: 0\n",
      "_________________________________________________________________\n"
     ]
    }
   ],
   "source": [
    "model.summary()"
   ]
  },
  {
   "cell_type": "code",
   "execution_count": 64,
   "metadata": {},
   "outputs": [
    {
     "name": "stdout",
     "output_type": "stream",
     "text": [
      "Epoch 1/10\n",
      "1226/1226 [==============================] - 26s 21ms/step - loss: 1.2713 - accuracy: 0.6827 - val_loss: 0.8550 - val_accuracy: 0.8020\n",
      "Epoch 2/10\n",
      "1226/1226 [==============================] - 28s 23ms/step - loss: 0.3643 - accuracy: 0.9044 - val_loss: 0.7741 - val_accuracy: 0.8434\n",
      "Epoch 3/10\n",
      "1226/1226 [==============================] - 28s 22ms/step - loss: 0.2372 - accuracy: 0.9369 - val_loss: 0.7427 - val_accuracy: 0.8709\n",
      "Epoch 4/10\n",
      "1226/1226 [==============================] - 28s 23ms/step - loss: 0.1771 - accuracy: 0.9531 - val_loss: 0.7456 - val_accuracy: 0.8854\n",
      "Epoch 5/10\n",
      "1226/1226 [==============================] - 26s 21ms/step - loss: 0.1472 - accuracy: 0.9604 - val_loss: 0.8176 - val_accuracy: 0.8789\n",
      "Epoch 6/10\n",
      "1226/1226 [==============================] - 27s 22ms/step - loss: 0.1288 - accuracy: 0.9647 - val_loss: 0.7805 - val_accuracy: 0.8833\n",
      "Epoch 7/10\n",
      "1226/1226 [==============================] - 26s 21ms/step - loss: 0.1187 - accuracy: 0.9667 - val_loss: 0.6560 - val_accuracy: 0.8918\n",
      "Epoch 8/10\n",
      "1226/1226 [==============================] - 26s 21ms/step - loss: 0.1007 - accuracy: 0.9715 - val_loss: 0.7612 - val_accuracy: 0.8844\n",
      "Epoch 9/10\n",
      "1226/1226 [==============================] - 26s 21ms/step - loss: 0.0975 - accuracy: 0.9723 - val_loss: 0.9507 - val_accuracy: 0.8775\n",
      "Epoch 10/10\n",
      "1226/1226 [==============================] - 29s 24ms/step - loss: 0.0903 - accuracy: 0.9757 - val_loss: 0.8252 - val_accuracy: 0.8902\n"
     ]
    }
   ],
   "source": [
    "model.compile(optimizer='adam',\n",
    "              loss=tf.keras.losses.SparseCategoricalCrossentropy(from_logits=True),\n",
    "              metrics=['accuracy'])\n",
    "\n",
    "# history = model.fit(X_gray_train1, y_train, epochs=10,validation_data=(X_gray_test1, y_test))\n",
    "history = model.fit(blured_train, y_train, epochs=10,validation_data=(blured_test, y_test))\n"
   ]
  },
  {
   "cell_type": "code",
   "execution_count": 67,
   "metadata": {
    "scrolled": true
   },
   "outputs": [
    {
     "name": "stdout",
     "output_type": "stream",
     "text": [
      "395/395 - 2s - loss: 0.8252 - accuracy: 0.8902\n"
     ]
    },
    {
     "data": {
      "image/png": "[encoded data removed]",
      "text/plain": [
       "<Figure size 432x288 with 1 Axes>"
      ]
     },
     "metadata": {
      "needs_background": "light"
     },
     "output_type": "display_data"
    }
   ],
   "source": [
    "plt.plot(history.history['accuracy'], label='accuracy')\n",
    "plt.plot(history.history['val_accuracy'], label = 'val_accuracy')\n",
    "plt.xlabel('Epoch')\n",
    "plt.ylabel('Accuracy')\n",
    "plt.ylim([0.5, 1])\n",
    "plt.legend(loc='lower right')\n",
    "\n",
    "test_loss, test_acc = model.evaluate(blured_test,  y_test, verbose=2)"
   ]
  },
  {
   "cell_type": "code",
   "execution_count": null,
   "metadata": {},
   "outputs": [],
   "source": []
  },
  {
   "cell_type": "code",
   "execution_count": null,
   "metadata": {},
   "outputs": [],
   "source": []
  }
 ],
 "metadata": {
  "kernelspec": {
   "display_name": "Python 3",
   "language": "python",
   "name": "python3"
  },
  "language_info": {
   "codemirror_mode": {
    "name": "ipython",
    "version": 3
   },
   "file_extension": ".py",
   "mimetype": "text/x-python",
   "name": "python",
   "nbconvert_exporter": "python",
   "pygments_lexer": "ipython3",
   "version": "3.8.3"
  }
 },
 "nbformat": 4,
 "nbformat_minor": 4
}
