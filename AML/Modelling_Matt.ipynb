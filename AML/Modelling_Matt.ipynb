{
 "cells": [
  {
   "cell_type": "markdown",
   "metadata": {},
   "source": [
    "# Machine Learning Notebook - Matt"
   ]
  },
  {
   "cell_type": "code",
   "execution_count": 35,
   "metadata": {},
   "outputs": [],
   "source": [
    "import HelperFunctions as hf\n",
    "import numpy as np\n",
    "import pandas as pd\n",
    "from sklearn.preprocessing import StandardScaler\n",
    "from sklearn.model_selection import train_test_split\n",
    "import statsmodels.api as sm"
   ]
  },
  {
   "cell_type": "markdown",
   "metadata": {},
   "source": [
    "## Load Data"
   ]
  },
  {
   "cell_type": "code",
   "execution_count": 2,
   "metadata": {},
   "outputs": [],
   "source": [
    "#Load in the raw data\n",
    "calendar_df = hf.load_calendar_data()\n",
    "prices_df = hf.load_sell_price_data()\n",
    "sales_df = hf.load_sales_train_validation_data()"
   ]
  },
  {
   "cell_type": "markdown",
   "metadata": {},
   "source": [
    "## Clean Data"
   ]
  },
  {
   "cell_type": "code",
   "execution_count": 3,
   "metadata": {},
   "outputs": [],
   "source": [
    "#Clean the raw data\n",
    "df = hf.rawToClean(sales_df, calendar_df, prices_df, days=600, items=100, dropNAPrices=True)"
   ]
  },
  {
   "cell_type": "markdown",
   "metadata": {},
   "source": [
    "## Feature Engineering"
   ]
  },
  {
   "cell_type": "code",
   "execution_count": 4,
   "metadata": {},
   "outputs": [],
   "source": [
    "df = hf.rollingMeanDemandFeature(df, windowSize=7, shift=1) #Mean of previous week\n",
    "df = hf.rollingMeanDemandFeature(df, windowSize=28, shift=1) #Mean of previous 28 days"
   ]
  },
  {
   "cell_type": "code",
   "execution_count": 5,
   "metadata": {},
   "outputs": [],
   "source": [
    "df = hf.lagFeature(df, var='sold', lag=1) #Amount sold day before\n",
    "df = hf.lagFeature(df, var='sold', lag=7) #Amount sold a week before\n",
    "df = hf.lagFeature(df, var='sold', lag=28) #Amount sold 28 days before"
   ]
  },
  {
   "cell_type": "code",
   "execution_count": 6,
   "metadata": {},
   "outputs": [],
   "source": [
    "df.dropna(inplace=True) #Drop rows with NAs (as result of lagged features)"
   ]
  },
  {
   "cell_type": "code",
   "execution_count": 7,
   "metadata": {},
   "outputs": [],
   "source": [
    "df.drop(['id'], axis=1, inplace=True) #Drop the id column"
   ]
  },
  {
   "cell_type": "code",
   "execution_count": 8,
   "metadata": {},
   "outputs": [
    {
     "data": {
      "text/plain": [
       "d                    0\n",
       "sold                 0\n",
       "wday                 0\n",
       "month                0\n",
       "year                 0\n",
       "snap_CA              0\n",
       "snap_TX              0\n",
       "snap_WI              0\n",
       "sell_price           0\n",
       "sporting             0\n",
       "cultural             0\n",
       "national             0\n",
       "religious            0\n",
       "christmas            0\n",
       "weekend              0\n",
       "midweek              0\n",
       "monfri               0\n",
       "FOODS_1              0\n",
       "FOODS_2              0\n",
       "FOODS_3              0\n",
       "HOBBIES_1            0\n",
       "HOBBIES_2            0\n",
       "HOUSEHOLD_1          0\n",
       "HOUSEHOLD_2          0\n",
       "FOODS                0\n",
       "HOBBIES              0\n",
       "HOUSEHOLD            0\n",
       "CA_1                 0\n",
       "CA_2                 0\n",
       "CA_3                 0\n",
       "CA_4                 0\n",
       "TX_1                 0\n",
       "TX_2                 0\n",
       "TX_3                 0\n",
       "WI_1                 0\n",
       "WI_2                 0\n",
       "WI_3                 0\n",
       "CA                   0\n",
       "TX                   0\n",
       "WI                   0\n",
       "rolling_mean_7_1     0\n",
       "rolling_mean_28_1    0\n",
       "sold_lag_1           0\n",
       "sold_lag_7           0\n",
       "sold_lag_28          0\n",
       "dtype: int64"
      ]
     },
     "execution_count": 8,
     "metadata": {},
     "output_type": "execute_result"
    }
   ],
   "source": [
    "df.isnull().sum()"
   ]
  },
  {
   "cell_type": "code",
   "execution_count": 10,
   "metadata": {
    "scrolled": false
   },
   "outputs": [
    {
     "data": {
      "text/html": [
       "<div>\n",
       "<style scoped>\n",
       "    .dataframe tbody tr th:only-of-type {\n",
       "        vertical-align: middle;\n",
       "    }\n",
       "\n",
       "    .dataframe tbody tr th {\n",
       "        vertical-align: top;\n",
       "    }\n",
       "\n",
       "    .dataframe thead th {\n",
       "        text-align: right;\n",
       "    }\n",
       "</style>\n",
       "<table border=\"1\" class=\"dataframe\">\n",
       "  <thead>\n",
       "    <tr style=\"text-align: right;\">\n",
       "      <th></th>\n",
       "      <th>d</th>\n",
       "      <th>sold</th>\n",
       "      <th>wday</th>\n",
       "      <th>month</th>\n",
       "      <th>year</th>\n",
       "      <th>snap_CA</th>\n",
       "      <th>snap_TX</th>\n",
       "      <th>snap_WI</th>\n",
       "      <th>sell_price</th>\n",
       "      <th>sporting</th>\n",
       "      <th>...</th>\n",
       "      <th>WI_2</th>\n",
       "      <th>WI_3</th>\n",
       "      <th>CA</th>\n",
       "      <th>TX</th>\n",
       "      <th>WI</th>\n",
       "      <th>rolling_mean_7_1</th>\n",
       "      <th>rolling_mean_28_1</th>\n",
       "      <th>sold_lag_1</th>\n",
       "      <th>sold_lag_7</th>\n",
       "      <th>sold_lag_28</th>\n",
       "    </tr>\n",
       "  </thead>\n",
       "  <tbody>\n",
       "    <tr>\n",
       "      <td>2800</td>\n",
       "      <td>29</td>\n",
       "      <td>2</td>\n",
       "      <td>1</td>\n",
       "      <td>2</td>\n",
       "      <td>2011</td>\n",
       "      <td>0</td>\n",
       "      <td>0</td>\n",
       "      <td>0</td>\n",
       "      <td>5.47</td>\n",
       "      <td>0</td>\n",
       "      <td>...</td>\n",
       "      <td>0</td>\n",
       "      <td>0</td>\n",
       "      <td>1</td>\n",
       "      <td>0</td>\n",
       "      <td>0</td>\n",
       "      <td>1.714286</td>\n",
       "      <td>1.642857</td>\n",
       "      <td>0.0</td>\n",
       "      <td>3.0</td>\n",
       "      <td>3.0</td>\n",
       "    </tr>\n",
       "    <tr>\n",
       "      <td>2801</td>\n",
       "      <td>29</td>\n",
       "      <td>2</td>\n",
       "      <td>1</td>\n",
       "      <td>2</td>\n",
       "      <td>2011</td>\n",
       "      <td>0</td>\n",
       "      <td>0</td>\n",
       "      <td>0</td>\n",
       "      <td>5.48</td>\n",
       "      <td>0</td>\n",
       "      <td>...</td>\n",
       "      <td>0</td>\n",
       "      <td>0</td>\n",
       "      <td>1</td>\n",
       "      <td>0</td>\n",
       "      <td>0</td>\n",
       "      <td>1.000000</td>\n",
       "      <td>0.750000</td>\n",
       "      <td>0.0</td>\n",
       "      <td>2.0</td>\n",
       "      <td>1.0</td>\n",
       "    </tr>\n",
       "    <tr>\n",
       "      <td>2808</td>\n",
       "      <td>29</td>\n",
       "      <td>0</td>\n",
       "      <td>1</td>\n",
       "      <td>2</td>\n",
       "      <td>2011</td>\n",
       "      <td>0</td>\n",
       "      <td>0</td>\n",
       "      <td>0</td>\n",
       "      <td>1.00</td>\n",
       "      <td>0</td>\n",
       "      <td>...</td>\n",
       "      <td>0</td>\n",
       "      <td>0</td>\n",
       "      <td>1</td>\n",
       "      <td>0</td>\n",
       "      <td>0</td>\n",
       "      <td>0.000000</td>\n",
       "      <td>140.357143</td>\n",
       "      <td>0.0</td>\n",
       "      <td>0.0</td>\n",
       "      <td>360.0</td>\n",
       "    </tr>\n",
       "    <tr>\n",
       "      <td>2812</td>\n",
       "      <td>29</td>\n",
       "      <td>0</td>\n",
       "      <td>1</td>\n",
       "      <td>2</td>\n",
       "      <td>2011</td>\n",
       "      <td>0</td>\n",
       "      <td>0</td>\n",
       "      <td>0</td>\n",
       "      <td>3.98</td>\n",
       "      <td>0</td>\n",
       "      <td>...</td>\n",
       "      <td>0</td>\n",
       "      <td>0</td>\n",
       "      <td>0</td>\n",
       "      <td>1</td>\n",
       "      <td>0</td>\n",
       "      <td>1.000000</td>\n",
       "      <td>0.928571</td>\n",
       "      <td>0.0</td>\n",
       "      <td>4.0</td>\n",
       "      <td>3.0</td>\n",
       "    </tr>\n",
       "    <tr>\n",
       "      <td>2813</td>\n",
       "      <td>29</td>\n",
       "      <td>16</td>\n",
       "      <td>1</td>\n",
       "      <td>2</td>\n",
       "      <td>2011</td>\n",
       "      <td>0</td>\n",
       "      <td>0</td>\n",
       "      <td>0</td>\n",
       "      <td>1.56</td>\n",
       "      <td>0</td>\n",
       "      <td>...</td>\n",
       "      <td>0</td>\n",
       "      <td>0</td>\n",
       "      <td>0</td>\n",
       "      <td>0</td>\n",
       "      <td>1</td>\n",
       "      <td>1.857143</td>\n",
       "      <td>3.285714</td>\n",
       "      <td>0.0</td>\n",
       "      <td>5.0</td>\n",
       "      <td>17.0</td>\n",
       "    </tr>\n",
       "    <tr>\n",
       "      <td>2815</td>\n",
       "      <td>29</td>\n",
       "      <td>0</td>\n",
       "      <td>1</td>\n",
       "      <td>2</td>\n",
       "      <td>2011</td>\n",
       "      <td>0</td>\n",
       "      <td>0</td>\n",
       "      <td>0</td>\n",
       "      <td>4.98</td>\n",
       "      <td>0</td>\n",
       "      <td>...</td>\n",
       "      <td>0</td>\n",
       "      <td>0</td>\n",
       "      <td>1</td>\n",
       "      <td>0</td>\n",
       "      <td>0</td>\n",
       "      <td>0.000000</td>\n",
       "      <td>0.892857</td>\n",
       "      <td>0.0</td>\n",
       "      <td>0.0</td>\n",
       "      <td>3.0</td>\n",
       "    </tr>\n",
       "    <tr>\n",
       "      <td>2816</td>\n",
       "      <td>29</td>\n",
       "      <td>3</td>\n",
       "      <td>1</td>\n",
       "      <td>2</td>\n",
       "      <td>2011</td>\n",
       "      <td>0</td>\n",
       "      <td>0</td>\n",
       "      <td>0</td>\n",
       "      <td>1.78</td>\n",
       "      <td>0</td>\n",
       "      <td>...</td>\n",
       "      <td>0</td>\n",
       "      <td>0</td>\n",
       "      <td>1</td>\n",
       "      <td>0</td>\n",
       "      <td>0</td>\n",
       "      <td>1.000000</td>\n",
       "      <td>1.535714</td>\n",
       "      <td>3.0</td>\n",
       "      <td>1.0</td>\n",
       "      <td>1.0</td>\n",
       "    </tr>\n",
       "    <tr>\n",
       "      <td>2817</td>\n",
       "      <td>29</td>\n",
       "      <td>4</td>\n",
       "      <td>1</td>\n",
       "      <td>2</td>\n",
       "      <td>2011</td>\n",
       "      <td>0</td>\n",
       "      <td>0</td>\n",
       "      <td>0</td>\n",
       "      <td>1.48</td>\n",
       "      <td>0</td>\n",
       "      <td>...</td>\n",
       "      <td>0</td>\n",
       "      <td>1</td>\n",
       "      <td>0</td>\n",
       "      <td>0</td>\n",
       "      <td>1</td>\n",
       "      <td>3.857143</td>\n",
       "      <td>3.321429</td>\n",
       "      <td>6.0</td>\n",
       "      <td>5.0</td>\n",
       "      <td>3.0</td>\n",
       "    </tr>\n",
       "    <tr>\n",
       "      <td>2818</td>\n",
       "      <td>29</td>\n",
       "      <td>12</td>\n",
       "      <td>1</td>\n",
       "      <td>2</td>\n",
       "      <td>2011</td>\n",
       "      <td>0</td>\n",
       "      <td>0</td>\n",
       "      <td>0</td>\n",
       "      <td>0.88</td>\n",
       "      <td>0</td>\n",
       "      <td>...</td>\n",
       "      <td>0</td>\n",
       "      <td>0</td>\n",
       "      <td>0</td>\n",
       "      <td>1</td>\n",
       "      <td>0</td>\n",
       "      <td>5.571429</td>\n",
       "      <td>5.285714</td>\n",
       "      <td>6.0</td>\n",
       "      <td>8.0</td>\n",
       "      <td>4.0</td>\n",
       "    </tr>\n",
       "    <tr>\n",
       "      <td>2820</td>\n",
       "      <td>29</td>\n",
       "      <td>0</td>\n",
       "      <td>1</td>\n",
       "      <td>2</td>\n",
       "      <td>2011</td>\n",
       "      <td>0</td>\n",
       "      <td>0</td>\n",
       "      <td>0</td>\n",
       "      <td>3.68</td>\n",
       "      <td>0</td>\n",
       "      <td>...</td>\n",
       "      <td>0</td>\n",
       "      <td>0</td>\n",
       "      <td>1</td>\n",
       "      <td>0</td>\n",
       "      <td>0</td>\n",
       "      <td>1.000000</td>\n",
       "      <td>0.607143</td>\n",
       "      <td>1.0</td>\n",
       "      <td>0.0</td>\n",
       "      <td>1.0</td>\n",
       "    </tr>\n",
       "  </tbody>\n",
       "</table>\n",
       "<p>10 rows × 45 columns</p>\n",
       "</div>"
      ],
      "text/plain": [
       "       d  sold  wday  month  year  snap_CA  snap_TX  snap_WI  sell_price  \\\n",
       "2800  29     2     1      2  2011        0        0        0        5.47   \n",
       "2801  29     2     1      2  2011        0        0        0        5.48   \n",
       "2808  29     0     1      2  2011        0        0        0        1.00   \n",
       "2812  29     0     1      2  2011        0        0        0        3.98   \n",
       "2813  29    16     1      2  2011        0        0        0        1.56   \n",
       "2815  29     0     1      2  2011        0        0        0        4.98   \n",
       "2816  29     3     1      2  2011        0        0        0        1.78   \n",
       "2817  29     4     1      2  2011        0        0        0        1.48   \n",
       "2818  29    12     1      2  2011        0        0        0        0.88   \n",
       "2820  29     0     1      2  2011        0        0        0        3.68   \n",
       "\n",
       "      sporting  ...  WI_2  WI_3  CA  TX  WI  rolling_mean_7_1  \\\n",
       "2800         0  ...     0     0   1   0   0          1.714286   \n",
       "2801         0  ...     0     0   1   0   0          1.000000   \n",
       "2808         0  ...     0     0   1   0   0          0.000000   \n",
       "2812         0  ...     0     0   0   1   0          1.000000   \n",
       "2813         0  ...     0     0   0   0   1          1.857143   \n",
       "2815         0  ...     0     0   1   0   0          0.000000   \n",
       "2816         0  ...     0     0   1   0   0          1.000000   \n",
       "2817         0  ...     0     1   0   0   1          3.857143   \n",
       "2818         0  ...     0     0   0   1   0          5.571429   \n",
       "2820         0  ...     0     0   1   0   0          1.000000   \n",
       "\n",
       "      rolling_mean_28_1  sold_lag_1  sold_lag_7  sold_lag_28  \n",
       "2800           1.642857         0.0         3.0          3.0  \n",
       "2801           0.750000         0.0         2.0          1.0  \n",
       "2808         140.357143         0.0         0.0        360.0  \n",
       "2812           0.928571         0.0         4.0          3.0  \n",
       "2813           3.285714         0.0         5.0         17.0  \n",
       "2815           0.892857         0.0         0.0          3.0  \n",
       "2816           1.535714         3.0         1.0          1.0  \n",
       "2817           3.321429         6.0         5.0          3.0  \n",
       "2818           5.285714         6.0         8.0          4.0  \n",
       "2820           0.607143         1.0         0.0          1.0  \n",
       "\n",
       "[10 rows x 45 columns]"
      ]
     },
     "execution_count": 10,
     "metadata": {},
     "output_type": "execute_result"
    }
   ],
   "source": [
    "df.head(10)"
   ]
  },
  {
   "cell_type": "code",
   "execution_count": 11,
   "metadata": {},
   "outputs": [
    {
     "data": {
      "text/plain": [
       "(30124, 45)"
      ]
     },
     "execution_count": 11,
     "metadata": {},
     "output_type": "execute_result"
    }
   ],
   "source": [
    "df.shape"
   ]
  },
  {
   "cell_type": "code",
   "execution_count": 17,
   "metadata": {},
   "outputs": [
    {
     "data": {
      "text/plain": [
       "2800     1\n",
       "2801     1\n",
       "2808     1\n",
       "2812     1\n",
       "2813     1\n",
       "        ..\n",
       "59994    5\n",
       "59995    5\n",
       "59996    5\n",
       "59997    5\n",
       "59999    5\n",
       "Name: wday, Length: 30124, dtype: int64"
      ]
     },
     "execution_count": 17,
     "metadata": {},
     "output_type": "execute_result"
    }
   ],
   "source": [
    "df.wday"
   ]
  },
  {
   "cell_type": "markdown",
   "metadata": {},
   "source": [
    "# Machine Learning"
   ]
  },
  {
   "cell_type": "markdown",
   "metadata": {},
   "source": [
    "## Train/Test Split\n",
    "We also isolate the target variables from the features"
   ]
  },
  {
   "cell_type": "code",
   "execution_count": 18,
   "metadata": {},
   "outputs": [],
   "source": [
    "#Standardise features\n",
    "cols_to_norm = ['d','wday','month','year','sell_price','rolling_mean_7_1','rolling_mean_28_1','sold_lag_1',\n",
    "                'sold_lag_7','sold_lag_28']\n",
    "\n",
    "df[cols_to_norm] = StandardScaler().fit_transform(df[cols_to_norm])"
   ]
  },
  {
   "cell_type": "code",
   "execution_count": 42,
   "metadata": {},
   "outputs": [],
   "source": [
    "#Isolate features and target variable\n",
    "y = df.sold.values\n",
    "X_df = df.drop(['sold'], axis=1)\n",
    "X = X_df.values"
   ]
  },
  {
   "cell_type": "code",
   "execution_count": 32,
   "metadata": {},
   "outputs": [],
   "source": [
    "#Train/test split\n",
    "X_train, X_test, y_train, y_test = train_test_split(X, y, test_size=0.20, random_state=42)"
   ]
  },
  {
   "cell_type": "code",
   "execution_count": 34,
   "metadata": {},
   "outputs": [
    {
     "name": "stdout",
     "output_type": "stream",
     "text": [
      "(24099, 44)\n",
      "(24099,)\n",
      "(6025, 44)\n",
      "(6025,)\n"
     ]
    }
   ],
   "source": [
    "print(X_train.shape)\n",
    "print(y_train.shape)\n",
    "print(X_test.shape)\n",
    "print(y_test.shape)"
   ]
  },
  {
   "cell_type": "markdown",
   "metadata": {},
   "source": [
    "## Linear Regression\n",
    "The results of fitting a linear regression model on the data and analysing the feature's p-values raises some interesting findings. \n",
    "* Amongst date features, d, month and year are all insignificant features. \n",
    "* Amongst the event related features only sporting, religious and xmas are significant. As expected, Xmas is the most influential feature of them all.  Interestingly, this model suggests than there is a significant decrease in sales on a sporting event day, but an increase in sales on a religious event day.\n",
    "* The LR also confirms our findings in analysis that weekend/monfri/midweek are all significant features for predicting sales volume. \n",
    "* Interestingly, among the product categories, HOBBIES_2 is the only insignificant predictor. \n",
    "* CA_4 is the only store that is an insignificant predictor.\n",
    "* The mean of sold items in the week leading up is the second most influential feature.\n",
    "* snap_CA is insignificant unlike the other snap features - are less Californians drawn in to offers perhaps?\n",
    "* More expensive items sell in lower quantities"
   ]
  },
  {
   "cell_type": "code",
   "execution_count": 44,
   "metadata": {},
   "outputs": [
    {
     "name": "stdout",
     "output_type": "stream",
     "text": [
      "                            OLS Regression Results                            \n",
      "==============================================================================\n",
      "Dep. Variable:                   sold   R-squared:                       0.768\n",
      "Model:                            OLS   Adj. R-squared:                  0.768\n",
      "Method:                 Least Squares   F-statistic:                     2843.\n",
      "Date:                Wed, 24 Feb 2021   Prob (F-statistic):               0.00\n",
      "Time:                        15:32:11   Log-Likelihood:                -73610.\n",
      "No. Observations:               30124   AIC:                         1.473e+05\n",
      "Df Residuals:                   30088   BIC:                         1.476e+05\n",
      "Df Model:                          35                                         \n",
      "Covariance Type:            nonrobust                                         \n",
      "=====================================================================================\n",
      "                        coef    std err          t      P>|t|      [0.025      0.975]\n",
      "-------------------------------------------------------------------------------------\n",
      "d                    -0.8247      0.627     -1.316      0.188      -2.053       0.403\n",
      "wday                  0.0911      0.026      3.441      0.001       0.039       0.143\n",
      "month                 0.4847      0.344      1.411      0.158      -0.189       1.158\n",
      "year                  0.9312      0.694      1.342      0.180      -0.429       2.291\n",
      "snap_CA              -0.0188      0.060     -0.315      0.753      -0.135       0.098\n",
      "snap_TX               0.1124      0.045      2.477      0.013       0.023       0.201\n",
      "snap_WI               0.0786      0.044      1.781      0.075      -0.008       0.165\n",
      "sell_price           -0.0619      0.024     -2.583      0.010      -0.109      -0.015\n",
      "sporting             -0.4192      0.172     -2.443      0.015      -0.756      -0.083\n",
      "cultural             -0.1741      0.115     -1.519      0.129      -0.399       0.050\n",
      "national              0.0442      0.115      0.386      0.699      -0.180       0.269\n",
      "religious             0.2821      0.097      2.917      0.004       0.093       0.472\n",
      "christmas            -2.9995      0.413     -7.255      0.000      -3.810      -2.189\n",
      "weekend               0.8709      0.043     20.410      0.000       0.787       0.955\n",
      "midweek               0.2649      0.029      8.992      0.000       0.207       0.323\n",
      "monfri                0.3808      0.032     11.750      0.000       0.317       0.444\n",
      "FOODS_1               0.1515      0.037      4.079      0.000       0.079       0.224\n",
      "FOODS_2               0.2421      0.041      5.938      0.000       0.162       0.322\n",
      "FOODS_3               0.2124      0.030      7.127      0.000       0.154       0.271\n",
      "HOBBIES_1             0.2979      0.106      2.801      0.005       0.089       0.506\n",
      "HOBBIES_2             0.1381      0.173      0.800      0.424      -0.200       0.477\n",
      "HOUSEHOLD_1           0.2453      0.044      5.569      0.000       0.159       0.332\n",
      "HOUSEHOLD_2           0.2293      0.038      6.080      0.000       0.155       0.303\n",
      "FOODS                 0.6060      0.028     21.383      0.000       0.550       0.662\n",
      "HOBBIES               0.4361      0.073      5.985      0.000       0.293       0.579\n",
      "HOUSEHOLD             0.4746      0.030     15.806      0.000       0.416       0.533\n",
      "CA_1                  0.0949      0.048      1.993      0.046       0.002       0.188\n",
      "CA_2                  0.1153      0.045      2.543      0.011       0.026       0.204\n",
      "CA_3                  0.3051      0.040      7.697      0.000       0.227       0.383\n",
      "CA_4                  0.0278      0.050      0.557      0.578      -0.070       0.126\n",
      "TX_1                  0.1188      0.046      2.601      0.009       0.029       0.208\n",
      "TX_2                  0.0997      0.046      2.189      0.029       0.010       0.189\n",
      "TX_3                  0.2700      0.065      4.128      0.000       0.142       0.398\n",
      "WI_1                  0.1678      0.055      3.062      0.002       0.060       0.275\n",
      "WI_2                  0.1943      0.054      3.588      0.000       0.088       0.300\n",
      "WI_3                  0.1230      0.056      2.209      0.027       0.014       0.232\n",
      "CA                    0.5431      0.024     23.035      0.000       0.497       0.589\n",
      "TX                    0.4885      0.025     19.332      0.000       0.439       0.538\n",
      "WI                    0.4851      0.026     18.719      0.000       0.434       0.536\n",
      "rolling_mean_7_1      2.5581      0.069     37.177      0.000       2.423       2.693\n",
      "rolling_mean_28_1     0.8699      0.060     14.427      0.000       0.752       0.988\n",
      "sold_lag_1            1.6998      0.038     45.287      0.000       1.626       1.773\n",
      "sold_lag_7            0.1645      0.038      4.366      0.000       0.091       0.238\n",
      "sold_lag_28          -0.1536      0.029     -5.212      0.000      -0.211      -0.096\n",
      "==============================================================================\n",
      "Omnibus:                    23937.287   Durbin-Watson:                   2.006\n",
      "Prob(Omnibus):                  0.000   Jarque-Bera (JB):          7721930.646\n",
      "Skew:                           2.823   Prob(JB):                         0.00\n",
      "Kurtosis:                      81.232   Cond. No.                     1.21e+16\n",
      "==============================================================================\n",
      "\n",
      "Warnings:\n",
      "[1] Standard Errors assume that the covariance matrix of the errors is correctly specified.\n",
      "[2] The smallest eigenvalue is 8.51e-28. This might indicate that there are\n",
      "strong multicollinearity problems or that the design matrix is singular.\n"
     ]
    }
   ],
   "source": [
    "mod = sm.OLS(df['sold'], df[X_df.columns])\n",
    "res = mod.fit()\n",
    "print(res.summary())"
   ]
  },
  {
   "cell_type": "code",
   "execution_count": null,
   "metadata": {},
   "outputs": [],
   "source": [
    "###Train test split\n",
    "###Normalise features\n",
    "###More Data Analysis\n",
    "###Feature Extraction - average of weekday - exponential averages - Eve Events\n",
    "###Modelling\n",
    "###Feature selection - Linear Regression/RandomForests/Lasso/Correlation plots"
   ]
  }
 ],
 "metadata": {
  "kernelspec": {
   "display_name": "Python 3",
   "language": "python",
   "name": "python3"
  },
  "language_info": {
   "codemirror_mode": {
    "name": "ipython",
    "version": 3
   },
   "file_extension": ".py",
   "mimetype": "text/x-python",
   "name": "python",
   "nbconvert_exporter": "python",
   "pygments_lexer": "ipython3",
   "version": "3.7.4"
  }
 },
 "nbformat": 4,
 "nbformat_minor": 2
}
