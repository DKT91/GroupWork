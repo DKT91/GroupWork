{
 "cells": [
  {
   "cell_type": "markdown",
   "metadata": {},
   "source": [
    "# Machine Learning Notebook - Matt"
   ]
  },
  {
   "cell_type": "code",
   "execution_count": 1,
   "metadata": {},
   "outputs": [],
   "source": [
    "import HelperFunctions as hf\n",
    "import numpy as np\n",
    "import pandas as pd\n",
    "from sklearn.preprocessing import StandardScaler\n",
    "from sklearn.model_selection import train_test_split\n",
    "import statsmodels.api as sm"
   ]
  },
  {
   "cell_type": "markdown",
   "metadata": {},
   "source": [
    "## Load Data"
   ]
  },
  {
   "cell_type": "code",
   "execution_count": 2,
   "metadata": {},
   "outputs": [],
   "source": [
    "#Load in the raw data\n",
    "calendar_df = hf.load_calendar_data()\n",
    "prices_df = hf.load_sell_price_data()\n",
    "sales_df = hf.load_sales_train_validation_data()"
   ]
  },
  {
   "cell_type": "markdown",
   "metadata": {},
   "source": [
    "## Clean Data"
   ]
  },
  {
   "cell_type": "code",
   "execution_count": 3,
   "metadata": {},
   "outputs": [],
   "source": [
    "#Clean the raw data\n",
    "df = hf.rawToClean(sales_df, calendar_df, prices_df, days=750, items=1000, dropNAPrices=True)"
   ]
  },
  {
   "cell_type": "markdown",
   "metadata": {},
   "source": [
    "## Feature Engineering"
   ]
  },
  {
   "cell_type": "code",
   "execution_count": 4,
   "metadata": {},
   "outputs": [],
   "source": [
    "df = hf.rollingMeanDemandFeature(df, windowSize=7, shift=1) #Mean of previous week\n",
    "df = hf.rollingMeanDemandFeature(df, windowSize=28, shift=1) #Mean of previous 28 days"
   ]
  },
  {
   "cell_type": "code",
   "execution_count": 5,
   "metadata": {},
   "outputs": [],
   "source": [
    "df = hf.rollingMeanWeekday(df, weeks = 3, shift = 1) #mean of previous 3 weeks (for that particular weekday)"
   ]
  },
  {
   "cell_type": "code",
   "execution_count": 7,
   "metadata": {},
   "outputs": [],
   "source": [
    "df = hf.lagFeature(df, var='sold', lag=1) #Amount sold day before\n",
    "df = hf.lagFeature(df, var='sold', lag=7) #Amount sold a week before\n",
    "df = hf.lagFeature(df, var='sold', lag=28) #Amount sold 28 days before"
   ]
  },
  {
   "cell_type": "code",
   "execution_count": 8,
   "metadata": {},
   "outputs": [],
   "source": [
    "df.dropna(inplace=True) #Drop rows with NAs (as result of lagged features)"
   ]
  },
  {
   "cell_type": "code",
   "execution_count": 9,
   "metadata": {},
   "outputs": [],
   "source": [
    "df.drop(['id'], axis=1, inplace=True) #Drop the id column"
   ]
  },
  {
   "cell_type": "code",
   "execution_count": 10,
   "metadata": {},
   "outputs": [
    {
     "data": {
      "text/plain": [
       "d                    0\n",
       "sold                 0\n",
       "wday                 0\n",
       "month                0\n",
       "year                 0\n",
       "snap_CA              0\n",
       "snap_TX              0\n",
       "snap_WI              0\n",
       "sell_price           0\n",
       "Cultural             0\n",
       "National             0\n",
       "Religious            0\n",
       "Sporting             0\n",
       "NoEvent              0\n",
       "Christmas            0\n",
       "weekend              0\n",
       "midweek              0\n",
       "monfri               0\n",
       "FOODS_1              0\n",
       "FOODS_2              0\n",
       "FOODS_3              0\n",
       "HOBBIES_1            0\n",
       "HOBBIES_2            0\n",
       "HOUSEHOLD_1          0\n",
       "HOUSEHOLD_2          0\n",
       "FOODS                0\n",
       "HOBBIES              0\n",
       "HOUSEHOLD            0\n",
       "CA_1                 0\n",
       "CA_2                 0\n",
       "CA_3                 0\n",
       "CA_4                 0\n",
       "TX_1                 0\n",
       "TX_2                 0\n",
       "TX_3                 0\n",
       "WI_1                 0\n",
       "WI_2                 0\n",
       "WI_3                 0\n",
       "CA                   0\n",
       "TX                   0\n",
       "WI                   0\n",
       "rolling_mean_7_1     0\n",
       "rolling_mean_28_1    0\n",
       "sold_lag_1           0\n",
       "sold_lag_7           0\n",
       "sold_lag_28          0\n",
       "dtype: int64"
      ]
     },
     "execution_count": 10,
     "metadata": {},
     "output_type": "execute_result"
    }
   ],
   "source": [
    "df.isnull().sum()"
   ]
  },
  {
   "cell_type": "code",
   "execution_count": 11,
   "metadata": {},
   "outputs": [
    {
     "data": {
      "text/html": [
       "<div>\n",
       "<style scoped>\n",
       "    .dataframe tbody tr th:only-of-type {\n",
       "        vertical-align: middle;\n",
       "    }\n",
       "\n",
       "    .dataframe tbody tr th {\n",
       "        vertical-align: top;\n",
       "    }\n",
       "\n",
       "    .dataframe thead th {\n",
       "        text-align: right;\n",
       "    }\n",
       "</style>\n",
       "<table border=\"1\" class=\"dataframe\">\n",
       "  <thead>\n",
       "    <tr style=\"text-align: right;\">\n",
       "      <th></th>\n",
       "      <th>d</th>\n",
       "      <th>sold</th>\n",
       "      <th>wday</th>\n",
       "      <th>month</th>\n",
       "      <th>year</th>\n",
       "      <th>snap_CA</th>\n",
       "      <th>snap_TX</th>\n",
       "      <th>snap_WI</th>\n",
       "      <th>sell_price</th>\n",
       "      <th>Cultural</th>\n",
       "      <th>...</th>\n",
       "      <th>WI_2</th>\n",
       "      <th>WI_3</th>\n",
       "      <th>CA</th>\n",
       "      <th>TX</th>\n",
       "      <th>WI</th>\n",
       "      <th>rolling_mean_7_1</th>\n",
       "      <th>rolling_mean_28_1</th>\n",
       "      <th>sold_lag_1</th>\n",
       "      <th>sold_lag_7</th>\n",
       "      <th>sold_lag_28</th>\n",
       "    </tr>\n",
       "  </thead>\n",
       "  <tbody>\n",
       "    <tr>\n",
       "      <td>28002</td>\n",
       "      <td>29</td>\n",
       "      <td>0</td>\n",
       "      <td>1</td>\n",
       "      <td>2</td>\n",
       "      <td>2011</td>\n",
       "      <td>0</td>\n",
       "      <td>0</td>\n",
       "      <td>0</td>\n",
       "      <td>6.47</td>\n",
       "      <td>0</td>\n",
       "      <td>...</td>\n",
       "      <td>0</td>\n",
       "      <td>0</td>\n",
       "      <td>1</td>\n",
       "      <td>0</td>\n",
       "      <td>0</td>\n",
       "      <td>0.000000</td>\n",
       "      <td>0.607143</td>\n",
       "      <td>0.0</td>\n",
       "      <td>0.0</td>\n",
       "      <td>2.0</td>\n",
       "    </tr>\n",
       "    <tr>\n",
       "      <td>28005</td>\n",
       "      <td>29</td>\n",
       "      <td>0</td>\n",
       "      <td>1</td>\n",
       "      <td>2</td>\n",
       "      <td>2011</td>\n",
       "      <td>0</td>\n",
       "      <td>0</td>\n",
       "      <td>0</td>\n",
       "      <td>1.50</td>\n",
       "      <td>0</td>\n",
       "      <td>...</td>\n",
       "      <td>0</td>\n",
       "      <td>0</td>\n",
       "      <td>1</td>\n",
       "      <td>0</td>\n",
       "      <td>0</td>\n",
       "      <td>0.000000</td>\n",
       "      <td>0.821429</td>\n",
       "      <td>0.0</td>\n",
       "      <td>0.0</td>\n",
       "      <td>0.0</td>\n",
       "    </tr>\n",
       "    <tr>\n",
       "      <td>28006</td>\n",
       "      <td>29</td>\n",
       "      <td>0</td>\n",
       "      <td>1</td>\n",
       "      <td>2</td>\n",
       "      <td>2011</td>\n",
       "      <td>0</td>\n",
       "      <td>0</td>\n",
       "      <td>0</td>\n",
       "      <td>2.88</td>\n",
       "      <td>0</td>\n",
       "      <td>...</td>\n",
       "      <td>0</td>\n",
       "      <td>0</td>\n",
       "      <td>0</td>\n",
       "      <td>1</td>\n",
       "      <td>0</td>\n",
       "      <td>0.000000</td>\n",
       "      <td>0.464286</td>\n",
       "      <td>0.0</td>\n",
       "      <td>0.0</td>\n",
       "      <td>0.0</td>\n",
       "    </tr>\n",
       "    <tr>\n",
       "      <td>28007</td>\n",
       "      <td>29</td>\n",
       "      <td>0</td>\n",
       "      <td>1</td>\n",
       "      <td>2</td>\n",
       "      <td>2011</td>\n",
       "      <td>0</td>\n",
       "      <td>0</td>\n",
       "      <td>0</td>\n",
       "      <td>9.88</td>\n",
       "      <td>0</td>\n",
       "      <td>...</td>\n",
       "      <td>0</td>\n",
       "      <td>0</td>\n",
       "      <td>0</td>\n",
       "      <td>1</td>\n",
       "      <td>0</td>\n",
       "      <td>1.571429</td>\n",
       "      <td>2.428571</td>\n",
       "      <td>3.0</td>\n",
       "      <td>0.0</td>\n",
       "      <td>1.0</td>\n",
       "    </tr>\n",
       "    <tr>\n",
       "      <td>28010</td>\n",
       "      <td>29</td>\n",
       "      <td>2</td>\n",
       "      <td>1</td>\n",
       "      <td>2</td>\n",
       "      <td>2011</td>\n",
       "      <td>0</td>\n",
       "      <td>0</td>\n",
       "      <td>0</td>\n",
       "      <td>1.00</td>\n",
       "      <td>0</td>\n",
       "      <td>...</td>\n",
       "      <td>0</td>\n",
       "      <td>0</td>\n",
       "      <td>1</td>\n",
       "      <td>0</td>\n",
       "      <td>0</td>\n",
       "      <td>0.857143</td>\n",
       "      <td>1.535714</td>\n",
       "      <td>2.0</td>\n",
       "      <td>1.0</td>\n",
       "      <td>2.0</td>\n",
       "    </tr>\n",
       "    <tr>\n",
       "      <td>28011</td>\n",
       "      <td>29</td>\n",
       "      <td>1</td>\n",
       "      <td>1</td>\n",
       "      <td>2</td>\n",
       "      <td>2011</td>\n",
       "      <td>0</td>\n",
       "      <td>0</td>\n",
       "      <td>0</td>\n",
       "      <td>3.67</td>\n",
       "      <td>0</td>\n",
       "      <td>...</td>\n",
       "      <td>0</td>\n",
       "      <td>0</td>\n",
       "      <td>0</td>\n",
       "      <td>1</td>\n",
       "      <td>0</td>\n",
       "      <td>0.714286</td>\n",
       "      <td>0.678571</td>\n",
       "      <td>3.0</td>\n",
       "      <td>1.0</td>\n",
       "      <td>0.0</td>\n",
       "    </tr>\n",
       "    <tr>\n",
       "      <td>28015</td>\n",
       "      <td>29</td>\n",
       "      <td>5</td>\n",
       "      <td>1</td>\n",
       "      <td>2</td>\n",
       "      <td>2011</td>\n",
       "      <td>0</td>\n",
       "      <td>0</td>\n",
       "      <td>0</td>\n",
       "      <td>3.97</td>\n",
       "      <td>0</td>\n",
       "      <td>...</td>\n",
       "      <td>0</td>\n",
       "      <td>0</td>\n",
       "      <td>0</td>\n",
       "      <td>1</td>\n",
       "      <td>0</td>\n",
       "      <td>5.714286</td>\n",
       "      <td>4.142857</td>\n",
       "      <td>1.0</td>\n",
       "      <td>10.0</td>\n",
       "      <td>1.0</td>\n",
       "    </tr>\n",
       "    <tr>\n",
       "      <td>28016</td>\n",
       "      <td>29</td>\n",
       "      <td>4</td>\n",
       "      <td>1</td>\n",
       "      <td>2</td>\n",
       "      <td>2011</td>\n",
       "      <td>0</td>\n",
       "      <td>0</td>\n",
       "      <td>0</td>\n",
       "      <td>4.97</td>\n",
       "      <td>0</td>\n",
       "      <td>...</td>\n",
       "      <td>0</td>\n",
       "      <td>0</td>\n",
       "      <td>1</td>\n",
       "      <td>0</td>\n",
       "      <td>0</td>\n",
       "      <td>2.142857</td>\n",
       "      <td>2.428571</td>\n",
       "      <td>4.0</td>\n",
       "      <td>1.0</td>\n",
       "      <td>4.0</td>\n",
       "    </tr>\n",
       "    <tr>\n",
       "      <td>28018</td>\n",
       "      <td>29</td>\n",
       "      <td>16</td>\n",
       "      <td>1</td>\n",
       "      <td>2</td>\n",
       "      <td>2011</td>\n",
       "      <td>0</td>\n",
       "      <td>0</td>\n",
       "      <td>0</td>\n",
       "      <td>1.18</td>\n",
       "      <td>0</td>\n",
       "      <td>...</td>\n",
       "      <td>0</td>\n",
       "      <td>0</td>\n",
       "      <td>1</td>\n",
       "      <td>0</td>\n",
       "      <td>0</td>\n",
       "      <td>17.142857</td>\n",
       "      <td>14.392857</td>\n",
       "      <td>20.0</td>\n",
       "      <td>13.0</td>\n",
       "      <td>9.0</td>\n",
       "    </tr>\n",
       "    <tr>\n",
       "      <td>28019</td>\n",
       "      <td>29</td>\n",
       "      <td>7</td>\n",
       "      <td>1</td>\n",
       "      <td>2</td>\n",
       "      <td>2011</td>\n",
       "      <td>0</td>\n",
       "      <td>0</td>\n",
       "      <td>0</td>\n",
       "      <td>1.98</td>\n",
       "      <td>0</td>\n",
       "      <td>...</td>\n",
       "      <td>0</td>\n",
       "      <td>0</td>\n",
       "      <td>0</td>\n",
       "      <td>1</td>\n",
       "      <td>0</td>\n",
       "      <td>2.142857</td>\n",
       "      <td>2.500000</td>\n",
       "      <td>1.0</td>\n",
       "      <td>2.0</td>\n",
       "      <td>0.0</td>\n",
       "    </tr>\n",
       "  </tbody>\n",
       "</table>\n",
       "<p>10 rows × 46 columns</p>\n",
       "</div>"
      ],
      "text/plain": [
       "        d  sold  wday  month  year  snap_CA  snap_TX  snap_WI  sell_price  \\\n",
       "28002  29     0     1      2  2011        0        0        0        6.47   \n",
       "28005  29     0     1      2  2011        0        0        0        1.50   \n",
       "28006  29     0     1      2  2011        0        0        0        2.88   \n",
       "28007  29     0     1      2  2011        0        0        0        9.88   \n",
       "28010  29     2     1      2  2011        0        0        0        1.00   \n",
       "28011  29     1     1      2  2011        0        0        0        3.67   \n",
       "28015  29     5     1      2  2011        0        0        0        3.97   \n",
       "28016  29     4     1      2  2011        0        0        0        4.97   \n",
       "28018  29    16     1      2  2011        0        0        0        1.18   \n",
       "28019  29     7     1      2  2011        0        0        0        1.98   \n",
       "\n",
       "       Cultural  ...  WI_2  WI_3  CA  TX  WI  rolling_mean_7_1  \\\n",
       "28002         0  ...     0     0   1   0   0          0.000000   \n",
       "28005         0  ...     0     0   1   0   0          0.000000   \n",
       "28006         0  ...     0     0   0   1   0          0.000000   \n",
       "28007         0  ...     0     0   0   1   0          1.571429   \n",
       "28010         0  ...     0     0   1   0   0          0.857143   \n",
       "28011         0  ...     0     0   0   1   0          0.714286   \n",
       "28015         0  ...     0     0   0   1   0          5.714286   \n",
       "28016         0  ...     0     0   1   0   0          2.142857   \n",
       "28018         0  ...     0     0   1   0   0         17.142857   \n",
       "28019         0  ...     0     0   0   1   0          2.142857   \n",
       "\n",
       "       rolling_mean_28_1  sold_lag_1  sold_lag_7  sold_lag_28  \n",
       "28002           0.607143         0.0         0.0          2.0  \n",
       "28005           0.821429         0.0         0.0          0.0  \n",
       "28006           0.464286         0.0         0.0          0.0  \n",
       "28007           2.428571         3.0         0.0          1.0  \n",
       "28010           1.535714         2.0         1.0          2.0  \n",
       "28011           0.678571         3.0         1.0          0.0  \n",
       "28015           4.142857         1.0        10.0          1.0  \n",
       "28016           2.428571         4.0         1.0          4.0  \n",
       "28018          14.392857        20.0        13.0          9.0  \n",
       "28019           2.500000         1.0         2.0          0.0  \n",
       "\n",
       "[10 rows x 46 columns]"
      ]
     },
     "execution_count": 11,
     "metadata": {},
     "output_type": "execute_result"
    }
   ],
   "source": [
    "df.head(10)"
   ]
  },
  {
   "cell_type": "code",
   "execution_count": 12,
   "metadata": {},
   "outputs": [
    {
     "data": {
      "text/plain": [
       "(430835, 46)"
      ]
     },
     "execution_count": 12,
     "metadata": {},
     "output_type": "execute_result"
    }
   ],
   "source": [
    "df.shape"
   ]
  },
  {
   "cell_type": "code",
   "execution_count": 13,
   "metadata": {},
   "outputs": [
    {
     "data": {
      "text/plain": [
       "Index(['d', 'sold', 'wday', 'month', 'year', 'snap_CA', 'snap_TX', 'snap_WI',\n",
       "       'sell_price', 'Cultural', 'National', 'Religious', 'Sporting',\n",
       "       'NoEvent', 'Christmas', 'weekend', 'midweek', 'monfri', 'FOODS_1',\n",
       "       'FOODS_2', 'FOODS_3', 'HOBBIES_1', 'HOBBIES_2', 'HOUSEHOLD_1',\n",
       "       'HOUSEHOLD_2', 'FOODS', 'HOBBIES', 'HOUSEHOLD', 'CA_1', 'CA_2', 'CA_3',\n",
       "       'CA_4', 'TX_1', 'TX_2', 'TX_3', 'WI_1', 'WI_2', 'WI_3', 'CA', 'TX',\n",
       "       'WI', 'rolling_mean_7_1', 'rolling_mean_28_1', 'sold_lag_1',\n",
       "       'sold_lag_7', 'sold_lag_28'],\n",
       "      dtype='object')"
      ]
     },
     "execution_count": 13,
     "metadata": {},
     "output_type": "execute_result"
    }
   ],
   "source": [
    "df.columns"
   ]
  },
  {
   "cell_type": "markdown",
   "metadata": {},
   "source": [
    "# Machine Learning"
   ]
  },
  {
   "cell_type": "markdown",
   "metadata": {},
   "source": [
    "## Train/Test Split\n",
    "We also isolate the target variables from the features"
   ]
  },
  {
   "cell_type": "code",
   "execution_count": 14,
   "metadata": {},
   "outputs": [],
   "source": [
    "#Standardise features\n",
    "cols_to_norm = ['d','wday','month','year','sell_price','rolling_mean_7_1','rolling_mean_28_1','sold_lag_1',\n",
    "                'sold_lag_7','sold_lag_28']\n",
    "\n",
    "df[cols_to_norm] = StandardScaler().fit_transform(df[cols_to_norm])"
   ]
  },
  {
   "cell_type": "code",
   "execution_count": 15,
   "metadata": {},
   "outputs": [],
   "source": [
    "#Isolate features and target variable\n",
    "y = df.sold.values\n",
    "X_df = df.drop(['sold'], axis=1)\n",
    "X = X_df.values"
   ]
  },
  {
   "cell_type": "code",
   "execution_count": 16,
   "metadata": {},
   "outputs": [],
   "source": [
    "#Train/test split\n",
    "X_train, X_test, y_train, y_test = train_test_split(X, y, test_size=0.20, random_state=42)"
   ]
  },
  {
   "cell_type": "code",
   "execution_count": 17,
   "metadata": {},
   "outputs": [
    {
     "name": "stdout",
     "output_type": "stream",
     "text": [
      "(344668, 45)\n",
      "(344668,)\n",
      "(86167, 45)\n",
      "(86167,)\n"
     ]
    }
   ],
   "source": [
    "print(X_train.shape)\n",
    "print(y_train.shape)\n",
    "print(X_test.shape)\n",
    "print(y_test.shape)"
   ]
  },
  {
   "cell_type": "markdown",
   "metadata": {},
   "source": [
    "## Linear Regression\n",
    "The results of fitting a linear regression model on the data and analysing the feature's p-values raises some interesting findings. \n",
    "* Amongst date features, d, month and year are all insignificant features. \n",
    "* Amongst the event related features only sporting, religious and xmas are significant. As expected, Xmas is the most influential feature of them all.  Interestingly, this model suggests than there is a significant decrease in sales on a sporting event day, but an increase in sales on a religious event day.\n",
    "* The LR also confirms our findings in analysis that weekend/monfri/midweek are all significant features for predicting sales volume. \n",
    "* Interestingly, among the product categories, HOBBIES_2 is the only insignificant predictor. \n",
    "* CA_4 is the only store that is an insignificant predictor.\n",
    "* The mean of sold items in the week leading up is the second most influential feature.\n",
    "* snap_CA is insignificant unlike the other snap features - are less Californians drawn in to offers perhaps?\n",
    "* More expensive items sell in lower quantities"
   ]
  },
  {
   "cell_type": "code",
   "execution_count": 18,
   "metadata": {},
   "outputs": [
    {
     "name": "stdout",
     "output_type": "stream",
     "text": [
      "                            OLS Regression Results                            \n",
      "==============================================================================\n",
      "Dep. Variable:                   sold   R-squared:                       0.709\n",
      "Model:                            OLS   Adj. R-squared:                  0.709\n",
      "Method:                 Least Squares   F-statistic:                 2.923e+04\n",
      "Date:                Thu, 25 Feb 2021   Prob (F-statistic):               0.00\n",
      "Time:                        18:40:52   Log-Likelihood:            -1.0889e+06\n",
      "No. Observations:              430835   AIC:                         2.178e+06\n",
      "Df Residuals:                  430798   BIC:                         2.178e+06\n",
      "Df Model:                          36                                         \n",
      "Covariance Type:            nonrobust                                         \n",
      "=====================================================================================\n",
      "                        coef    std err          t      P>|t|      [0.025      0.975]\n",
      "-------------------------------------------------------------------------------------\n",
      "d                    -0.0263      0.223     -0.117      0.906      -0.464       0.412\n",
      "wday                  0.0647      0.008      8.492      0.000       0.050       0.080\n",
      "month                 0.0165      0.116      0.142      0.887      -0.211       0.244\n",
      "year                  0.0283      0.240      0.118      0.906      -0.443       0.499\n",
      "snap_CA               0.0587      0.017      3.430      0.001       0.025       0.092\n",
      "snap_TX               0.0759      0.013      5.808      0.000       0.050       0.101\n",
      "snap_WI               0.0794      0.013      6.242      0.000       0.054       0.104\n",
      "sell_price           -0.0196      0.005     -3.847      0.000      -0.030      -0.010\n",
      "Cultural             -0.3000      0.144     -2.085      0.037      -0.582      -0.018\n",
      "National             -0.1603      0.151     -1.063      0.288      -0.456       0.135\n",
      "Religious            -0.1063      0.145     -0.732      0.464      -0.391       0.178\n",
      "Sporting             -0.2280      0.156     -1.458      0.145      -0.534       0.078\n",
      "NoEvent              -0.1361      0.148     -0.920      0.357      -0.426       0.154\n",
      "Christmas            -1.6140      0.090    -17.842      0.000      -1.791      -1.437\n",
      "weekend               0.8209      0.041     19.787      0.000       0.740       0.902\n",
      "midweek               0.3182      0.040      7.946      0.000       0.240       0.397\n",
      "monfri                0.4089      0.040     10.142      0.000       0.330       0.488\n",
      "FOODS_1               0.1592      0.020      8.003      0.000       0.120       0.198\n",
      "FOODS_2               0.1894      0.018     10.363      0.000       0.154       0.225\n",
      "FOODS_3               0.2214      0.017     13.069      0.000       0.188       0.255\n",
      "HOBBIES_1             0.2586      0.022     11.793      0.000       0.216       0.302\n",
      "HOBBIES_2             0.2250      0.023      9.618      0.000       0.179       0.271\n",
      "HOUSEHOLD_1           0.2588      0.021     12.490      0.000       0.218       0.299\n",
      "HOUSEHOLD_2           0.2357      0.021     11.434      0.000       0.195       0.276\n",
      "FOODS                 0.5699      0.043     13.248      0.000       0.486       0.654\n",
      "HOBBIES               0.4836      0.039     12.559      0.000       0.408       0.559\n",
      "HOUSEHOLD             0.4944      0.038     12.934      0.000       0.420       0.569\n",
      "CA_1                  0.1249      0.016      7.700      0.000       0.093       0.157\n",
      "CA_2                  0.1384      0.017      7.937      0.000       0.104       0.173\n",
      "CA_3                  0.1621      0.016      9.937      0.000       0.130       0.194\n",
      "CA_4                  0.1190      0.016      7.279      0.000       0.087       0.151\n",
      "TX_1                  0.1753      0.017     10.032      0.000       0.141       0.210\n",
      "TX_2                  0.1749      0.017     10.093      0.000       0.141       0.209\n",
      "TX_3                  0.1519      0.017      8.712      0.000       0.118       0.186\n",
      "WI_1                  0.1548      0.018      8.411      0.000       0.119       0.191\n",
      "WI_2                  0.1858      0.018     10.366      0.000       0.151       0.221\n",
      "WI_3                  0.1609      0.018      9.109      0.000       0.126       0.196\n",
      "CA                    0.5444      0.042     13.097      0.000       0.463       0.626\n",
      "TX                    0.5021      0.039     12.867      0.000       0.426       0.579\n",
      "WI                    0.5015      0.039     12.836      0.000       0.425       0.578\n",
      "rolling_mean_7_1      1.5365      0.020     77.567      0.000       1.498       1.575\n",
      "rolling_mean_28_1     1.2075      0.018     65.578      0.000       1.171       1.244\n",
      "sold_lag_1            1.3438      0.009    142.476      0.000       1.325       1.362\n",
      "sold_lag_7            0.4078      0.009     43.078      0.000       0.389       0.426\n",
      "sold_lag_28           0.5366      0.008     64.127      0.000       0.520       0.553\n",
      "==============================================================================\n",
      "Omnibus:                   566661.806   Durbin-Watson:                   1.997\n",
      "Prob(Omnibus):                  0.000   Jarque-Bera (JB):       1522400673.629\n",
      "Skew:                           6.476   Prob(JB):                         0.00\n",
      "Kurtosis:                     293.927   Cond. No.                     5.69e+15\n",
      "==============================================================================\n",
      "\n",
      "Warnings:\n",
      "[1] Standard Errors assume that the covariance matrix of the errors is correctly specified.\n",
      "[2] The smallest eigenvalue is 5.77e-26. This might indicate that there are\n",
      "strong multicollinearity problems or that the design matrix is singular.\n"
     ]
    }
   ],
   "source": [
    "mod = sm.OLS(df['sold'], df[X_df.columns])\n",
    "res = mod.fit()\n",
    "print(res.summary())"
   ]
  },
  {
   "cell_type": "code",
   "execution_count": null,
   "metadata": {},
   "outputs": [],
   "source": [
    "###Train test split\n",
    "###Normalise features\n",
    "###More Data Analysis\n",
    "###Feature Extraction - average of weekday - exponential averages - Eve Events\n",
    "###Modelling\n",
    "###Feature selection - Linear Regression/RandomForests/Lasso/Correlation plots"
   ]
  }
 ],
 "metadata": {
  "kernelspec": {
   "display_name": "Python 3",
   "language": "python",
   "name": "python3"
  },
  "language_info": {
   "codemirror_mode": {
    "name": "ipython",
    "version": 3
   },
   "file_extension": ".py",
   "mimetype": "text/x-python",
   "name": "python",
   "nbconvert_exporter": "python",
   "pygments_lexer": "ipython3",
   "version": "3.7.9"
  }
 },
 "nbformat": 4,
 "nbformat_minor": 4
}
