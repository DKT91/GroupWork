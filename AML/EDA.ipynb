{
 "cells": [
  {
   "cell_type": "code",
   "execution_count": 4,
   "metadata": {},
   "outputs": [],
   "source": [
    "import numpy as np\n",
    "import pandas as pd\n",
    "import sklearn\n",
    "import matplotlib as mpl\n",
    "import matplotlib.pyplot as plt\n",
    "import seaborn as sns\n",
    "#import sweetviz as sv\n",
    "import HelperFunctions as hf\n",
    "import os \n",
    "import tarfile\n",
    "import zipfile\n"
   ]
  },
  {
   "cell_type": "markdown",
   "metadata": {},
   "source": [
    "# Overview\n",
    "\n",
    "[M5 forecasting challenge](https://www.kaggle.com/c/m5-forecasting-accuracy/data)\n",
    "\n",
    "\n",
    "## Data Description\n",
    "\n",
    "- `calendar.csv` - Contains information about the dates on which the products are sold.\n",
    "\n",
    "- `sales_train_validation.csv` - Contains the historical daily unit sales data per product and store `[d_1 - d_1913]`\n",
    "\n",
    "- `sell_prices.csv` - Contains information about the price of the products sold per store and date.\n",
    "\n",
    "- `sample_submission.csv` - The correct format for submissions. Reference the [Evaluation](https://www.kaggle.com/c/m5-forecasting-accuracy/overview/evaluation) tab for more info.\n",
    "\n",
    "- `sales_train_evaluation.csv` - Includes sales `[d_1 - d_1941]` (labels used for the Public leaderboard)\n",
    "\n",
    "\n",
    "## Task\n",
    "\n",
    "- Forecast daily sales for the next 28 days\n",
    "\n"
   ]
  },
  {
   "cell_type": "markdown",
   "metadata": {},
   "source": [
    "# 1. Download the Data"
   ]
  },
  {
   "cell_type": "code",
   "execution_count": 9,
   "metadata": {},
   "outputs": [
    {
     "name": "stdout",
     "output_type": "stream",
     "text": [
      "Warning: Your Kaggle API key is readable by other users on this system! To fix this, you can run 'chmod 600 /Users/mattwear/.kaggle/kaggle.json'\n",
      "Downloading m5-forecasting-accuracy.zip to data\n",
      "\n"
     ]
    },
    {
     "name": "stderr",
     "output_type": "stream",
     "text": [
      "\r",
      "  0%|          | 0.00/45.8M [00:00<?, ?B/s]\r",
      "  2%|▏         | 1.00M/45.8M [00:02<01:51, 420kB/s]\r",
      "  4%|▍         | 2.00M/45.8M [00:03<01:30, 505kB/s]\r",
      "  7%|▋         | 3.00M/45.8M [00:05<01:31, 490kB/s]\r",
      "  9%|▊         | 4.00M/45.8M [00:07<01:27, 500kB/s]\r",
      " 11%|█         | 5.00M/45.8M [00:09<01:13, 579kB/s]\r",
      " 13%|█▎        | 6.00M/45.8M [00:09<00:56, 732kB/s]\r",
      " 15%|█▌        | 7.00M/45.8M [00:10<00:52, 772kB/s]\r",
      " 17%|█▋        | 8.00M/45.8M [00:12<00:53, 737kB/s]\r",
      " 20%|█▉        | 9.00M/45.8M [00:18<01:41, 381kB/s]\r",
      " 22%|██▏       | 10.0M/45.8M [00:23<02:04, 301kB/s]\r",
      " 24%|██▍       | 11.0M/45.8M [00:26<02:02, 299kB/s]\r",
      " 24%|██▍       | 11.0M/45.8M [00:40<02:02, 299kB/s]\r",
      " 26%|██▌       | 12.0M/45.8M [00:41<03:54, 151kB/s]\r",
      " 28%|██▊       | 13.0M/45.8M [00:50<04:05, 140kB/s]\r",
      " 31%|███       | 14.0M/45.8M [00:54<03:19, 167kB/s]\r",
      " 33%|███▎      | 15.0M/45.8M [00:57<02:42, 199kB/s]\r",
      " 35%|███▍      | 16.0M/45.8M [01:00<02:17, 228kB/s]\r",
      " 37%|███▋      | 17.0M/45.8M [01:04<02:08, 234kB/s]\r",
      " 39%|███▉      | 18.0M/45.8M [01:11<02:31, 192kB/s]\r",
      " 41%|████▏     | 19.0M/45.8M [01:15<02:08, 218kB/s]\r",
      " 44%|████▎     | 20.0M/45.8M [01:17<01:44, 258kB/s]\r",
      " 46%|████▌     | 21.0M/45.8M [01:20<01:32, 280kB/s]\r",
      " 48%|████▊     | 22.0M/45.8M [01:25<01:36, 259kB/s]\r",
      " 50%|█████     | 23.0M/45.8M [01:27<01:21, 293kB/s]\r",
      " 52%|█████▏    | 24.0M/45.8M [01:31<01:17, 293kB/s]\r",
      " 55%|█████▍    | 25.0M/45.8M [01:34<01:09, 315kB/s]\r",
      " 57%|█████▋    | 26.0M/45.8M [01:38<01:09, 298kB/s]\r",
      " 59%|█████▉    | 27.0M/45.8M [01:45<01:28, 222kB/s]\r",
      " 61%|██████    | 28.0M/45.8M [01:51<01:28, 211kB/s]\r",
      " 63%|██████▎   | 29.0M/45.8M [01:54<01:15, 233kB/s]\r",
      " 66%|██████▌   | 30.0M/45.8M [01:59<01:11, 232kB/s]\r",
      " 68%|██████▊   | 31.0M/45.8M [02:00<00:52, 296kB/s]\r",
      " 70%|██████▉   | 32.0M/45.8M [02:01<00:40, 360kB/s]\r",
      " 72%|███████▏  | 33.0M/45.8M [02:03<00:30, 433kB/s]\r",
      " 74%|███████▍  | 34.0M/45.8M [02:06<00:31, 392kB/s]\r",
      " 76%|███████▋  | 35.0M/45.8M [02:09<00:29, 383kB/s]\r",
      " 79%|███████▊  | 36.0M/45.8M [02:10<00:22, 452kB/s]\r",
      " 81%|████████  | 37.0M/45.8M [02:12<00:19, 475kB/s]\r",
      " 83%|████████▎ | 38.0M/45.8M [02:14<00:15, 515kB/s]\r",
      " 85%|████████▌ | 39.0M/45.8M [02:14<00:11, 646kB/s]\r",
      " 87%|████████▋ | 40.0M/45.8M [02:15<00:08, 741kB/s]\r",
      " 90%|████████▉ | 41.0M/45.8M [02:16<00:06, 829kB/s]\r",
      " 92%|█████████▏| 42.0M/45.8M [02:17<00:04, 866kB/s]\r",
      " 94%|█████████▍| 43.0M/45.8M [02:18<00:02, 1.08MB/s]\r",
      " 96%|█████████▌| 44.0M/45.8M [02:18<00:01, 1.30MB/s]\r",
      " 98%|█████████▊| 45.0M/45.8M [02:19<00:00, 1.53MB/s]\r",
      "100%|██████████| 45.8M/45.8M [02:19<00:00, 1.33MB/s]\r",
      "100%|██████████| 45.8M/45.8M [02:19<00:00, 343kB/s] \n"
     ]
    }
   ],
   "source": [
    "%%bash\n",
    "\n",
    "kaggle competitions download m5-forecasting-accuracy -p data\n"
   ]
  },
  {
   "cell_type": "code",
   "execution_count": 10,
   "metadata": {},
   "outputs": [
    {
     "name": "stdout",
     "output_type": "stream",
     "text": [
      "['calendar.csv', 'sales_train_evaluation.csv', 'sales_train_validation.csv', 'sample_submission.csv', 'sell_prices.csv']\n"
     ]
    }
   ],
   "source": [
    "def fetch_walmat_data():\n",
    "    zip_path = os.path.join('data', 'm5-forecasting-accuracy.zip')    \n",
    "    \n",
    "    with zipfile.ZipFile(zip_path, 'r') as zip_ref:\n",
    "        zip_ref.extractall('data')\n",
    "    \n",
    "    print(zip_ref.namelist())\n",
    "\n",
    "fetch_walmat_data()\n"
   ]
  },
  {
   "cell_type": "markdown",
   "metadata": {},
   "source": [
    "# 2. Read the Data"
   ]
  },
  {
   "cell_type": "code",
   "execution_count": 11,
   "metadata": {},
   "outputs": [],
   "source": [
    "def load_calendar_data():    \n",
    "    csv_path = os.path.join('data', 'calendar.csv')\n",
    "    return pd.read_csv(csv_path)\n",
    "\n",
    "\n",
    "def load_sell_price_data():\n",
    "    csv_path = os.path.join('data', 'sell_prices.csv')\n",
    "    return pd.read_csv(csv_path)\n",
    "\n",
    "\n",
    "def load_sales_train_validation_data():\n",
    "    csv_path = os.path.join('data', 'sales_train_validation.csv')\n",
    "    return pd.read_csv(csv_path)\n",
    "\n",
    "\n",
    "def load_sales_train_evaluation_data():\n",
    "    csv_path = os.path.join('data', 'sales_train_evaluation.csv')\n",
    "    return pd.read_csv(csv_path)\n"
   ]
  },
  {
   "cell_type": "markdown",
   "metadata": {},
   "source": [
    "## 2.1 Read Calendar"
   ]
  },
  {
   "cell_type": "code",
   "execution_count": 12,
   "metadata": {},
   "outputs": [
    {
     "data": {
      "text/html": [
       "<div>\n",
       "<style scoped>\n",
       "    .dataframe tbody tr th:only-of-type {\n",
       "        vertical-align: middle;\n",
       "    }\n",
       "\n",
       "    .dataframe tbody tr th {\n",
       "        vertical-align: top;\n",
       "    }\n",
       "\n",
       "    .dataframe thead th {\n",
       "        text-align: right;\n",
       "    }\n",
       "</style>\n",
       "<table border=\"1\" class=\"dataframe\">\n",
       "  <thead>\n",
       "    <tr style=\"text-align: right;\">\n",
       "      <th></th>\n",
       "      <th>date</th>\n",
       "      <th>wm_yr_wk</th>\n",
       "      <th>weekday</th>\n",
       "      <th>wday</th>\n",
       "      <th>month</th>\n",
       "      <th>year</th>\n",
       "      <th>d</th>\n",
       "      <th>event_name_1</th>\n",
       "      <th>event_type_1</th>\n",
       "      <th>event_name_2</th>\n",
       "      <th>event_type_2</th>\n",
       "      <th>snap_CA</th>\n",
       "      <th>snap_TX</th>\n",
       "      <th>snap_WI</th>\n",
       "    </tr>\n",
       "  </thead>\n",
       "  <tbody>\n",
       "    <tr>\n",
       "      <td>0</td>\n",
       "      <td>2011-01-29</td>\n",
       "      <td>11101</td>\n",
       "      <td>Saturday</td>\n",
       "      <td>1</td>\n",
       "      <td>1</td>\n",
       "      <td>2011</td>\n",
       "      <td>d_1</td>\n",
       "      <td>NaN</td>\n",
       "      <td>NaN</td>\n",
       "      <td>NaN</td>\n",
       "      <td>NaN</td>\n",
       "      <td>0</td>\n",
       "      <td>0</td>\n",
       "      <td>0</td>\n",
       "    </tr>\n",
       "    <tr>\n",
       "      <td>1</td>\n",
       "      <td>2011-01-30</td>\n",
       "      <td>11101</td>\n",
       "      <td>Sunday</td>\n",
       "      <td>2</td>\n",
       "      <td>1</td>\n",
       "      <td>2011</td>\n",
       "      <td>d_2</td>\n",
       "      <td>NaN</td>\n",
       "      <td>NaN</td>\n",
       "      <td>NaN</td>\n",
       "      <td>NaN</td>\n",
       "      <td>0</td>\n",
       "      <td>0</td>\n",
       "      <td>0</td>\n",
       "    </tr>\n",
       "    <tr>\n",
       "      <td>2</td>\n",
       "      <td>2011-01-31</td>\n",
       "      <td>11101</td>\n",
       "      <td>Monday</td>\n",
       "      <td>3</td>\n",
       "      <td>1</td>\n",
       "      <td>2011</td>\n",
       "      <td>d_3</td>\n",
       "      <td>NaN</td>\n",
       "      <td>NaN</td>\n",
       "      <td>NaN</td>\n",
       "      <td>NaN</td>\n",
       "      <td>0</td>\n",
       "      <td>0</td>\n",
       "      <td>0</td>\n",
       "    </tr>\n",
       "    <tr>\n",
       "      <td>3</td>\n",
       "      <td>2011-02-01</td>\n",
       "      <td>11101</td>\n",
       "      <td>Tuesday</td>\n",
       "      <td>4</td>\n",
       "      <td>2</td>\n",
       "      <td>2011</td>\n",
       "      <td>d_4</td>\n",
       "      <td>NaN</td>\n",
       "      <td>NaN</td>\n",
       "      <td>NaN</td>\n",
       "      <td>NaN</td>\n",
       "      <td>1</td>\n",
       "      <td>1</td>\n",
       "      <td>0</td>\n",
       "    </tr>\n",
       "    <tr>\n",
       "      <td>4</td>\n",
       "      <td>2011-02-02</td>\n",
       "      <td>11101</td>\n",
       "      <td>Wednesday</td>\n",
       "      <td>5</td>\n",
       "      <td>2</td>\n",
       "      <td>2011</td>\n",
       "      <td>d_5</td>\n",
       "      <td>NaN</td>\n",
       "      <td>NaN</td>\n",
       "      <td>NaN</td>\n",
       "      <td>NaN</td>\n",
       "      <td>1</td>\n",
       "      <td>0</td>\n",
       "      <td>1</td>\n",
       "    </tr>\n",
       "  </tbody>\n",
       "</table>\n",
       "</div>"
      ],
      "text/plain": [
       "         date  wm_yr_wk    weekday  wday  month  year    d event_name_1  \\\n",
       "0  2011-01-29     11101   Saturday     1      1  2011  d_1          NaN   \n",
       "1  2011-01-30     11101     Sunday     2      1  2011  d_2          NaN   \n",
       "2  2011-01-31     11101     Monday     3      1  2011  d_3          NaN   \n",
       "3  2011-02-01     11101    Tuesday     4      2  2011  d_4          NaN   \n",
       "4  2011-02-02     11101  Wednesday     5      2  2011  d_5          NaN   \n",
       "\n",
       "  event_type_1 event_name_2 event_type_2  snap_CA  snap_TX  snap_WI  \n",
       "0          NaN          NaN          NaN        0        0        0  \n",
       "1          NaN          NaN          NaN        0        0        0  \n",
       "2          NaN          NaN          NaN        0        0        0  \n",
       "3          NaN          NaN          NaN        1        1        0  \n",
       "4          NaN          NaN          NaN        1        0        1  "
      ]
     },
     "execution_count": 12,
     "metadata": {},
     "output_type": "execute_result"
    }
   ],
   "source": [
    "calendar = load_calendar_data()\n",
    "calendar.head()\n"
   ]
  },
  {
   "cell_type": "code",
   "execution_count": 13,
   "metadata": {},
   "outputs": [
    {
     "name": "stdout",
     "output_type": "stream",
     "text": [
      "shape: (1969, 14)\n",
      "\n",
      "<class 'pandas.core.frame.DataFrame'>\n",
      "RangeIndex: 1969 entries, 0 to 1968\n",
      "Data columns (total 14 columns):\n",
      "date            1969 non-null object\n",
      "wm_yr_wk        1969 non-null int64\n",
      "weekday         1969 non-null object\n",
      "wday            1969 non-null int64\n",
      "month           1969 non-null int64\n",
      "year            1969 non-null int64\n",
      "d               1969 non-null object\n",
      "event_name_1    162 non-null object\n",
      "event_type_1    162 non-null object\n",
      "event_name_2    5 non-null object\n",
      "event_type_2    5 non-null object\n",
      "snap_CA         1969 non-null int64\n",
      "snap_TX         1969 non-null int64\n",
      "snap_WI         1969 non-null int64\n",
      "dtypes: int64(7), object(7)\n",
      "memory usage: 215.5+ KB\n"
     ]
    }
   ],
   "source": [
    "print(f'shape: {calendar.shape}\\n')\n",
    "\n",
    "calendar.info()"
   ]
  },
  {
   "cell_type": "markdown",
   "metadata": {},
   "source": [
    "### Sweetviz"
   ]
  },
  {
   "cell_type": "code",
   "execution_count": 22,
   "metadata": {},
   "outputs": [
    {
     "data": {
      "application/vnd.jupyter.widget-view+json": {
       "model_id": "f1fbb367d4314d368ec467103beea0ed",
       "version_major": 2,
       "version_minor": 0
      },
      "text/plain": [
       "HBox(children=(FloatProgress(value=0.0, layout=Layout(flex='2'), max=15.0), HTML(value='')), layout=Layout(dis…"
      ]
     },
     "metadata": {},
     "output_type": "display_data"
    },
    {
     "name": "stdout",
     "output_type": "stream",
     "text": [
      "\n",
      "Report Calendar.html was generated! NOTEBOOK/COLAB USERS: the web browser MAY not pop up, regardless, the report IS saved in your notebook/colab files.\n"
     ]
    }
   ],
   "source": [
    "# quick eda by sweetViz\n",
    "calendar_report = sv.analyze(calendar)\n",
    "\n",
    "# display the report\n",
    "calendar_report.show_html('Calendar.html')\n"
   ]
  },
  {
   "cell_type": "markdown",
   "metadata": {},
   "source": [
    "# Create the melted dataframe for further analysis"
   ]
  },
  {
   "cell_type": "code",
   "execution_count": 14,
   "metadata": {},
   "outputs": [],
   "source": [
    "#Read data files\n",
    "price_df = load_sell_price_data()\n",
    "sales_df = load_sales_train_evaluation_data()"
   ]
  },
  {
   "cell_type": "code",
   "execution_count": 15,
   "metadata": {},
   "outputs": [],
   "source": [
    "#Create the melted dataframe\n",
    "df = hf.meltM5(sales_df, days = 730, items = 15000)"
   ]
  },
  {
   "cell_type": "code",
   "execution_count": 16,
   "metadata": {},
   "outputs": [],
   "source": [
    "#Join with calendar and price data\n",
    "df = hf.joinDataSets(df, calendar, price_df, dropPriceNA=False)"
   ]
  },
  {
   "cell_type": "markdown",
   "metadata": {},
   "source": [
    "Initial inspection of the raw data"
   ]
  },
  {
   "cell_type": "code",
   "execution_count": 17,
   "metadata": {},
   "outputs": [
    {
     "data": {
      "text/plain": [
       "(10950000, 22)"
      ]
     },
     "execution_count": 17,
     "metadata": {},
     "output_type": "execute_result"
    }
   ],
   "source": [
    "df.shape"
   ]
  },
  {
   "cell_type": "code",
   "execution_count": 18,
   "metadata": {},
   "outputs": [
    {
     "data": {
      "text/html": [
       "<div>\n",
       "<style scoped>\n",
       "    .dataframe tbody tr th:only-of-type {\n",
       "        vertical-align: middle;\n",
       "    }\n",
       "\n",
       "    .dataframe tbody tr th {\n",
       "        vertical-align: top;\n",
       "    }\n",
       "\n",
       "    .dataframe thead th {\n",
       "        text-align: right;\n",
       "    }\n",
       "</style>\n",
       "<table border=\"1\" class=\"dataframe\">\n",
       "  <thead>\n",
       "    <tr style=\"text-align: right;\">\n",
       "      <th></th>\n",
       "      <th>id</th>\n",
       "      <th>item_id</th>\n",
       "      <th>dept_id</th>\n",
       "      <th>cat_id</th>\n",
       "      <th>store_id</th>\n",
       "      <th>state_id</th>\n",
       "      <th>d</th>\n",
       "      <th>sold</th>\n",
       "      <th>date</th>\n",
       "      <th>wm_yr_wk</th>\n",
       "      <th>...</th>\n",
       "      <th>month</th>\n",
       "      <th>year</th>\n",
       "      <th>event_name_1</th>\n",
       "      <th>event_type_1</th>\n",
       "      <th>event_name_2</th>\n",
       "      <th>event_type_2</th>\n",
       "      <th>snap_CA</th>\n",
       "      <th>snap_TX</th>\n",
       "      <th>snap_WI</th>\n",
       "      <th>sell_price</th>\n",
       "    </tr>\n",
       "  </thead>\n",
       "  <tbody>\n",
       "    <tr>\n",
       "      <td>0</td>\n",
       "      <td>HOBBIES_1_162_TX_3_evaluation</td>\n",
       "      <td>HOBBIES_1_162</td>\n",
       "      <td>HOBBIES_1</td>\n",
       "      <td>HOBBIES</td>\n",
       "      <td>TX_3</td>\n",
       "      <td>TX</td>\n",
       "      <td>d_1</td>\n",
       "      <td>0</td>\n",
       "      <td>2011-01-29</td>\n",
       "      <td>11101</td>\n",
       "      <td>...</td>\n",
       "      <td>1</td>\n",
       "      <td>2011</td>\n",
       "      <td>NaN</td>\n",
       "      <td>NaN</td>\n",
       "      <td>NaN</td>\n",
       "      <td>NaN</td>\n",
       "      <td>0</td>\n",
       "      <td>0</td>\n",
       "      <td>0</td>\n",
       "      <td>NaN</td>\n",
       "    </tr>\n",
       "    <tr>\n",
       "      <td>1</td>\n",
       "      <td>FOODS_2_317_WI_1_evaluation</td>\n",
       "      <td>FOODS_2_317</td>\n",
       "      <td>FOODS_2</td>\n",
       "      <td>FOODS</td>\n",
       "      <td>WI_1</td>\n",
       "      <td>WI</td>\n",
       "      <td>d_1</td>\n",
       "      <td>1</td>\n",
       "      <td>2011-01-29</td>\n",
       "      <td>11101</td>\n",
       "      <td>...</td>\n",
       "      <td>1</td>\n",
       "      <td>2011</td>\n",
       "      <td>NaN</td>\n",
       "      <td>NaN</td>\n",
       "      <td>NaN</td>\n",
       "      <td>NaN</td>\n",
       "      <td>0</td>\n",
       "      <td>0</td>\n",
       "      <td>0</td>\n",
       "      <td>11.68</td>\n",
       "    </tr>\n",
       "    <tr>\n",
       "      <td>2</td>\n",
       "      <td>FOODS_1_022_WI_2_evaluation</td>\n",
       "      <td>FOODS_1_022</td>\n",
       "      <td>FOODS_1</td>\n",
       "      <td>FOODS</td>\n",
       "      <td>WI_2</td>\n",
       "      <td>WI</td>\n",
       "      <td>d_1</td>\n",
       "      <td>0</td>\n",
       "      <td>2011-01-29</td>\n",
       "      <td>11101</td>\n",
       "      <td>...</td>\n",
       "      <td>1</td>\n",
       "      <td>2011</td>\n",
       "      <td>NaN</td>\n",
       "      <td>NaN</td>\n",
       "      <td>NaN</td>\n",
       "      <td>NaN</td>\n",
       "      <td>0</td>\n",
       "      <td>0</td>\n",
       "      <td>0</td>\n",
       "      <td>NaN</td>\n",
       "    </tr>\n",
       "    <tr>\n",
       "      <td>3</td>\n",
       "      <td>FOODS_2_159_WI_2_evaluation</td>\n",
       "      <td>FOODS_2_159</td>\n",
       "      <td>FOODS_2</td>\n",
       "      <td>FOODS</td>\n",
       "      <td>WI_2</td>\n",
       "      <td>WI</td>\n",
       "      <td>d_1</td>\n",
       "      <td>0</td>\n",
       "      <td>2011-01-29</td>\n",
       "      <td>11101</td>\n",
       "      <td>...</td>\n",
       "      <td>1</td>\n",
       "      <td>2011</td>\n",
       "      <td>NaN</td>\n",
       "      <td>NaN</td>\n",
       "      <td>NaN</td>\n",
       "      <td>NaN</td>\n",
       "      <td>0</td>\n",
       "      <td>0</td>\n",
       "      <td>0</td>\n",
       "      <td>NaN</td>\n",
       "    </tr>\n",
       "    <tr>\n",
       "      <td>4</td>\n",
       "      <td>HOBBIES_1_348_CA_3_evaluation</td>\n",
       "      <td>HOBBIES_1_348</td>\n",
       "      <td>HOBBIES_1</td>\n",
       "      <td>HOBBIES</td>\n",
       "      <td>CA_3</td>\n",
       "      <td>CA</td>\n",
       "      <td>d_1</td>\n",
       "      <td>37</td>\n",
       "      <td>2011-01-29</td>\n",
       "      <td>11101</td>\n",
       "      <td>...</td>\n",
       "      <td>1</td>\n",
       "      <td>2011</td>\n",
       "      <td>NaN</td>\n",
       "      <td>NaN</td>\n",
       "      <td>NaN</td>\n",
       "      <td>NaN</td>\n",
       "      <td>0</td>\n",
       "      <td>0</td>\n",
       "      <td>0</td>\n",
       "      <td>0.46</td>\n",
       "    </tr>\n",
       "  </tbody>\n",
       "</table>\n",
       "<p>5 rows × 22 columns</p>\n",
       "</div>"
      ],
      "text/plain": [
       "                              id        item_id    dept_id   cat_id store_id  \\\n",
       "0  HOBBIES_1_162_TX_3_evaluation  HOBBIES_1_162  HOBBIES_1  HOBBIES     TX_3   \n",
       "1    FOODS_2_317_WI_1_evaluation    FOODS_2_317    FOODS_2    FOODS     WI_1   \n",
       "2    FOODS_1_022_WI_2_evaluation    FOODS_1_022    FOODS_1    FOODS     WI_2   \n",
       "3    FOODS_2_159_WI_2_evaluation    FOODS_2_159    FOODS_2    FOODS     WI_2   \n",
       "4  HOBBIES_1_348_CA_3_evaluation  HOBBIES_1_348  HOBBIES_1  HOBBIES     CA_3   \n",
       "\n",
       "  state_id    d  sold        date  wm_yr_wk  ... month  year  event_name_1  \\\n",
       "0       TX  d_1     0  2011-01-29     11101  ...     1  2011           NaN   \n",
       "1       WI  d_1     1  2011-01-29     11101  ...     1  2011           NaN   \n",
       "2       WI  d_1     0  2011-01-29     11101  ...     1  2011           NaN   \n",
       "3       WI  d_1     0  2011-01-29     11101  ...     1  2011           NaN   \n",
       "4       CA  d_1    37  2011-01-29     11101  ...     1  2011           NaN   \n",
       "\n",
       "   event_type_1 event_name_2 event_type_2 snap_CA snap_TX  snap_WI  sell_price  \n",
       "0           NaN          NaN          NaN       0       0        0         NaN  \n",
       "1           NaN          NaN          NaN       0       0        0       11.68  \n",
       "2           NaN          NaN          NaN       0       0        0         NaN  \n",
       "3           NaN          NaN          NaN       0       0        0         NaN  \n",
       "4           NaN          NaN          NaN       0       0        0        0.46  \n",
       "\n",
       "[5 rows x 22 columns]"
      ]
     },
     "execution_count": 18,
     "metadata": {},
     "output_type": "execute_result"
    }
   ],
   "source": [
    "df.head()"
   ]
  },
  {
   "cell_type": "code",
   "execution_count": 19,
   "metadata": {},
   "outputs": [
    {
     "data": {
      "text/html": [
       "<div>\n",
       "<style scoped>\n",
       "    .dataframe tbody tr th:only-of-type {\n",
       "        vertical-align: middle;\n",
       "    }\n",
       "\n",
       "    .dataframe tbody tr th {\n",
       "        vertical-align: top;\n",
       "    }\n",
       "\n",
       "    .dataframe thead th {\n",
       "        text-align: right;\n",
       "    }\n",
       "</style>\n",
       "<table border=\"1\" class=\"dataframe\">\n",
       "  <thead>\n",
       "    <tr style=\"text-align: right;\">\n",
       "      <th></th>\n",
       "      <th>sold</th>\n",
       "      <th>wm_yr_wk</th>\n",
       "      <th>wday</th>\n",
       "      <th>month</th>\n",
       "      <th>year</th>\n",
       "      <th>snap_CA</th>\n",
       "      <th>snap_TX</th>\n",
       "      <th>snap_WI</th>\n",
       "      <th>sell_price</th>\n",
       "    </tr>\n",
       "  </thead>\n",
       "  <tbody>\n",
       "    <tr>\n",
       "      <td>count</td>\n",
       "      <td>1.095000e+07</td>\n",
       "      <td>1.095000e+07</td>\n",
       "      <td>1.095000e+07</td>\n",
       "      <td>1.095000e+07</td>\n",
       "      <td>1.095000e+07</td>\n",
       "      <td>1.095000e+07</td>\n",
       "      <td>1.095000e+07</td>\n",
       "      <td>1.095000e+07</td>\n",
       "      <td>6.364247e+06</td>\n",
       "    </tr>\n",
       "    <tr>\n",
       "      <td>mean</td>\n",
       "      <td>9.639409e-01</td>\n",
       "      <td>1.117684e+04</td>\n",
       "      <td>3.993151e+00</td>\n",
       "      <td>6.527397e+00</td>\n",
       "      <td>2.011575e+03</td>\n",
       "      <td>3.287671e-01</td>\n",
       "      <td>3.287671e-01</td>\n",
       "      <td>3.287671e-01</td>\n",
       "      <td>4.370622e+00</td>\n",
       "    </tr>\n",
       "    <tr>\n",
       "      <td>std</td>\n",
       "      <td>3.815706e+00</td>\n",
       "      <td>5.253698e+01</td>\n",
       "      <td>2.001700e+00</td>\n",
       "      <td>3.445854e+00</td>\n",
       "      <td>5.641774e-01</td>\n",
       "      <td>4.697652e-01</td>\n",
       "      <td>4.697652e-01</td>\n",
       "      <td>4.697652e-01</td>\n",
       "      <td>3.226665e+00</td>\n",
       "    </tr>\n",
       "    <tr>\n",
       "      <td>min</td>\n",
       "      <td>0.000000e+00</td>\n",
       "      <td>1.110100e+04</td>\n",
       "      <td>1.000000e+00</td>\n",
       "      <td>1.000000e+00</td>\n",
       "      <td>2.011000e+03</td>\n",
       "      <td>0.000000e+00</td>\n",
       "      <td>0.000000e+00</td>\n",
       "      <td>0.000000e+00</td>\n",
       "      <td>5.000000e-02</td>\n",
       "    </tr>\n",
       "    <tr>\n",
       "      <td>25%</td>\n",
       "      <td>0.000000e+00</td>\n",
       "      <td>1.112700e+04</td>\n",
       "      <td>2.000000e+00</td>\n",
       "      <td>4.000000e+00</td>\n",
       "      <td>2.011000e+03</td>\n",
       "      <td>0.000000e+00</td>\n",
       "      <td>0.000000e+00</td>\n",
       "      <td>0.000000e+00</td>\n",
       "      <td>2.000000e+00</td>\n",
       "    </tr>\n",
       "    <tr>\n",
       "      <td>50%</td>\n",
       "      <td>0.000000e+00</td>\n",
       "      <td>1.120100e+04</td>\n",
       "      <td>4.000000e+00</td>\n",
       "      <td>7.000000e+00</td>\n",
       "      <td>2.012000e+03</td>\n",
       "      <td>0.000000e+00</td>\n",
       "      <td>0.000000e+00</td>\n",
       "      <td>0.000000e+00</td>\n",
       "      <td>3.480000e+00</td>\n",
       "    </tr>\n",
       "    <tr>\n",
       "      <td>75%</td>\n",
       "      <td>1.000000e+00</td>\n",
       "      <td>1.122700e+04</td>\n",
       "      <td>6.000000e+00</td>\n",
       "      <td>1.000000e+01</td>\n",
       "      <td>2.012000e+03</td>\n",
       "      <td>1.000000e+00</td>\n",
       "      <td>1.000000e+00</td>\n",
       "      <td>1.000000e+00</td>\n",
       "      <td>5.880000e+00</td>\n",
       "    </tr>\n",
       "    <tr>\n",
       "      <td>max</td>\n",
       "      <td>4.800000e+02</td>\n",
       "      <td>1.130100e+04</td>\n",
       "      <td>7.000000e+00</td>\n",
       "      <td>1.200000e+01</td>\n",
       "      <td>2.013000e+03</td>\n",
       "      <td>1.000000e+00</td>\n",
       "      <td>1.000000e+00</td>\n",
       "      <td>1.000000e+00</td>\n",
       "      <td>6.146000e+01</td>\n",
       "    </tr>\n",
       "  </tbody>\n",
       "</table>\n",
       "</div>"
      ],
      "text/plain": [
       "               sold      wm_yr_wk          wday         month          year  \\\n",
       "count  1.095000e+07  1.095000e+07  1.095000e+07  1.095000e+07  1.095000e+07   \n",
       "mean   9.639409e-01  1.117684e+04  3.993151e+00  6.527397e+00  2.011575e+03   \n",
       "std    3.815706e+00  5.253698e+01  2.001700e+00  3.445854e+00  5.641774e-01   \n",
       "min    0.000000e+00  1.110100e+04  1.000000e+00  1.000000e+00  2.011000e+03   \n",
       "25%    0.000000e+00  1.112700e+04  2.000000e+00  4.000000e+00  2.011000e+03   \n",
       "50%    0.000000e+00  1.120100e+04  4.000000e+00  7.000000e+00  2.012000e+03   \n",
       "75%    1.000000e+00  1.122700e+04  6.000000e+00  1.000000e+01  2.012000e+03   \n",
       "max    4.800000e+02  1.130100e+04  7.000000e+00  1.200000e+01  2.013000e+03   \n",
       "\n",
       "            snap_CA       snap_TX       snap_WI    sell_price  \n",
       "count  1.095000e+07  1.095000e+07  1.095000e+07  6.364247e+06  \n",
       "mean   3.287671e-01  3.287671e-01  3.287671e-01  4.370622e+00  \n",
       "std    4.697652e-01  4.697652e-01  4.697652e-01  3.226665e+00  \n",
       "min    0.000000e+00  0.000000e+00  0.000000e+00  5.000000e-02  \n",
       "25%    0.000000e+00  0.000000e+00  0.000000e+00  2.000000e+00  \n",
       "50%    0.000000e+00  0.000000e+00  0.000000e+00  3.480000e+00  \n",
       "75%    1.000000e+00  1.000000e+00  1.000000e+00  5.880000e+00  \n",
       "max    1.000000e+00  1.000000e+00  1.000000e+00  6.146000e+01  "
      ]
     },
     "execution_count": 19,
     "metadata": {},
     "output_type": "execute_result"
    }
   ],
   "source": [
    "df.describe()"
   ]
  },
  {
   "cell_type": "code",
   "execution_count": 20,
   "metadata": {},
   "outputs": [
    {
     "name": "stdout",
     "output_type": "stream",
     "text": [
      "<class 'pandas.core.frame.DataFrame'>\n",
      "Int64Index: 10950000 entries, 0 to 10949999\n",
      "Data columns (total 22 columns):\n",
      "id              object\n",
      "item_id         object\n",
      "dept_id         object\n",
      "cat_id          object\n",
      "store_id        object\n",
      "state_id        object\n",
      "d               object\n",
      "sold            int64\n",
      "date            object\n",
      "wm_yr_wk        int64\n",
      "weekday         object\n",
      "wday            int64\n",
      "month           int64\n",
      "year            int64\n",
      "event_name_1    object\n",
      "event_type_1    object\n",
      "event_name_2    object\n",
      "event_type_2    object\n",
      "snap_CA         int64\n",
      "snap_TX         int64\n",
      "snap_WI         int64\n",
      "sell_price      float64\n",
      "dtypes: float64(1), int64(8), object(13)\n",
      "memory usage: 1.9+ GB\n"
     ]
    }
   ],
   "source": [
    "df.info()"
   ]
  },
  {
   "cell_type": "code",
   "execution_count": 21,
   "metadata": {},
   "outputs": [
    {
     "name": "stdout",
     "output_type": "stream",
     "text": [
      "Percentage of products that are not on sale:  41.87902283105023\n"
     ]
    }
   ],
   "source": [
    "#These are likely seasonal products, such as xmas trees, or brussel sprouts\n",
    "print(\"Percentage of products that are not on sale: \", df['sell_price'].isna().sum() / len(df['sell_price']) * 100)"
   ]
  },
  {
   "cell_type": "code",
   "execution_count": 28,
   "metadata": {},
   "outputs": [],
   "source": [
    "###Finding yearly trends for different product categories\n",
    "group = df[['cat_id','d','sold']].groupby(['cat_id','d'], as_index=False).sum()"
   ]
  },
  {
   "cell_type": "code",
   "execution_count": 47,
   "metadata": {},
   "outputs": [
    {
     "data": {
      "image/png": "[encoded data removed]",
      "text/plain": [
       "<Figure size 432x288 with 1 Axes>"
      ]
     },
     "metadata": {
      "needs_background": "light"
     },
     "output_type": "display_data"
    }
   ],
   "source": [
    "foods = np.array(group[group['cat_id']=='FOODS']['sold'])\n",
    "hobbies = np.array(group[group['cat_id']=='HOBBIES']['sold'])\n",
    "households = np.array(group[group['cat_id']=='HOUSEHOLD']['sold'])\n",
    "days = np.array(list(range(1, 731)))\n",
    "\n",
    "plt.plot(days, foods, label='Foods')\n",
    "plt.plot(days, hobbies, label='Hobbies')\n",
    "plt.plot(days, households, label='Household')\n",
    "plt.legend()\n",
    "plt.xlabel('Day')\n",
    "plt.ylabel('Items Sold')\n",
    "plt.title('Time Series Plot of Items Sold')\n",
    "plt.show()"
   ]
  },
  {
   "cell_type": "code",
   "execution_count": null,
   "metadata": {},
   "outputs": [],
   "source": []
  }
 ],
 "metadata": {
  "kernelspec": {
   "display_name": "Python 3",
   "language": "python",
   "name": "python3"
  },
  "language_info": {
   "codemirror_mode": {
    "name": "ipython",
    "version": 3
   },
   "file_extension": ".py",
   "mimetype": "text/x-python",
   "name": "python",
   "nbconvert_exporter": "python",
   "pygments_lexer": "ipython3",
   "version": "3.7.4"
  }
 },
 "nbformat": 4,
 "nbformat_minor": 4
}
