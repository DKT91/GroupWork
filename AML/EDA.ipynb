{
 "cells": [
  {
   "cell_type": "code",
   "execution_count": 1,
   "metadata": {},
   "outputs": [],
   "source": [
    "import numpy as np\n",
    "import pandas as pd\n",
    "import sklearn\n",
    "import matplotlib as mpl\n",
    "import matplotlib.pyplot as plt\n",
    "import seaborn as sns\n",
    "import sweetviz as sv\n",
    "import HelperFunctions as hf\n",
    "import os \n",
    "import tarfile\n",
    "import zipfile\n"
   ]
  },
  {
   "cell_type": "markdown",
   "metadata": {},
   "source": [
    "# Overview\n",
    "\n",
    "[M5 forecasting challenge](https://www.kaggle.com/c/m5-forecasting-accuracy/data)\n",
    "\n",
    "\n",
    "## Data Description\n",
    "\n",
    "- `calendar.csv` - Contains information about the dates on which the products are sold.\n",
    "\n",
    "- `sales_train_validation.csv` - Contains the historical daily unit sales data per product and store `[d_1 - d_1913]`\n",
    "\n",
    "- `sell_prices.csv` - Contains information about the price of the products sold per store and date.\n",
    "\n",
    "- `sample_submission.csv` - The correct format for submissions. Reference the [Evaluation](https://www.kaggle.com/c/m5-forecasting-accuracy/overview/evaluation) tab for more info.\n",
    "\n",
    "- `sales_train_evaluation.csv` - Includes sales `[d_1 - d_1941]` (labels used for the Public leaderboard)\n",
    "\n",
    "\n",
    "## Task\n",
    "\n",
    "- Forecast daily sales for the next 28 days\n",
    "\n"
   ]
  },
  {
   "cell_type": "markdown",
   "metadata": {},
   "source": [
    "# 1. Download the Data"
   ]
  },
  {
   "cell_type": "code",
   "execution_count": 2,
   "metadata": {},
   "outputs": [
    {
     "name": "stdout",
     "output_type": "stream",
     "text": [
      "Warning: Your Kaggle API key is readable by other users on this system! To fix this, you can run 'chmod 600 /Users/mattwear/.kaggle/kaggle.json'\n",
      "Downloading m5-forecasting-accuracy.zip to data\n",
      "\n"
     ]
    },
    {
     "name": "stderr",
     "output_type": "stream",
     "text": [
      "\r",
      "  0%|          | 0.00/45.8M [00:00<?, ?B/s]\r",
      "  2%|▏         | 1.00M/45.8M [00:00<00:10, 4.47MB/s]\r",
      "  4%|▍         | 2.00M/45.8M [00:00<00:08, 5.24MB/s]\r",
      "  7%|▋         | 3.00M/45.8M [00:00<00:07, 5.78MB/s]\r",
      "  9%|▊         | 4.00M/45.8M [00:00<00:07, 6.07MB/s]\r",
      " 11%|█         | 5.00M/45.8M [00:00<00:06, 6.48MB/s]\r",
      " 13%|█▎        | 6.00M/45.8M [00:00<00:06, 6.33MB/s]\r",
      " 15%|█▌        | 7.00M/45.8M [00:01<00:05, 6.93MB/s]\r",
      " 17%|█▋        | 8.00M/45.8M [00:01<00:05, 7.29MB/s]\r",
      " 20%|█▉        | 9.00M/45.8M [00:01<00:05, 6.99MB/s]\r",
      " 22%|██▏       | 10.0M/45.8M [00:01<00:05, 6.50MB/s]\r",
      " 24%|██▍       | 11.0M/45.8M [00:01<00:05, 7.06MB/s]\r",
      " 26%|██▌       | 12.0M/45.8M [00:01<00:05, 6.29MB/s]\r",
      " 28%|██▊       | 13.0M/45.8M [00:02<00:06, 5.27MB/s]\r",
      " 31%|███       | 14.0M/45.8M [00:02<00:05, 5.82MB/s]\r",
      " 33%|███▎      | 15.0M/45.8M [00:02<00:05, 6.28MB/s]\r",
      " 35%|███▍      | 16.0M/45.8M [00:02<00:05, 6.02MB/s]\r",
      " 37%|███▋      | 17.0M/45.8M [00:02<00:05, 6.01MB/s]\r",
      " 41%|████▏     | 19.0M/45.8M [00:03<00:04, 6.67MB/s]\r",
      " 44%|████▎     | 20.0M/45.8M [00:03<00:04, 6.56MB/s]\r",
      " 46%|████▌     | 21.0M/45.8M [00:03<00:03, 6.67MB/s]\r",
      " 48%|████▊     | 22.0M/45.8M [00:03<00:04, 5.63MB/s]\r",
      " 50%|█████     | 23.0M/45.8M [00:03<00:04, 5.94MB/s]\r",
      " 52%|█████▏    | 24.0M/45.8M [00:04<00:05, 4.53MB/s]\r",
      " 55%|█████▍    | 25.0M/45.8M [00:04<00:04, 5.00MB/s]\r",
      " 57%|█████▋    | 26.0M/45.8M [00:04<00:03, 5.45MB/s]\r",
      " 59%|█████▉    | 27.0M/45.8M [00:04<00:03, 5.73MB/s]\r",
      " 61%|██████    | 28.0M/45.8M [00:04<00:03, 4.99MB/s]\r",
      " 63%|██████▎   | 29.0M/45.8M [00:05<00:03, 5.33MB/s]\r",
      " 66%|██████▌   | 30.0M/45.8M [00:05<00:02, 5.65MB/s]\r",
      " 68%|██████▊   | 31.0M/45.8M [00:05<00:03, 5.10MB/s]\r",
      " 70%|██████▉   | 32.0M/45.8M [00:05<00:02, 5.54MB/s]\r",
      " 72%|███████▏  | 33.0M/45.8M [00:05<00:02, 5.76MB/s]\r",
      " 74%|███████▍  | 34.0M/45.8M [00:05<00:01, 6.24MB/s]\r",
      " 76%|███████▋  | 35.0M/45.8M [00:06<00:01, 6.30MB/s]\r",
      " 79%|███████▊  | 36.0M/45.8M [00:06<00:01, 6.59MB/s]\r",
      " 81%|████████  | 37.0M/45.8M [00:06<00:01, 7.04MB/s]\r",
      " 83%|████████▎ | 38.0M/45.8M [00:06<00:01, 6.44MB/s]\r",
      " 85%|████████▌ | 39.0M/45.8M [00:06<00:01, 6.25MB/s]\r",
      " 87%|████████▋ | 40.0M/45.8M [00:06<00:00, 6.76MB/s]\r",
      " 90%|████████▉ | 41.0M/45.8M [00:07<00:00, 5.53MB/s]\r",
      " 92%|█████████▏| 42.0M/45.8M [00:07<00:00, 4.30MB/s]\r",
      " 94%|█████████▍| 43.0M/45.8M [00:07<00:00, 4.12MB/s]\r",
      " 96%|█████████▌| 44.0M/45.8M [00:07<00:00, 4.29MB/s]\r",
      " 98%|█████████▊| 45.0M/45.8M [00:08<00:00, 4.85MB/s]\r",
      "100%|██████████| 45.8M/45.8M [00:08<00:00, 4.69MB/s]\r",
      "100%|██████████| 45.8M/45.8M [00:08<00:00, 5.78MB/s]\n"
     ]
    }
   ],
   "source": [
    "%%bash\n",
    "\n",
    "kaggle competitions download m5-forecasting-accuracy -p data\n"
   ]
  },
  {
   "cell_type": "code",
   "execution_count": 3,
   "metadata": {},
   "outputs": [
    {
     "name": "stdout",
     "output_type": "stream",
     "text": [
      "['calendar.csv', 'sales_train_evaluation.csv', 'sales_train_validation.csv', 'sample_submission.csv', 'sell_prices.csv']\n"
     ]
    }
   ],
   "source": [
    "def fetch_walmat_data():\n",
    "    zip_path = os.path.join('data', 'm5-forecasting-accuracy.zip')    \n",
    "    \n",
    "    with zipfile.ZipFile(zip_path, 'r') as zip_ref:\n",
    "        zip_ref.extractall('data')\n",
    "    \n",
    "    print(zip_ref.namelist())\n",
    "\n",
    "fetch_walmat_data()\n"
   ]
  },
  {
   "cell_type": "markdown",
   "metadata": {},
   "source": [
    "# 2. Read the Data"
   ]
  },
  {
   "cell_type": "code",
   "execution_count": 4,
   "metadata": {},
   "outputs": [],
   "source": [
    "def load_calendar_data():    \n",
    "    csv_path = os.path.join('data', 'calendar.csv')\n",
    "    return pd.read_csv(csv_path)\n",
    "\n",
    "\n",
    "def load_sell_price_data():\n",
    "    csv_path = os.path.join('data', 'sell_prices.csv')\n",
    "    return pd.read_csv(csv_path)\n",
    "\n",
    "\n",
    "def load_sales_train_validation_data():\n",
    "    csv_path = os.path.join('data', 'sales_train_validation.csv')\n",
    "    return pd.read_csv(csv_path)\n",
    "\n",
    "\n",
    "def load_sales_train_evaluation_data():\n",
    "    csv_path = os.path.join('data', 'sales_train_evaluation.csv')\n",
    "    return pd.read_csv(csv_path)\n"
   ]
  },
  {
   "cell_type": "markdown",
   "metadata": {},
   "source": [
    "## 2.1 Read Calendar"
   ]
  },
  {
   "cell_type": "code",
   "execution_count": 5,
   "metadata": {},
   "outputs": [
    {
     "data": {
      "text/html": [
       "<div>\n",
       "<style scoped>\n",
       "    .dataframe tbody tr th:only-of-type {\n",
       "        vertical-align: middle;\n",
       "    }\n",
       "\n",
       "    .dataframe tbody tr th {\n",
       "        vertical-align: top;\n",
       "    }\n",
       "\n",
       "    .dataframe thead th {\n",
       "        text-align: right;\n",
       "    }\n",
       "</style>\n",
       "<table border=\"1\" class=\"dataframe\">\n",
       "  <thead>\n",
       "    <tr style=\"text-align: right;\">\n",
       "      <th></th>\n",
       "      <th>date</th>\n",
       "      <th>wm_yr_wk</th>\n",
       "      <th>weekday</th>\n",
       "      <th>wday</th>\n",
       "      <th>month</th>\n",
       "      <th>year</th>\n",
       "      <th>d</th>\n",
       "      <th>event_name_1</th>\n",
       "      <th>event_type_1</th>\n",
       "      <th>event_name_2</th>\n",
       "      <th>event_type_2</th>\n",
       "      <th>snap_CA</th>\n",
       "      <th>snap_TX</th>\n",
       "      <th>snap_WI</th>\n",
       "    </tr>\n",
       "  </thead>\n",
       "  <tbody>\n",
       "    <tr>\n",
       "      <td>0</td>\n",
       "      <td>2011-01-29</td>\n",
       "      <td>11101</td>\n",
       "      <td>Saturday</td>\n",
       "      <td>1</td>\n",
       "      <td>1</td>\n",
       "      <td>2011</td>\n",
       "      <td>d_1</td>\n",
       "      <td>NaN</td>\n",
       "      <td>NaN</td>\n",
       "      <td>NaN</td>\n",
       "      <td>NaN</td>\n",
       "      <td>0</td>\n",
       "      <td>0</td>\n",
       "      <td>0</td>\n",
       "    </tr>\n",
       "    <tr>\n",
       "      <td>1</td>\n",
       "      <td>2011-01-30</td>\n",
       "      <td>11101</td>\n",
       "      <td>Sunday</td>\n",
       "      <td>2</td>\n",
       "      <td>1</td>\n",
       "      <td>2011</td>\n",
       "      <td>d_2</td>\n",
       "      <td>NaN</td>\n",
       "      <td>NaN</td>\n",
       "      <td>NaN</td>\n",
       "      <td>NaN</td>\n",
       "      <td>0</td>\n",
       "      <td>0</td>\n",
       "      <td>0</td>\n",
       "    </tr>\n",
       "    <tr>\n",
       "      <td>2</td>\n",
       "      <td>2011-01-31</td>\n",
       "      <td>11101</td>\n",
       "      <td>Monday</td>\n",
       "      <td>3</td>\n",
       "      <td>1</td>\n",
       "      <td>2011</td>\n",
       "      <td>d_3</td>\n",
       "      <td>NaN</td>\n",
       "      <td>NaN</td>\n",
       "      <td>NaN</td>\n",
       "      <td>NaN</td>\n",
       "      <td>0</td>\n",
       "      <td>0</td>\n",
       "      <td>0</td>\n",
       "    </tr>\n",
       "    <tr>\n",
       "      <td>3</td>\n",
       "      <td>2011-02-01</td>\n",
       "      <td>11101</td>\n",
       "      <td>Tuesday</td>\n",
       "      <td>4</td>\n",
       "      <td>2</td>\n",
       "      <td>2011</td>\n",
       "      <td>d_4</td>\n",
       "      <td>NaN</td>\n",
       "      <td>NaN</td>\n",
       "      <td>NaN</td>\n",
       "      <td>NaN</td>\n",
       "      <td>1</td>\n",
       "      <td>1</td>\n",
       "      <td>0</td>\n",
       "    </tr>\n",
       "    <tr>\n",
       "      <td>4</td>\n",
       "      <td>2011-02-02</td>\n",
       "      <td>11101</td>\n",
       "      <td>Wednesday</td>\n",
       "      <td>5</td>\n",
       "      <td>2</td>\n",
       "      <td>2011</td>\n",
       "      <td>d_5</td>\n",
       "      <td>NaN</td>\n",
       "      <td>NaN</td>\n",
       "      <td>NaN</td>\n",
       "      <td>NaN</td>\n",
       "      <td>1</td>\n",
       "      <td>0</td>\n",
       "      <td>1</td>\n",
       "    </tr>\n",
       "  </tbody>\n",
       "</table>\n",
       "</div>"
      ],
      "text/plain": [
       "         date  wm_yr_wk    weekday  wday  month  year    d event_name_1  \\\n",
       "0  2011-01-29     11101   Saturday     1      1  2011  d_1          NaN   \n",
       "1  2011-01-30     11101     Sunday     2      1  2011  d_2          NaN   \n",
       "2  2011-01-31     11101     Monday     3      1  2011  d_3          NaN   \n",
       "3  2011-02-01     11101    Tuesday     4      2  2011  d_4          NaN   \n",
       "4  2011-02-02     11101  Wednesday     5      2  2011  d_5          NaN   \n",
       "\n",
       "  event_type_1 event_name_2 event_type_2  snap_CA  snap_TX  snap_WI  \n",
       "0          NaN          NaN          NaN        0        0        0  \n",
       "1          NaN          NaN          NaN        0        0        0  \n",
       "2          NaN          NaN          NaN        0        0        0  \n",
       "3          NaN          NaN          NaN        1        1        0  \n",
       "4          NaN          NaN          NaN        1        0        1  "
      ]
     },
     "execution_count": 5,
     "metadata": {},
     "output_type": "execute_result"
    }
   ],
   "source": [
    "calendar = load_calendar_data()\n",
    "calendar.head()\n"
   ]
  },
  {
   "cell_type": "code",
   "execution_count": 6,
   "metadata": {},
   "outputs": [
    {
     "name": "stdout",
     "output_type": "stream",
     "text": [
      "shape: (1969, 14)\n",
      "\n",
      "<class 'pandas.core.frame.DataFrame'>\n",
      "RangeIndex: 1969 entries, 0 to 1968\n",
      "Data columns (total 14 columns):\n",
      "date            1969 non-null object\n",
      "wm_yr_wk        1969 non-null int64\n",
      "weekday         1969 non-null object\n",
      "wday            1969 non-null int64\n",
      "month           1969 non-null int64\n",
      "year            1969 non-null int64\n",
      "d               1969 non-null object\n",
      "event_name_1    162 non-null object\n",
      "event_type_1    162 non-null object\n",
      "event_name_2    5 non-null object\n",
      "event_type_2    5 non-null object\n",
      "snap_CA         1969 non-null int64\n",
      "snap_TX         1969 non-null int64\n",
      "snap_WI         1969 non-null int64\n",
      "dtypes: int64(7), object(7)\n",
      "memory usage: 215.5+ KB\n"
     ]
    }
   ],
   "source": [
    "print(f'shape: {calendar.shape}\\n')\n",
    "\n",
    "calendar.info()"
   ]
  },
  {
   "cell_type": "markdown",
   "metadata": {},
   "source": [
    "### Sweetviz"
   ]
  },
  {
   "cell_type": "code",
   "execution_count": 22,
   "metadata": {},
   "outputs": [
    {
     "data": {
      "application/vnd.jupyter.widget-view+json": {
       "model_id": "f1fbb367d4314d368ec467103beea0ed",
       "version_major": 2,
       "version_minor": 0
      },
      "text/plain": [
       "HBox(children=(FloatProgress(value=0.0, layout=Layout(flex='2'), max=15.0), HTML(value='')), layout=Layout(dis…"
      ]
     },
     "metadata": {},
     "output_type": "display_data"
    },
    {
     "name": "stdout",
     "output_type": "stream",
     "text": [
      "\n",
      "Report Calendar.html was generated! NOTEBOOK/COLAB USERS: the web browser MAY not pop up, regardless, the report IS saved in your notebook/colab files.\n"
     ]
    }
   ],
   "source": [
    "# quick eda by sweetViz\n",
    "calendar_report = sv.analyze(calendar)\n",
    "\n",
    "# display the report\n",
    "calendar_report.show_html('Calendar.html')\n"
   ]
  },
  {
   "cell_type": "markdown",
   "metadata": {},
   "source": [
    "# Create the melted dataframe for further analysis"
   ]
  },
  {
   "cell_type": "code",
   "execution_count": 7,
   "metadata": {},
   "outputs": [],
   "source": [
    "#Read data files\n",
    "price_df = load_sell_price_data()\n",
    "sales_df = load_sales_train_evaluation_data()"
   ]
  },
  {
   "cell_type": "code",
   "execution_count": 35,
   "metadata": {},
   "outputs": [],
   "source": [
    "#Create the melted dataframe\n",
    "df = hf.meltM5(sales_df, days = 730, items = 15000)"
   ]
  },
  {
   "cell_type": "code",
   "execution_count": 36,
   "metadata": {},
   "outputs": [],
   "source": [
    "#Join with calendar and price data\n",
    "df = hf.joinDataSets(df, calendar, price_df, dropPriceNA=False)"
   ]
  },
  {
   "cell_type": "markdown",
   "metadata": {},
   "source": [
    "Initial inspection of the raw data"
   ]
  },
  {
   "cell_type": "code",
   "execution_count": 37,
   "metadata": {},
   "outputs": [
    {
     "data": {
      "text/plain": [
       "(6392217, 22)"
      ]
     },
     "execution_count": 37,
     "metadata": {},
     "output_type": "execute_result"
    }
   ],
   "source": [
    "df.shape"
   ]
  },
  {
   "cell_type": "code",
   "execution_count": 38,
   "metadata": {
    "scrolled": true
   },
   "outputs": [
    {
     "data": {
      "text/html": [
       "<div>\n",
       "<style scoped>\n",
       "    .dataframe tbody tr th:only-of-type {\n",
       "        vertical-align: middle;\n",
       "    }\n",
       "\n",
       "    .dataframe tbody tr th {\n",
       "        vertical-align: top;\n",
       "    }\n",
       "\n",
       "    .dataframe thead th {\n",
       "        text-align: right;\n",
       "    }\n",
       "</style>\n",
       "<table border=\"1\" class=\"dataframe\">\n",
       "  <thead>\n",
       "    <tr style=\"text-align: right;\">\n",
       "      <th></th>\n",
       "      <th>id</th>\n",
       "      <th>item_id</th>\n",
       "      <th>dept_id</th>\n",
       "      <th>cat_id</th>\n",
       "      <th>store_id</th>\n",
       "      <th>state_id</th>\n",
       "      <th>d</th>\n",
       "      <th>sold</th>\n",
       "      <th>date</th>\n",
       "      <th>wm_yr_wk</th>\n",
       "      <th>...</th>\n",
       "      <th>month</th>\n",
       "      <th>year</th>\n",
       "      <th>event_name_1</th>\n",
       "      <th>event_type_1</th>\n",
       "      <th>event_name_2</th>\n",
       "      <th>event_type_2</th>\n",
       "      <th>snap_CA</th>\n",
       "      <th>snap_TX</th>\n",
       "      <th>snap_WI</th>\n",
       "      <th>sell_price</th>\n",
       "    </tr>\n",
       "  </thead>\n",
       "  <tbody>\n",
       "    <tr>\n",
       "      <td>3</td>\n",
       "      <td>FOODS_3_504_CA_1_evaluation</td>\n",
       "      <td>FOODS_3_504</td>\n",
       "      <td>FOODS_3</td>\n",
       "      <td>FOODS</td>\n",
       "      <td>CA_1</td>\n",
       "      <td>CA</td>\n",
       "      <td>d_1</td>\n",
       "      <td>5</td>\n",
       "      <td>2011-01-29</td>\n",
       "      <td>11101</td>\n",
       "      <td>...</td>\n",
       "      <td>1</td>\n",
       "      <td>2011</td>\n",
       "      <td>NaN</td>\n",
       "      <td>NaN</td>\n",
       "      <td>NaN</td>\n",
       "      <td>NaN</td>\n",
       "      <td>0</td>\n",
       "      <td>0</td>\n",
       "      <td>0</td>\n",
       "      <td>1.00</td>\n",
       "    </tr>\n",
       "    <tr>\n",
       "      <td>5</td>\n",
       "      <td>FOODS_1_101_TX_1_evaluation</td>\n",
       "      <td>FOODS_1_101</td>\n",
       "      <td>FOODS_1</td>\n",
       "      <td>FOODS</td>\n",
       "      <td>TX_1</td>\n",
       "      <td>TX</td>\n",
       "      <td>d_1</td>\n",
       "      <td>0</td>\n",
       "      <td>2011-01-29</td>\n",
       "      <td>11101</td>\n",
       "      <td>...</td>\n",
       "      <td>1</td>\n",
       "      <td>2011</td>\n",
       "      <td>NaN</td>\n",
       "      <td>NaN</td>\n",
       "      <td>NaN</td>\n",
       "      <td>NaN</td>\n",
       "      <td>0</td>\n",
       "      <td>0</td>\n",
       "      <td>0</td>\n",
       "      <td>1.97</td>\n",
       "    </tr>\n",
       "    <tr>\n",
       "      <td>9</td>\n",
       "      <td>FOODS_3_230_TX_2_evaluation</td>\n",
       "      <td>FOODS_3_230</td>\n",
       "      <td>FOODS_3</td>\n",
       "      <td>FOODS</td>\n",
       "      <td>TX_2</td>\n",
       "      <td>TX</td>\n",
       "      <td>d_1</td>\n",
       "      <td>5</td>\n",
       "      <td>2011-01-29</td>\n",
       "      <td>11101</td>\n",
       "      <td>...</td>\n",
       "      <td>1</td>\n",
       "      <td>2011</td>\n",
       "      <td>NaN</td>\n",
       "      <td>NaN</td>\n",
       "      <td>NaN</td>\n",
       "      <td>NaN</td>\n",
       "      <td>0</td>\n",
       "      <td>0</td>\n",
       "      <td>0</td>\n",
       "      <td>3.26</td>\n",
       "    </tr>\n",
       "    <tr>\n",
       "      <td>10</td>\n",
       "      <td>HOUSEHOLD_1_126_CA_3_evaluation</td>\n",
       "      <td>HOUSEHOLD_1_126</td>\n",
       "      <td>HOUSEHOLD_1</td>\n",
       "      <td>HOUSEHOLD</td>\n",
       "      <td>CA_3</td>\n",
       "      <td>CA</td>\n",
       "      <td>d_1</td>\n",
       "      <td>0</td>\n",
       "      <td>2011-01-29</td>\n",
       "      <td>11101</td>\n",
       "      <td>...</td>\n",
       "      <td>1</td>\n",
       "      <td>2011</td>\n",
       "      <td>NaN</td>\n",
       "      <td>NaN</td>\n",
       "      <td>NaN</td>\n",
       "      <td>NaN</td>\n",
       "      <td>0</td>\n",
       "      <td>0</td>\n",
       "      <td>0</td>\n",
       "      <td>7.97</td>\n",
       "    </tr>\n",
       "    <tr>\n",
       "      <td>11</td>\n",
       "      <td>FOODS_2_153_CA_4_evaluation</td>\n",
       "      <td>FOODS_2_153</td>\n",
       "      <td>FOODS_2</td>\n",
       "      <td>FOODS</td>\n",
       "      <td>CA_4</td>\n",
       "      <td>CA</td>\n",
       "      <td>d_1</td>\n",
       "      <td>1</td>\n",
       "      <td>2011-01-29</td>\n",
       "      <td>11101</td>\n",
       "      <td>...</td>\n",
       "      <td>1</td>\n",
       "      <td>2011</td>\n",
       "      <td>NaN</td>\n",
       "      <td>NaN</td>\n",
       "      <td>NaN</td>\n",
       "      <td>NaN</td>\n",
       "      <td>0</td>\n",
       "      <td>0</td>\n",
       "      <td>0</td>\n",
       "      <td>2.73</td>\n",
       "    </tr>\n",
       "  </tbody>\n",
       "</table>\n",
       "<p>5 rows × 22 columns</p>\n",
       "</div>"
      ],
      "text/plain": [
       "                                 id          item_id      dept_id     cat_id  \\\n",
       "3       FOODS_3_504_CA_1_evaluation      FOODS_3_504      FOODS_3      FOODS   \n",
       "5       FOODS_1_101_TX_1_evaluation      FOODS_1_101      FOODS_1      FOODS   \n",
       "9       FOODS_3_230_TX_2_evaluation      FOODS_3_230      FOODS_3      FOODS   \n",
       "10  HOUSEHOLD_1_126_CA_3_evaluation  HOUSEHOLD_1_126  HOUSEHOLD_1  HOUSEHOLD   \n",
       "11      FOODS_2_153_CA_4_evaluation      FOODS_2_153      FOODS_2      FOODS   \n",
       "\n",
       "   store_id state_id    d  sold        date  wm_yr_wk  ... month  year  \\\n",
       "3      CA_1       CA  d_1     5  2011-01-29     11101  ...     1  2011   \n",
       "5      TX_1       TX  d_1     0  2011-01-29     11101  ...     1  2011   \n",
       "9      TX_2       TX  d_1     5  2011-01-29     11101  ...     1  2011   \n",
       "10     CA_3       CA  d_1     0  2011-01-29     11101  ...     1  2011   \n",
       "11     CA_4       CA  d_1     1  2011-01-29     11101  ...     1  2011   \n",
       "\n",
       "    event_name_1  event_type_1 event_name_2 event_type_2 snap_CA snap_TX  \\\n",
       "3            NaN           NaN          NaN          NaN       0       0   \n",
       "5            NaN           NaN          NaN          NaN       0       0   \n",
       "9            NaN           NaN          NaN          NaN       0       0   \n",
       "10           NaN           NaN          NaN          NaN       0       0   \n",
       "11           NaN           NaN          NaN          NaN       0       0   \n",
       "\n",
       "    snap_WI  sell_price  \n",
       "3         0        1.00  \n",
       "5         0        1.97  \n",
       "9         0        3.26  \n",
       "10        0        7.97  \n",
       "11        0        2.73  \n",
       "\n",
       "[5 rows x 22 columns]"
      ]
     },
     "execution_count": 38,
     "metadata": {},
     "output_type": "execute_result"
    }
   ],
   "source": [
    "df.head()"
   ]
  },
  {
   "cell_type": "code",
   "execution_count": 39,
   "metadata": {},
   "outputs": [
    {
     "data": {
      "text/plain": [
       "Index(['id', 'item_id', 'dept_id', 'cat_id', 'store_id', 'state_id', 'd',\n",
       "       'sold', 'date', 'wm_yr_wk', 'weekday', 'wday', 'month', 'year',\n",
       "       'event_name_1', 'event_type_1', 'event_name_2', 'event_type_2',\n",
       "       'snap_CA', 'snap_TX', 'snap_WI', 'sell_price'],\n",
       "      dtype='object')"
      ]
     },
     "execution_count": 39,
     "metadata": {},
     "output_type": "execute_result"
    }
   ],
   "source": [
    "df.columns"
   ]
  },
  {
   "cell_type": "code",
   "execution_count": 40,
   "metadata": {},
   "outputs": [
    {
     "data": {
      "text/html": [
       "<div>\n",
       "<style scoped>\n",
       "    .dataframe tbody tr th:only-of-type {\n",
       "        vertical-align: middle;\n",
       "    }\n",
       "\n",
       "    .dataframe tbody tr th {\n",
       "        vertical-align: top;\n",
       "    }\n",
       "\n",
       "    .dataframe thead th {\n",
       "        text-align: right;\n",
       "    }\n",
       "</style>\n",
       "<table border=\"1\" class=\"dataframe\">\n",
       "  <thead>\n",
       "    <tr style=\"text-align: right;\">\n",
       "      <th></th>\n",
       "      <th>sold</th>\n",
       "      <th>wm_yr_wk</th>\n",
       "      <th>wday</th>\n",
       "      <th>month</th>\n",
       "      <th>year</th>\n",
       "      <th>snap_CA</th>\n",
       "      <th>snap_TX</th>\n",
       "      <th>snap_WI</th>\n",
       "      <th>sell_price</th>\n",
       "    </tr>\n",
       "  </thead>\n",
       "  <tbody>\n",
       "    <tr>\n",
       "      <td>count</td>\n",
       "      <td>6.392217e+06</td>\n",
       "      <td>6.392217e+06</td>\n",
       "      <td>6.392217e+06</td>\n",
       "      <td>6.392217e+06</td>\n",
       "      <td>6.392217e+06</td>\n",
       "      <td>6.392217e+06</td>\n",
       "      <td>6.392217e+06</td>\n",
       "      <td>6.392217e+06</td>\n",
       "      <td>6.392217e+06</td>\n",
       "    </tr>\n",
       "    <tr>\n",
       "      <td>mean</td>\n",
       "      <td>1.704536e+00</td>\n",
       "      <td>1.118478e+04</td>\n",
       "      <td>3.991418e+00</td>\n",
       "      <td>6.692880e+00</td>\n",
       "      <td>2.011650e+03</td>\n",
       "      <td>3.264026e-01</td>\n",
       "      <td>3.273687e-01</td>\n",
       "      <td>3.274349e-01</td>\n",
       "      <td>4.336784e+00</td>\n",
       "    </tr>\n",
       "    <tr>\n",
       "      <td>std</td>\n",
       "      <td>5.397050e+00</td>\n",
       "      <td>5.196915e+01</td>\n",
       "      <td>2.002126e+00</td>\n",
       "      <td>3.471880e+00</td>\n",
       "      <td>5.651215e-01</td>\n",
       "      <td>4.688965e-01</td>\n",
       "      <td>4.692531e-01</td>\n",
       "      <td>4.692774e-01</td>\n",
       "      <td>3.188811e+00</td>\n",
       "    </tr>\n",
       "    <tr>\n",
       "      <td>min</td>\n",
       "      <td>0.000000e+00</td>\n",
       "      <td>1.110100e+04</td>\n",
       "      <td>1.000000e+00</td>\n",
       "      <td>1.000000e+00</td>\n",
       "      <td>2.011000e+03</td>\n",
       "      <td>0.000000e+00</td>\n",
       "      <td>0.000000e+00</td>\n",
       "      <td>0.000000e+00</td>\n",
       "      <td>1.000000e-02</td>\n",
       "    </tr>\n",
       "    <tr>\n",
       "      <td>25%</td>\n",
       "      <td>0.000000e+00</td>\n",
       "      <td>1.113200e+04</td>\n",
       "      <td>2.000000e+00</td>\n",
       "      <td>4.000000e+00</td>\n",
       "      <td>2.011000e+03</td>\n",
       "      <td>0.000000e+00</td>\n",
       "      <td>0.000000e+00</td>\n",
       "      <td>0.000000e+00</td>\n",
       "      <td>2.080000e+00</td>\n",
       "    </tr>\n",
       "    <tr>\n",
       "      <td>50%</td>\n",
       "      <td>0.000000e+00</td>\n",
       "      <td>1.120800e+04</td>\n",
       "      <td>4.000000e+00</td>\n",
       "      <td>7.000000e+00</td>\n",
       "      <td>2.012000e+03</td>\n",
       "      <td>0.000000e+00</td>\n",
       "      <td>0.000000e+00</td>\n",
       "      <td>0.000000e+00</td>\n",
       "      <td>3.470000e+00</td>\n",
       "    </tr>\n",
       "    <tr>\n",
       "      <td>75%</td>\n",
       "      <td>2.000000e+00</td>\n",
       "      <td>1.123100e+04</td>\n",
       "      <td>6.000000e+00</td>\n",
       "      <td>1.000000e+01</td>\n",
       "      <td>2.012000e+03</td>\n",
       "      <td>1.000000e+00</td>\n",
       "      <td>1.000000e+00</td>\n",
       "      <td>1.000000e+00</td>\n",
       "      <td>5.840000e+00</td>\n",
       "    </tr>\n",
       "    <tr>\n",
       "      <td>max</td>\n",
       "      <td>6.930000e+02</td>\n",
       "      <td>1.130100e+04</td>\n",
       "      <td>7.000000e+00</td>\n",
       "      <td>1.200000e+01</td>\n",
       "      <td>2.013000e+03</td>\n",
       "      <td>1.000000e+00</td>\n",
       "      <td>1.000000e+00</td>\n",
       "      <td>1.000000e+00</td>\n",
       "      <td>6.146000e+01</td>\n",
       "    </tr>\n",
       "  </tbody>\n",
       "</table>\n",
       "</div>"
      ],
      "text/plain": [
       "               sold      wm_yr_wk          wday         month          year  \\\n",
       "count  6.392217e+06  6.392217e+06  6.392217e+06  6.392217e+06  6.392217e+06   \n",
       "mean   1.704536e+00  1.118478e+04  3.991418e+00  6.692880e+00  2.011650e+03   \n",
       "std    5.397050e+00  5.196915e+01  2.002126e+00  3.471880e+00  5.651215e-01   \n",
       "min    0.000000e+00  1.110100e+04  1.000000e+00  1.000000e+00  2.011000e+03   \n",
       "25%    0.000000e+00  1.113200e+04  2.000000e+00  4.000000e+00  2.011000e+03   \n",
       "50%    0.000000e+00  1.120800e+04  4.000000e+00  7.000000e+00  2.012000e+03   \n",
       "75%    2.000000e+00  1.123100e+04  6.000000e+00  1.000000e+01  2.012000e+03   \n",
       "max    6.930000e+02  1.130100e+04  7.000000e+00  1.200000e+01  2.013000e+03   \n",
       "\n",
       "            snap_CA       snap_TX       snap_WI    sell_price  \n",
       "count  6.392217e+06  6.392217e+06  6.392217e+06  6.392217e+06  \n",
       "mean   3.264026e-01  3.273687e-01  3.274349e-01  4.336784e+00  \n",
       "std    4.688965e-01  4.692531e-01  4.692774e-01  3.188811e+00  \n",
       "min    0.000000e+00  0.000000e+00  0.000000e+00  1.000000e-02  \n",
       "25%    0.000000e+00  0.000000e+00  0.000000e+00  2.080000e+00  \n",
       "50%    0.000000e+00  0.000000e+00  0.000000e+00  3.470000e+00  \n",
       "75%    1.000000e+00  1.000000e+00  1.000000e+00  5.840000e+00  \n",
       "max    1.000000e+00  1.000000e+00  1.000000e+00  6.146000e+01  "
      ]
     },
     "execution_count": 40,
     "metadata": {},
     "output_type": "execute_result"
    }
   ],
   "source": [
    "df.describe()"
   ]
  },
  {
   "cell_type": "code",
   "execution_count": 41,
   "metadata": {},
   "outputs": [
    {
     "name": "stdout",
     "output_type": "stream",
     "text": [
      "<class 'pandas.core.frame.DataFrame'>\n",
      "Int64Index: 6392217 entries, 3 to 10949999\n",
      "Data columns (total 22 columns):\n",
      "id              object\n",
      "item_id         object\n",
      "dept_id         object\n",
      "cat_id          object\n",
      "store_id        object\n",
      "state_id        object\n",
      "d               object\n",
      "sold            int64\n",
      "date            object\n",
      "wm_yr_wk        int64\n",
      "weekday         object\n",
      "wday            int64\n",
      "month           int64\n",
      "year            int64\n",
      "event_name_1    object\n",
      "event_type_1    object\n",
      "event_name_2    object\n",
      "event_type_2    object\n",
      "snap_CA         int64\n",
      "snap_TX         int64\n",
      "snap_WI         int64\n",
      "sell_price      float64\n",
      "dtypes: float64(1), int64(8), object(13)\n",
      "memory usage: 1.1+ GB\n"
     ]
    }
   ],
   "source": [
    "df.info()"
   ]
  },
  {
   "cell_type": "code",
   "execution_count": 42,
   "metadata": {},
   "outputs": [
    {
     "name": "stdout",
     "output_type": "stream",
     "text": [
      "Percentage of products that are not on sale:  0.0\n"
     ]
    }
   ],
   "source": [
    "#These are likely seasonal products, such as xmas trees, or brussel sprouts\n",
    "print(\"Percentage of products that are not on sale: \", df['sell_price'].isna().sum() / len(df['sell_price']) * 100)"
   ]
  },
  {
   "cell_type": "code",
   "execution_count": 19,
   "metadata": {},
   "outputs": [],
   "source": [
    "#Function for plotting time series over a group in the data\n",
    "def GroupTimeSeriesPlot(by):\n",
    "    group = df[[by,'d','sold']].groupby([by,'d'], as_index=False).sum()\n",
    "    days = np.array(list(range(1, 731)))\n",
    "\n",
    "    for cat in np.unique(group[by]):\n",
    "        category = np.array(group[group[by]==cat]['sold'])\n",
    "        plt.plot(days, category, label=cat)\n",
    "        plt.legend()\n",
    "\n",
    "    plt.xlabel('Day')\n",
    "    plt.ylabel('Items Sold')\n",
    "    plt.title('Time Series Plot of Items Sold')\n",
    "    plt.show()"
   ]
  },
  {
   "cell_type": "code",
   "execution_count": 20,
   "metadata": {},
   "outputs": [
    {
     "data": {
      "image/png": "[encoded data removed]",
      "text/plain": [
       "<Figure size 432x288 with 1 Axes>"
      ]
     },
     "metadata": {
      "needs_background": "light"
     },
     "output_type": "display_data"
    }
   ],
   "source": [
    "###Finding yearly trends for different product categories\n",
    "GroupTimeSeriesPlot(by='cat_id')"
   ]
  },
  {
   "cell_type": "code",
   "execution_count": 21,
   "metadata": {},
   "outputs": [
    {
     "data": {
      "image/png": "[encoded data removed]",
      "text/plain": [
       "<Figure size 432x288 with 1 Axes>"
      ]
     },
     "metadata": {
      "needs_background": "light"
     },
     "output_type": "display_data"
    }
   ],
   "source": [
    "#Time series by state\n",
    "GroupTimeSeriesPlot(by='state_id')"
   ]
  },
  {
   "cell_type": "code",
   "execution_count": 43,
   "metadata": {},
   "outputs": [],
   "source": [
    "#Create the dataframe with dropped items when they are not on sale\n",
    "df = hf.meltM5(sales_df, days = 730, items = 15000)\n",
    "df = hf.joinDataSets(df, calendar, price_df, dropPriceNA=True)"
   ]
  },
  {
   "cell_type": "code",
   "execution_count": 71,
   "metadata": {
    "scrolled": true
   },
   "outputs": [
    {
     "data": {
      "image/png": "[encoded data removed]",
      "text/plain": [
       "<Figure size 432x288 with 1 Axes>"
      ]
     },
     "metadata": {
      "needs_background": "light"
     },
     "output_type": "display_data"
    }
   ],
   "source": [
    "#Mean number of sales per item by day\n",
    "cats = [ 'Monday', 'Tuesday', 'Wednesday', 'Thursday', 'Friday', 'Saturday', 'Sunday']\n",
    "days = df[['sold','weekday']].groupby(['weekday']).mean().reindex(cats) \n",
    "plt.bar(days.index, days['sold'])\n",
    "plt.ylabel('Mean Items Sold')\n",
    "plt.title('Average number of each item sold by day')\n",
    "plt.show()"
   ]
  },
  {
   "cell_type": "code",
   "execution_count": 93,
   "metadata": {},
   "outputs": [
    {
     "data": {
      "image/png": "[encoded data removed]",
      "text/plain": [
       "<Figure size 432x288 with 1 Axes>"
      ]
     },
     "metadata": {
      "needs_background": "light"
     },
     "output_type": "display_data"
    }
   ],
   "source": [
    "#Mean number of sales per item by month\n",
    "months = df[['sold','month']].groupby(['month']).mean()\n",
    "plt.bar(months.index, months['sold'])\n",
    "plt.ylabel('Mean Items Sold')\n",
    "plt.title('Average number of each item sold by month')\n",
    "plt.show()"
   ]
  },
  {
   "cell_type": "code",
   "execution_count": 81,
   "metadata": {},
   "outputs": [
    {
     "data": {
      "image/png": "[encoded data removed]",
      "text/plain": [
       "<Figure size 720x288 with 2 Axes>"
      ]
     },
     "metadata": {
      "needs_background": "light"
     },
     "output_type": "display_data"
    }
   ],
   "source": [
    "#Histogram of item sell prices\n",
    "fig, ax = plt.subplots(nrows=1, ncols=2, figsize=(10, 4))\n",
    "ax[0].hist(df['sell_price'])\n",
    "ax[1].hist(np.log(df['sell_price']))\n",
    "ax[0].set_xlabel('Sell Price')\n",
    "ax[1].set_xlabel('log(Sell Price)')\n",
    "plt.tight_layout()\n",
    "plt.show()"
   ]
  },
  {
   "cell_type": "code",
   "execution_count": 86,
   "metadata": {},
   "outputs": [
    {
     "data": {
      "image/png": "[encoded data removed]",
      "text/plain": [
       "<Figure size 720x288 with 2 Axes>"
      ]
     },
     "metadata": {
      "needs_background": "light"
     },
     "output_type": "display_data"
    }
   ],
   "source": [
    "#Histogram of number of items sold\n",
    "#Had to plus 1 because several values are zero\n",
    "fig, ax = plt.subplots(nrows=1, ncols=2, figsize=(10, 4))\n",
    "ax[0].hist(df['sold'])\n",
    "ax[1].hist(np.log(1 + df['sold']))\n",
    "ax[0].set_xlabel('Number Sold')\n",
    "ax[1].set_xlabel('log(Number Sold + 1)')\n",
    "plt.tight_layout()\n",
    "plt.show()"
   ]
  },
  {
   "cell_type": "markdown",
   "metadata": {},
   "source": [
    "# Analysing Events"
   ]
  },
  {
   "cell_type": "code",
   "execution_count": 102,
   "metadata": {},
   "outputs": [
    {
     "data": {
      "text/plain": [
       "array(['Chanukah End', 'Christmas', 'Cinco De Mayo', 'ColumbusDay',\n",
       "       'Easter', 'Eid al-Fitr', 'EidAlAdha', \"Father's day\", 'Halloween',\n",
       "       'IndependenceDay', 'LaborDay', 'LentStart', 'LentWeek2',\n",
       "       'MartinLutherKingDay', 'MemorialDay', \"Mother's day\",\n",
       "       'NBAFinalsEnd', 'NBAFinalsStart', 'NewYear', 'OrthodoxChristmas',\n",
       "       'OrthodoxEaster', 'Pesach End', 'PresidentsDay', 'Purim End',\n",
       "       'Ramadan starts', 'StPatricksDay', 'SuperBowl', 'Thanksgiving',\n",
       "       'ValentinesDay', 'VeteransDay', 'nan'], dtype=object)"
      ]
     },
     "execution_count": 102,
     "metadata": {},
     "output_type": "execute_result"
    }
   ],
   "source": [
    "np.unique(df['event_name_1'].astype(str))"
   ]
  },
  {
   "cell_type": "code",
   "execution_count": 106,
   "metadata": {},
   "outputs": [
    {
     "data": {
      "text/plain": [
       "array(['Cultural', 'National', 'Religious', 'Sporting', 'nan'],\n",
       "      dtype=object)"
      ]
     },
     "execution_count": 106,
     "metadata": {},
     "output_type": "execute_result"
    }
   ],
   "source": [
    "np.unique(df['event_type_1'].astype(str))"
   ]
  },
  {
   "cell_type": "code",
   "execution_count": 107,
   "metadata": {},
   "outputs": [
    {
     "data": {
      "text/plain": [
       "array(['Easter', 'nan'], dtype=object)"
      ]
     },
     "execution_count": 107,
     "metadata": {},
     "output_type": "execute_result"
    }
   ],
   "source": [
    "np.unique(df['event_name_2'].astype(str))"
   ]
  },
  {
   "cell_type": "code",
   "execution_count": 108,
   "metadata": {},
   "outputs": [
    {
     "data": {
      "text/plain": [
       "array(['Cultural', 'nan'], dtype=object)"
      ]
     },
     "execution_count": 108,
     "metadata": {},
     "output_type": "execute_result"
    }
   ],
   "source": [
    "np.unique(df['event_type_2'].astype(str))"
   ]
  },
  {
   "cell_type": "code",
   "execution_count": 110,
   "metadata": {},
   "outputs": [
    {
     "data": {
      "text/plain": [
       "nan                    5846968\n",
       "MartinLutherKingDay      19259\n",
       "OrthodoxChristmas        19125\n",
       "NewYear                  19027\n",
       "Christmas                18967\n",
       "Chanukah End             18947\n",
       "Thanksgiving             18754\n",
       "VeteransDay              18709\n",
       "Halloween                18639\n",
       "EidAlAdha                18575\n",
       "ColumbusDay              18360\n",
       "LaborDay                 18093\n",
       "Eid al-Fitr              17998\n",
       "Ramadan starts           17605\n",
       "IndependenceDay          17315\n",
       "Father's day             17155\n",
       "NBAFinalsEnd             17133\n",
       "NBAFinalsStart           17043\n",
       "MemorialDay              16994\n",
       "Mother's day             16795\n",
       "Cinco De Mayo            16682\n",
       "Pesach End               16357\n",
       "OrthodoxEaster           16357\n",
       "StPatricksDay            15717\n",
       "Purim End                15671\n",
       "LentWeek2                15469\n",
       "LentStart                15266\n",
       "PresidentsDay            14987\n",
       "ValentinesDay            14776\n",
       "SuperBowl                14402\n",
       "Easter                    9143\n",
       "Name: event_name_1, dtype: int64"
      ]
     },
     "execution_count": 110,
     "metadata": {},
     "output_type": "execute_result"
    }
   ],
   "source": [
    "df['event_name_1'].astype(str).value_counts()"
   ]
  },
  {
   "cell_type": "code",
   "execution_count": 109,
   "metadata": {},
   "outputs": [
    {
     "data": {
      "text/plain": [
       "nan          5846968\n",
       "National      180465\n",
       "Religious     171370\n",
       "Cultural      108907\n",
       "Sporting       48578\n",
       "Name: event_type_1, dtype: int64"
      ]
     },
     "execution_count": 109,
     "metadata": {},
     "output_type": "execute_result"
    }
   ],
   "source": [
    "df['event_type_1'].astype(str).value_counts()"
   ]
  },
  {
   "cell_type": "code",
   "execution_count": null,
   "metadata": {},
   "outputs": [],
   "source": []
  }
 ],
 "metadata": {
  "kernelspec": {
   "display_name": "Python 3",
   "language": "python",
   "name": "python3"
  },
  "language_info": {
   "codemirror_mode": {
    "name": "ipython",
    "version": 3
   },
   "file_extension": ".py",
   "mimetype": "text/x-python",
   "name": "python",
   "nbconvert_exporter": "python",
   "pygments_lexer": "ipython3",
   "version": "3.7.4"
  }
 },
 "nbformat": 4,
 "nbformat_minor": 4
}
