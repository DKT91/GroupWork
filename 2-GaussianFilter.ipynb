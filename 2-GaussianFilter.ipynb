{
 "cells": [
  {
   "cell_type": "markdown",
   "metadata": {},
   "source": [
    "# Import Library"
   ]
  },
  {
   "cell_type": "code",
   "execution_count": 1,
   "metadata": {},
   "outputs": [],
   "source": [
    "import os\n",
    "import cv2\n",
    "import numpy as np\n",
    "import pandas as pd\n",
    "import matplotlib.pyplot as plt\n",
    "import matplotlib.image as mpimg\n",
    "from skimage import transform\n",
    "from skimage import io\n",
    "import tensorflow as tf\n",
    "from tensorflow.keras import datasets, layers, models"
   ]
  },
  {
   "cell_type": "markdown",
   "metadata": {},
   "source": [
    "# Load Image File"
   ]
  },
  {
   "cell_type": "markdown",
   "metadata": {},
   "source": [
    "## Train Image"
   ]
  },
  {
   "cell_type": "code",
   "execution_count": 2,
   "metadata": {},
   "outputs": [],
   "source": [
    "def loadTrainImages(path='data/Train'):\n",
    "    classes = [ g for g in os.listdir(path) if os.path.isdir(path + '/' + g)]\n",
    "\n",
    "    images = []\n",
    "    labels = []\n",
    "\n",
    "    for classid in classes:\n",
    "        image_class_path = os.path.join(path, classid)\n",
    "\n",
    "        image_files = sorted([os.path.join(image_class_path, file)\n",
    "                 for file in os.listdir(image_class_path) if file.endswith('.png')])\n",
    "        \n",
    "        images.extend(image_files)\n",
    "        labels.extend([ int(classid) ] * len(image_files))\n",
    "\n",
    "    return np.array(images), np.array(labels)"
   ]
  },
  {
   "cell_type": "code",
   "execution_count": 3,
   "metadata": {},
   "outputs": [
    {
     "data": {
      "text/plain": [
       "((39209,), (39209,))"
      ]
     },
     "execution_count": 3,
     "metadata": {},
     "output_type": "execute_result"
    }
   ],
   "source": [
    "train_image, y_train = loadTrainImages()\n",
    "\n",
    "train_image.shape, y_train.shape"
   ]
  },
  {
   "cell_type": "markdown",
   "metadata": {},
   "source": [
    "### Test Image"
   ]
  },
  {
   "cell_type": "code",
   "execution_count": 4,
   "metadata": {},
   "outputs": [],
   "source": [
    "def loadTestImages(path='data/Test'):\n",
    "    image_files = sorted([os.path.join(path, file)\n",
    "             for file in os.listdir(path) if file.endswith('.png')])\n",
    "\n",
    "    return np.array(image_files)"
   ]
  },
  {
   "cell_type": "code",
   "execution_count": 5,
   "metadata": {},
   "outputs": [],
   "source": [
    "test_image = loadTestImages()"
   ]
  },
  {
   "cell_type": "code",
   "execution_count": 6,
   "metadata": {},
   "outputs": [],
   "source": [
    "y_test = pd.read_csv(\"Data/Test.csv\").ClassId.values"
   ]
  },
  {
   "cell_type": "code",
   "execution_count": 7,
   "metadata": {},
   "outputs": [
    {
     "data": {
      "text/plain": [
       "((12630,), (12630,))"
      ]
     },
     "execution_count": 7,
     "metadata": {},
     "output_type": "execute_result"
    }
   ],
   "source": [
    "test_image.shape, y_test.shape"
   ]
  },
  {
   "cell_type": "code",
   "execution_count": null,
   "metadata": {},
   "outputs": [],
   "source": []
  },
  {
   "cell_type": "markdown",
   "metadata": {},
   "source": [
    "# Display Image"
   ]
  },
  {
   "cell_type": "code",
   "execution_count": 8,
   "metadata": {},
   "outputs": [],
   "source": [
    "# Display two image\n",
    "def displayOrigin(a, b, title1 = \"Original\", title2=\"\"):    \n",
    "    plt.subplot(121), plt.imshow(a), plt.title(title1)\n",
    "    plt.xticks([]), plt.yticks([])\n",
    "    \n",
    "    plt.subplot(122), plt.imshow(b), plt.title(title2)\n",
    "    plt.xticks([]), plt.yticks([])\n",
    "\n",
    "    plt.show()\n",
    "\n",
    "\n",
    "# Display two images\n",
    "def displayOriginGray(a, b, title1 = \"Original\", title2 = \"Grayed\"):\n",
    "    plt.subplot(121), plt.imshow(a), plt.title(title1)\n",
    "    plt.xticks([]), plt.yticks([])\n",
    "\n",
    "    plt.subplot(122), plt.imshow(b, cmap='gray'), plt.title(title2)\n",
    "    plt.xticks([]), plt.yticks([])\n",
    "    plt.show()\n",
    "\n",
    "\n",
    "def displayBothGray(a, b, title1 = \"Grayed\", title2 = \"Grayed\"):\n",
    "    plt.subplot(121), plt.imshow(a, cmap='gray'), plt.title(title1)\n",
    "    plt.xticks([]), plt.yticks([])\n",
    "\n",
    "    plt.subplot(122), plt.imshow(b, cmap='gray'), plt.title(title2)\n",
    "    plt.xticks([]), plt.yticks([])\n",
    "    plt.show()"
   ]
  },
  {
   "cell_type": "markdown",
   "metadata": {},
   "source": [
    "# P1: Grayscale"
   ]
  },
  {
   "cell_type": "markdown",
   "metadata": {},
   "source": [
    "### Random Image"
   ]
  },
  {
   "cell_type": "code",
   "execution_count": 33,
   "metadata": {},
   "outputs": [],
   "source": [
    "random_image_file = train_image[800]\n",
    "\n",
    "random_image = cv2.imread(random_image_file)"
   ]
  },
  {
   "cell_type": "code",
   "execution_count": 34,
   "metadata": {},
   "outputs": [
    {
     "data": {
      "image/png": "[encoded data removed]",
      "text/plain": [
       "<Figure size 432x288 with 2 Axes>"
      ]
     },
     "metadata": {},
     "output_type": "display_data"
    },
    {
     "data": {
      "text/plain": [
       "((42, 41, 3), (42, 41))"
      ]
     },
     "execution_count": 34,
     "metadata": {},
     "output_type": "execute_result"
    }
   ],
   "source": [
    "random_image_gray = cv2.cvtColor(random_image, cv2.COLOR_BGR2GRAY)\n",
    "\n",
    "displayOriginGray(random_image, random_image_gray)\n",
    "\n",
    "random_image.shape, random_image_gray.shape"
   ]
  },
  {
   "cell_type": "code",
   "execution_count": null,
   "metadata": {},
   "outputs": [],
   "source": []
  },
  {
   "cell_type": "markdown",
   "metadata": {},
   "source": [
    "### RGB2Gray"
   ]
  },
  {
   "cell_type": "code",
   "execution_count": 24,
   "metadata": {},
   "outputs": [],
   "source": [
    "def color2gray(images):\n",
    "    im_ar=[]\n",
    "\n",
    "    for im in images:\n",
    "        image = cv2.imread(im)\n",
    "\n",
    "        gray = cv2.cvtColor(image, cv2.COLOR_BGR2GRAY)\n",
    "        \n",
    "        im = transform.resize(gray, (32, 32))\n",
    "        im_ar.append(im)\n",
    "\n",
    "    return np.asarray(im_ar)"
   ]
  },
  {
   "cell_type": "code",
   "execution_count": 32,
   "metadata": {},
   "outputs": [],
   "source": [
    "# X_train_gray = color2gray(train_image)\n",
    "# np.save('train_gray.npy', X_train_gray)"
   ]
  },
  {
   "cell_type": "code",
   "execution_count": 41,
   "metadata": {},
   "outputs": [
    {
     "data": {
      "text/plain": [
       "((39209, 32, 32), (39209,))"
      ]
     },
     "execution_count": 41,
     "metadata": {},
     "output_type": "execute_result"
    }
   ],
   "source": [
    "X_train_gray.shape, y_train.shape"
   ]
  },
  {
   "cell_type": "code",
   "execution_count": null,
   "metadata": {},
   "outputs": [],
   "source": []
  },
  {
   "cell_type": "code",
   "execution_count": 42,
   "metadata": {},
   "outputs": [],
   "source": [
    "# X_test_gray = color2gray(test_image)\n",
    "# np.save('test_gray.npy', X_gray_train)"
   ]
  },
  {
   "cell_type": "code",
   "execution_count": 43,
   "metadata": {},
   "outputs": [
    {
     "data": {
      "text/plain": [
       "((12630, 32, 32), (12630,))"
      ]
     },
     "execution_count": 43,
     "metadata": {},
     "output_type": "execute_result"
    }
   ],
   "source": [
    "X_test_gray.shape, y_test.shape"
   ]
  },
  {
   "cell_type": "code",
   "execution_count": null,
   "metadata": {},
   "outputs": [],
   "source": []
  },
  {
   "cell_type": "markdown",
   "metadata": {},
   "source": [
    "# P2: Remove noise"
   ]
  },
  {
   "cell_type": "code",
   "execution_count": 14,
   "metadata": {},
   "outputs": [
    {
     "data": {
      "image/png": "[encoded data removed]",
      "text/plain": [
       "<Figure size 432x288 with 2 Axes>"
      ]
     },
     "metadata": {},
     "output_type": "display_data"
    },
    {
     "data": {
      "image/png": "[encoded data removed]",
      "text/plain": [
       "<Figure size 432x288 with 2 Axes>"
      ]
     },
     "metadata": {},
     "output_type": "display_data"
    }
   ],
   "source": [
    "random_image_blur = cv2.GaussianBlur(random_image, (5, 5), 0)\n",
    "displayOrigin(random_image, random_image_blur, title1='Original', title2='Blur')\n",
    "\n",
    "\n",
    "random_image_gray = cv2.cvtColor(random_image, cv2.COLOR_BGR2GRAY)\n",
    "random_image_gray_blur = cv2.GaussianBlur(random_image_gray, (5, 5), 0)\n",
    "displayBothGray(random_image_gray, random_image_gray_blur, title1='Grayed', title2='Blur')"
   ]
  },
  {
   "cell_type": "markdown",
   "metadata": {},
   "source": [
    "### Blur - Original Image"
   ]
  },
  {
   "cell_type": "code",
   "execution_count": 57,
   "metadata": {},
   "outputs": [],
   "source": [
    "def blurOriginal(image):\n",
    "    ims=[]\n",
    "\n",
    "    for im in image:\n",
    "        blur = cv2.GaussianBlur(cv2.imread(im), (5, 5), 0)\n",
    "        blur = transform.resize(blur, (32, 32))\n",
    "        ims.append(blur)\n",
    "\n",
    "    return np.asarray(ims)"
   ]
  },
  {
   "cell_type": "markdown",
   "metadata": {},
   "source": [
    "#### Train"
   ]
  },
  {
   "cell_type": "code",
   "execution_count": 58,
   "metadata": {},
   "outputs": [],
   "source": [
    "X_train_original_blur = blurOriginal(train_image)\n",
    "\n",
    "# np.save('train_origin_blur.npy', X_train_original_blur)"
   ]
  },
  {
   "cell_type": "code",
   "execution_count": null,
   "metadata": {},
   "outputs": [],
   "source": []
  },
  {
   "cell_type": "code",
   "execution_count": 87,
   "metadata": {},
   "outputs": [
    {
     "data": {
      "text/plain": [
       "((39209, 32, 32, 3), (39209,))"
      ]
     },
     "execution_count": 87,
     "metadata": {},
     "output_type": "execute_result"
    }
   ],
   "source": [
    "X_train_original_blur.shape, y_train.shape"
   ]
  },
  {
   "cell_type": "markdown",
   "metadata": {},
   "source": [
    "#### Test"
   ]
  },
  {
   "cell_type": "code",
   "execution_count": 62,
   "metadata": {},
   "outputs": [],
   "source": [
    "X_test_original_blur = blurOriginal(test_image)\n",
    "\n",
    "# np.save('test_origin_blur.npy', X_test_original_blur)"
   ]
  },
  {
   "cell_type": "code",
   "execution_count": null,
   "metadata": {},
   "outputs": [],
   "source": []
  },
  {
   "cell_type": "code",
   "execution_count": 88,
   "metadata": {},
   "outputs": [
    {
     "data": {
      "text/plain": [
       "((12630, 32, 32, 3), (12630,))"
      ]
     },
     "execution_count": 88,
     "metadata": {},
     "output_type": "execute_result"
    }
   ],
   "source": [
    "X_test_original_blur.shape, y_test.shape"
   ]
  },
  {
   "cell_type": "markdown",
   "metadata": {},
   "source": [
    "### Blur - Grayed Image"
   ]
  },
  {
   "cell_type": "code",
   "execution_count": 77,
   "metadata": {},
   "outputs": [],
   "source": [
    "def blurGray(image):\n",
    "    ims = []\n",
    "\n",
    "    for im in image:\n",
    "        im_gray = cv2.cvtColor(cv2.imread(im), cv2.COLOR_BGR2GRAY)\n",
    "        im_blur = cv2.GaussianBlur(im_gray, (5, 5), 0)\n",
    "\n",
    "        im_blur = transform.resize(im_blur, (32, 32))\n",
    "        ims.append(im_blur)\n",
    "\n",
    "    return np.asarray(ims)"
   ]
  },
  {
   "cell_type": "markdown",
   "metadata": {},
   "source": [
    "#### train"
   ]
  },
  {
   "cell_type": "code",
   "execution_count": 78,
   "metadata": {},
   "outputs": [],
   "source": [
    "X_train_gray_blur = blurGray(train_image)\n",
    "\n",
    "# np.save('train_gray_blur.npy', X_train_gray_blur)"
   ]
  },
  {
   "cell_type": "code",
   "execution_count": 79,
   "metadata": {},
   "outputs": [
    {
     "data": {
      "text/plain": [
       "((39209, 32, 32), (39209,))"
      ]
     },
     "execution_count": 79,
     "metadata": {},
     "output_type": "execute_result"
    }
   ],
   "source": [
    "X_train_gray_blur.shape, y_train.shape"
   ]
  },
  {
   "cell_type": "code",
   "execution_count": null,
   "metadata": {},
   "outputs": [],
   "source": []
  },
  {
   "cell_type": "markdown",
   "metadata": {},
   "source": [
    "#### test"
   ]
  },
  {
   "cell_type": "code",
   "execution_count": 80,
   "metadata": {},
   "outputs": [],
   "source": [
    "X_test_gray_blur = blurGray(test_image)\n",
    "\n",
    "# np.save('test_gray_blur.npy', X_test_gray_blur)"
   ]
  },
  {
   "cell_type": "code",
   "execution_count": 81,
   "metadata": {},
   "outputs": [
    {
     "data": {
      "text/plain": [
       "((12630, 32, 32), (12630,))"
      ]
     },
     "execution_count": 81,
     "metadata": {},
     "output_type": "execute_result"
    }
   ],
   "source": [
    "X_test_gray_blur.shape, y_test.shape"
   ]
  },
  {
   "cell_type": "code",
   "execution_count": null,
   "metadata": {},
   "outputs": [],
   "source": []
  },
  {
   "cell_type": "markdown",
   "metadata": {},
   "source": [
    "# Tensorflow"
   ]
  },
  {
   "cell_type": "code",
   "execution_count": 83,
   "metadata": {},
   "outputs": [],
   "source": [
    "model = models.Sequential()\n",
    "model.add(layers.Conv2D(8, (3, 3), activation='relu', input_shape=(32, 32, 3)))\n",
    "model.add(layers.MaxPooling2D((2, 2)))\n",
    "model.add(layers.Conv2D(16, (3, 3), activation='relu'))\n",
    "model.add(layers.MaxPooling2D((2, 2)))\n",
    "model.add(layers.Conv2D(16, (3, 3), activation='relu'))"
   ]
  },
  {
   "cell_type": "code",
   "execution_count": 84,
   "metadata": {},
   "outputs": [],
   "source": [
    "model.add(layers.Flatten())\n",
    "model.add(layers.Dense(64, activation='relu'))\n",
    "model.add(layers.Dense(43))"
   ]
  },
  {
   "cell_type": "code",
   "execution_count": 85,
   "metadata": {},
   "outputs": [
    {
     "name": "stdout",
     "output_type": "stream",
     "text": [
      "Model: \"sequential_1\"\n",
      "_________________________________________________________________\n",
      "Layer (type)                 Output Shape              Param #   \n",
      "=================================================================\n",
      "conv2d_3 (Conv2D)            (None, 30, 30, 8)         224       \n",
      "_________________________________________________________________\n",
      "max_pooling2d_2 (MaxPooling2 (None, 15, 15, 8)         0         \n",
      "_________________________________________________________________\n",
      "conv2d_4 (Conv2D)            (None, 13, 13, 16)        1168      \n",
      "_________________________________________________________________\n",
      "max_pooling2d_3 (MaxPooling2 (None, 6, 6, 16)          0         \n",
      "_________________________________________________________________\n",
      "conv2d_5 (Conv2D)            (None, 4, 4, 16)          2320      \n",
      "_________________________________________________________________\n",
      "flatten_1 (Flatten)          (None, 256)               0         \n",
      "_________________________________________________________________\n",
      "dense_2 (Dense)              (None, 64)                16448     \n",
      "_________________________________________________________________\n",
      "dense_3 (Dense)              (None, 43)                2795      \n",
      "=================================================================\n",
      "Total params: 22,955\n",
      "Trainable params: 22,955\n",
      "Non-trainable params: 0\n",
      "_________________________________________________________________\n"
     ]
    }
   ],
   "source": [
    "model.summary()"
   ]
  },
  {
   "cell_type": "markdown",
   "metadata": {},
   "source": [
    "### Learning - Blured Original Image"
   ]
  },
  {
   "cell_type": "code",
   "execution_count": 70,
   "metadata": {},
   "outputs": [
    {
     "name": "stdout",
     "output_type": "stream",
     "text": [
      "Epoch 1/10\n",
      "1226/1226 [==============================] - 25s 21ms/step - loss: 1.4768 - accuracy: 0.6053 - val_loss: 0.9017 - val_accuracy: 0.7793\n",
      "Epoch 2/10\n",
      "1226/1226 [==============================] - 25s 20ms/step - loss: 0.4358 - accuracy: 0.8828 - val_loss: 0.7343 - val_accuracy: 0.8340\n",
      "Epoch 3/10\n",
      "1226/1226 [==============================] - 24s 20ms/step - loss: 0.2736 - accuracy: 0.9262 - val_loss: 0.7343 - val_accuracy: 0.8437\n",
      "Epoch 4/10\n",
      "1226/1226 [==============================] - 26s 22ms/step - loss: 0.2041 - accuracy: 0.9452 - val_loss: 0.6844 - val_accuracy: 0.8667\n",
      "Epoch 5/10\n",
      "1226/1226 [==============================] - 25s 20ms/step - loss: 0.1583 - accuracy: 0.9575 - val_loss: 0.6620 - val_accuracy: 0.8801\n",
      "Epoch 6/10\n",
      "1226/1226 [==============================] - 24s 19ms/step - loss: 0.1297 - accuracy: 0.9660 - val_loss: 0.6811 - val_accuracy: 0.8747\n",
      "Epoch 7/10\n",
      "1226/1226 [==============================] - 25s 20ms/step - loss: 0.1090 - accuracy: 0.9695 - val_loss: 0.6828 - val_accuracy: 0.8869\n",
      "Epoch 8/10\n",
      "1226/1226 [==============================] - 23s 19ms/step - loss: 0.0916 - accuracy: 0.9746 - val_loss: 0.6903 - val_accuracy: 0.8926\n",
      "Epoch 9/10\n",
      "1226/1226 [==============================] - 24s 20ms/step - loss: 0.0821 - accuracy: 0.9770 - val_loss: 0.7693 - val_accuracy: 0.8926\n",
      "Epoch 10/10\n",
      "1226/1226 [==============================] - 24s 19ms/step - loss: 0.0663 - accuracy: 0.9810 - val_loss: 0.7319 - val_accuracy: 0.8976\n"
     ]
    }
   ],
   "source": [
    "model.compile(optimizer='adam',\n",
    "              loss=tf.keras.losses.SparseCategoricalCrossentropy(from_logits=True),\n",
    "              metrics=['accuracy'])\n",
    "\n",
    "history = model.fit(X_train_original_blur, y_train, epochs=10,validation_data=(X_test_original_blur, y_test))\n"
   ]
  },
  {
   "cell_type": "code",
   "execution_count": 71,
   "metadata": {
    "scrolled": true
   },
   "outputs": [
    {
     "name": "stdout",
     "output_type": "stream",
     "text": [
      "395/395 - 2s - loss: 0.7319 - accuracy: 0.8976\n"
     ]
    },
    {
     "data": {
      "image/png": "[encoded data removed]",
      "text/plain": [
       "<Figure size 432x288 with 1 Axes>"
      ]
     },
     "metadata": {
      "needs_background": "light"
     },
     "output_type": "display_data"
    }
   ],
   "source": [
    "plt.plot(history.history['accuracy'], label='accuracy')\n",
    "plt.plot(history.history['val_accuracy'], label = 'val_accuracy')\n",
    "plt.xlabel('Epoch')\n",
    "plt.ylabel('Accuracy')\n",
    "plt.ylim([0.5, 1])\n",
    "plt.legend(loc='lower right')\n",
    "\n",
    "test_loss, test_acc = model.evaluate(X_test_original_blur,  y_test, verbose=2)"
   ]
  },
  {
   "cell_type": "markdown",
   "metadata": {},
   "source": [
    "### Learning - Blured Grayed Image"
   ]
  },
  {
   "cell_type": "code",
   "execution_count": 90,
   "metadata": {},
   "outputs": [],
   "source": [
    "X_train_gray_blur1 = X_train_gray_blur[:, :, :, np.newaxis]\n",
    "\n",
    "X_test_gray_blur1 = X_test_gray_blur[:, :, :, np.newaxis]\n"
   ]
  },
  {
   "cell_type": "code",
   "execution_count": 91,
   "metadata": {},
   "outputs": [],
   "source": [
    "model = models.Sequential()\n",
    "model.add(layers.Conv2D(8, (3, 3), activation='relu', input_shape=(32, 32, 1)))\n",
    "model.add(layers.MaxPooling2D((2, 2)))\n",
    "model.add(layers.Conv2D(16, (3, 3), activation='relu'))\n",
    "model.add(layers.MaxPooling2D((2, 2)))\n",
    "model.add(layers.Conv2D(16, (3, 3), activation='relu'))"
   ]
  },
  {
   "cell_type": "code",
   "execution_count": 92,
   "metadata": {},
   "outputs": [],
   "source": [
    "model.add(layers.Flatten())\n",
    "model.add(layers.Dense(64, activation='relu'))\n",
    "model.add(layers.Dense(43))"
   ]
  },
  {
   "cell_type": "code",
   "execution_count": 93,
   "metadata": {},
   "outputs": [
    {
     "name": "stdout",
     "output_type": "stream",
     "text": [
      "Model: \"sequential_2\"\n",
      "_________________________________________________________________\n",
      "Layer (type)                 Output Shape              Param #   \n",
      "=================================================================\n",
      "conv2d_6 (Conv2D)            (None, 30, 30, 8)         80        \n",
      "_________________________________________________________________\n",
      "max_pooling2d_4 (MaxPooling2 (None, 15, 15, 8)         0         \n",
      "_________________________________________________________________\n",
      "conv2d_7 (Conv2D)            (None, 13, 13, 16)        1168      \n",
      "_________________________________________________________________\n",
      "max_pooling2d_5 (MaxPooling2 (None, 6, 6, 16)          0         \n",
      "_________________________________________________________________\n",
      "conv2d_8 (Conv2D)            (None, 4, 4, 16)          2320      \n",
      "_________________________________________________________________\n",
      "flatten_2 (Flatten)          (None, 256)               0         \n",
      "_________________________________________________________________\n",
      "dense_4 (Dense)              (None, 64)                16448     \n",
      "_________________________________________________________________\n",
      "dense_5 (Dense)              (None, 43)                2795      \n",
      "=================================================================\n",
      "Total params: 22,811\n",
      "Trainable params: 22,811\n",
      "Non-trainable params: 0\n",
      "_________________________________________________________________\n"
     ]
    }
   ],
   "source": [
    "model.summary()"
   ]
  },
  {
   "cell_type": "code",
   "execution_count": null,
   "metadata": {},
   "outputs": [],
   "source": []
  },
  {
   "cell_type": "code",
   "execution_count": 94,
   "metadata": {},
   "outputs": [
    {
     "name": "stdout",
     "output_type": "stream",
     "text": [
      "Epoch 1/10\n",
      "1226/1226 [==============================] - 24s 20ms/step - loss: 1.3129 - accuracy: 0.6465 - val_loss: 0.9098 - val_accuracy: 0.7973\n",
      "Epoch 2/10\n",
      "1226/1226 [==============================] - 24s 19ms/step - loss: 0.3977 - accuracy: 0.8903 - val_loss: 0.7554 - val_accuracy: 0.8434\n",
      "Epoch 3/10\n",
      "1226/1226 [==============================] - 24s 20ms/step - loss: 0.2591 - accuracy: 0.9297 - val_loss: 0.7188 - val_accuracy: 0.8606\n",
      "Epoch 4/10\n",
      "1226/1226 [==============================] - 24s 19ms/step - loss: 0.2014 - accuracy: 0.9450 - val_loss: 0.7574 - val_accuracy: 0.8638\n",
      "Epoch 5/10\n",
      "1226/1226 [==============================] - 24s 19ms/step - loss: 0.1599 - accuracy: 0.9567 - val_loss: 0.7378 - val_accuracy: 0.8756\n",
      "Epoch 6/10\n",
      "1226/1226 [==============================] - 24s 19ms/step - loss: 0.1291 - accuracy: 0.9646 - val_loss: 0.7141 - val_accuracy: 0.8830\n",
      "Epoch 7/10\n",
      "1226/1226 [==============================] - 24s 20ms/step - loss: 0.1050 - accuracy: 0.9700 - val_loss: 0.8107 - val_accuracy: 0.8754\n",
      "Epoch 8/10\n",
      "1226/1226 [==============================] - 24s 20ms/step - loss: 0.0918 - accuracy: 0.9735 - val_loss: 0.7419 - val_accuracy: 0.8776\n",
      "Epoch 9/10\n",
      "1226/1226 [==============================] - 24s 20ms/step - loss: 0.0836 - accuracy: 0.9763 - val_loss: 0.7979 - val_accuracy: 0.8807\n",
      "Epoch 10/10\n",
      "1226/1226 [==============================] - 26s 21ms/step - loss: 0.0705 - accuracy: 0.9784 - val_loss: 0.8121 - val_accuracy: 0.8972\n"
     ]
    }
   ],
   "source": [
    "model.compile(optimizer='adam',\n",
    "              loss=tf.keras.losses.SparseCategoricalCrossentropy(from_logits=True),\n",
    "              metrics=['accuracy'])\n",
    "\n",
    "history = model.fit(X_train_gray_blur1, y_train, epochs=10,validation_data=(X_test_gray_blur1, y_test))\n"
   ]
  },
  {
   "cell_type": "code",
   "execution_count": null,
   "metadata": {},
   "outputs": [],
   "source": []
  },
  {
   "cell_type": "code",
   "execution_count": 95,
   "metadata": {},
   "outputs": [
    {
     "name": "stdout",
     "output_type": "stream",
     "text": [
      "395/395 - 2s - loss: 0.8121 - accuracy: 0.8972\n"
     ]
    },
    {
     "data": {
      "image/png": "[encoded data removed]",
      "text/plain": [
       "<Figure size 432x288 with 1 Axes>"
      ]
     },
     "metadata": {
      "needs_background": "light"
     },
     "output_type": "display_data"
    }
   ],
   "source": [
    "plt.plot(history.history['accuracy'], label='accuracy')\n",
    "plt.plot(history.history['val_accuracy'], label = 'val_accuracy')\n",
    "plt.xlabel('Epoch')\n",
    "plt.ylabel('Accuracy')\n",
    "plt.ylim([0.5, 1])\n",
    "plt.legend(loc='lower right')\n",
    "\n",
    "test_loss, test_acc = model.evaluate(X_test_gray_blur1, y_test, verbose=2)"
   ]
  },
  {
   "cell_type": "code",
   "execution_count": null,
   "metadata": {},
   "outputs": [],
   "source": []
  }
 ],
 "metadata": {
  "kernelspec": {
   "display_name": "Python 3",
   "language": "python",
   "name": "python3"
  },
  "language_info": {
   "codemirror_mode": {
    "name": "ipython",
    "version": 3
   },
   "file_extension": ".py",
   "mimetype": "text/x-python",
   "name": "python",
   "nbconvert_exporter": "python",
   "pygments_lexer": "ipython3",
   "version": "3.8.3"
  }
 },
 "nbformat": 4,
 "nbformat_minor": 4
}
